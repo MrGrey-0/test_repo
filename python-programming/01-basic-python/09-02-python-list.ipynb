{
 "cells": [
  {
   "cell_type": "code",
   "execution_count": 1,
   "id": "49a0f1bd-17bd-43f4-887d-9da1df7388b9",
   "metadata": {},
   "outputs": [],
   "source": [
    "a = [1,2,3,4,5,6]"
   ]
  },
  {
   "cell_type": "code",
   "execution_count": 2,
   "id": "942a6192-b0a9-40fb-a5ec-0e015e6e16b9",
   "metadata": {},
   "outputs": [],
   "source": [
    "a.append(102)"
   ]
  },
  {
   "cell_type": "code",
   "execution_count": 3,
   "id": "a0e97663-2d1e-45a0-a7af-69e51d30fde6",
   "metadata": {},
   "outputs": [
    {
     "data": {
      "text/plain": [
       "[1, 2, 3, 4, 5, 6, 102]"
      ]
     },
     "execution_count": 3,
     "metadata": {},
     "output_type": "execute_result"
    }
   ],
   "source": [
    "a"
   ]
  },
  {
   "cell_type": "code",
   "execution_count": 16,
   "id": "447dd32f-d65a-4349-8551-08b33b8791de",
   "metadata": {},
   "outputs": [],
   "source": [
    "a.clear()"
   ]
  },
  {
   "cell_type": "code",
   "execution_count": 18,
   "id": "1c961cb3-989c-4f26-ac91-4cfd8ddbd476",
   "metadata": {},
   "outputs": [
    {
     "data": {
      "text/plain": [
       "[]"
      ]
     },
     "execution_count": 18,
     "metadata": {},
     "output_type": "execute_result"
    }
   ],
   "source": [
    "a"
   ]
  },
  {
   "cell_type": "code",
   "execution_count": 20,
   "id": "e5354036-537f-41d1-a7dc-a8ff57865e64",
   "metadata": {},
   "outputs": [],
   "source": [
    "a = [1,2,3,4,5,6]"
   ]
  },
  {
   "cell_type": "code",
   "execution_count": 22,
   "id": "69fa3056-05ab-4f02-a56d-f0cd67239d21",
   "metadata": {},
   "outputs": [
    {
     "data": {
      "text/plain": [
       "6"
      ]
     },
     "execution_count": 22,
     "metadata": {},
     "output_type": "execute_result"
    }
   ],
   "source": [
    "a.pop()"
   ]
  },
  {
   "cell_type": "code",
   "execution_count": 24,
   "id": "993a6fe2-76e2-4a4c-90ef-2e710ea549dd",
   "metadata": {},
   "outputs": [
    {
     "data": {
      "text/plain": [
       "[1, 2, 3, 4, 5]"
      ]
     },
     "execution_count": 24,
     "metadata": {},
     "output_type": "execute_result"
    }
   ],
   "source": [
    "a"
   ]
  },
  {
   "cell_type": "code",
   "execution_count": 26,
   "id": "19fe4c98-5ffe-425b-9d17-f00d11bca98d",
   "metadata": {},
   "outputs": [
    {
     "data": {
      "text/plain": [
       "3"
      ]
     },
     "execution_count": 26,
     "metadata": {},
     "output_type": "execute_result"
    }
   ],
   "source": [
    "a.pop(2)"
   ]
  },
  {
   "cell_type": "code",
   "execution_count": 28,
   "id": "a4926569-9a42-48c3-a1df-03313378c56c",
   "metadata": {},
   "outputs": [
    {
     "data": {
      "text/plain": [
       "[1, 2, 4, 5]"
      ]
     },
     "execution_count": 28,
     "metadata": {},
     "output_type": "execute_result"
    }
   ],
   "source": [
    "a"
   ]
  },
  {
   "cell_type": "code",
   "execution_count": 31,
   "id": "59a3bfa2-7b6f-43ca-baed-c12d82815be1",
   "metadata": {},
   "outputs": [],
   "source": [
    "a.sort(reverse=True)"
   ]
  },
  {
   "cell_type": "code",
   "execution_count": 33,
   "id": "44faa514-6e39-4925-b43f-a3406e02cba0",
   "metadata": {},
   "outputs": [
    {
     "data": {
      "text/plain": [
       "[5, 4, 2, 1]"
      ]
     },
     "execution_count": 33,
     "metadata": {},
     "output_type": "execute_result"
    }
   ],
   "source": [
    "a"
   ]
  },
  {
   "cell_type": "code",
   "execution_count": 38,
   "id": "792cb6cd-de36-488b-9d9d-67bb023e610b",
   "metadata": {},
   "outputs": [
    {
     "data": {
      "text/plain": [
       "[5, 4, 2, 1, 5, 4, 2, 1]"
      ]
     },
     "execution_count": 38,
     "metadata": {},
     "output_type": "execute_result"
    }
   ],
   "source": [
    "a * 2"
   ]
  },
  {
   "cell_type": "code",
   "execution_count": 40,
   "id": "9033ae65-18c0-4e4d-8ce5-3630e7a11329",
   "metadata": {},
   "outputs": [],
   "source": [
    "b = a * 2"
   ]
  },
  {
   "cell_type": "code",
   "execution_count": 44,
   "id": "94a39d44-f72f-4ecd-9383-ae0adbd2467a",
   "metadata": {},
   "outputs": [
    {
     "data": {
      "text/plain": [
       "[5, 4, 2, 1, 5, 4, 2, 1]"
      ]
     },
     "execution_count": 44,
     "metadata": {},
     "output_type": "execute_result"
    }
   ],
   "source": [
    "b"
   ]
  },
  {
   "cell_type": "code",
   "execution_count": 46,
   "id": "358280dd-7c91-41a2-8dda-808a98e69bf9",
   "metadata": {},
   "outputs": [
    {
     "data": {
      "text/plain": [
       "2"
      ]
     },
     "execution_count": 46,
     "metadata": {},
     "output_type": "execute_result"
    }
   ],
   "source": [
    "b.count(2)"
   ]
  },
  {
   "cell_type": "code",
   "execution_count": 50,
   "id": "927bd0f8-a083-489e-9741-24ac344b58b6",
   "metadata": {},
   "outputs": [],
   "source": [
    "b[1] = 2"
   ]
  },
  {
   "cell_type": "code",
   "execution_count": 52,
   "id": "18466eda-e537-404c-b308-18ccf16880ed",
   "metadata": {},
   "outputs": [
    {
     "data": {
      "text/plain": [
       "[5, 2, 2, 1, 5, 4, 2, 1]"
      ]
     },
     "execution_count": 52,
     "metadata": {},
     "output_type": "execute_result"
    }
   ],
   "source": [
    "b"
   ]
  },
  {
   "cell_type": "code",
   "execution_count": 54,
   "id": "469e4bb5-1054-445d-a4b8-09e01cb624e8",
   "metadata": {},
   "outputs": [
    {
     "data": {
      "text/plain": [
       "3"
      ]
     },
     "execution_count": 54,
     "metadata": {},
     "output_type": "execute_result"
    }
   ],
   "source": [
    "b.count(2)"
   ]
  },
  {
   "cell_type": "code",
   "execution_count": 62,
   "id": "972acdd3-b4bd-44f1-b224-ee9b431a8521",
   "metadata": {},
   "outputs": [
    {
     "data": {
      "text/plain": [
       "0"
      ]
     },
     "execution_count": 62,
     "metadata": {},
     "output_type": "execute_result"
    }
   ],
   "source": [
    "b.count(100) # This value doesn't exist in list"
   ]
  },
  {
   "cell_type": "code",
   "execution_count": 71,
   "id": "7efb2be4-603e-4c45-998e-6be1af7dcf1f",
   "metadata": {},
   "outputs": [],
   "source": [
    "c = [10,40, 30]"
   ]
  },
  {
   "cell_type": "code",
   "execution_count": 69,
   "id": "cb53d044-e831-444a-bd54-42a9f36921bd",
   "metadata": {},
   "outputs": [
    {
     "data": {
      "text/plain": [
       "[5, 2, 2, 1, 5, 4, 2, 1]"
      ]
     },
     "execution_count": 69,
     "metadata": {},
     "output_type": "execute_result"
    }
   ],
   "source": [
    "b"
   ]
  },
  {
   "cell_type": "code",
   "execution_count": 73,
   "id": "415b0e30-44a6-423a-9155-2155d8423adc",
   "metadata": {},
   "outputs": [],
   "source": [
    "b.extend(c)"
   ]
  },
  {
   "cell_type": "code",
   "execution_count": 75,
   "id": "2365df60-49d9-4b28-8274-0d712196c3d0",
   "metadata": {},
   "outputs": [
    {
     "data": {
      "text/plain": [
       "[5, 2, 2, 1, 5, 4, 2, 1, 10, 40, 30]"
      ]
     },
     "execution_count": 75,
     "metadata": {},
     "output_type": "execute_result"
    }
   ],
   "source": [
    "b"
   ]
  },
  {
   "cell_type": "code",
   "execution_count": 78,
   "id": "050af961-a041-4e29-a2c9-ddd5811f2e13",
   "metadata": {},
   "outputs": [],
   "source": [
    "b.extend([200, 500])"
   ]
  },
  {
   "cell_type": "code",
   "execution_count": 82,
   "id": "da815b75-ccf2-46e6-951c-5afda27b542b",
   "metadata": {},
   "outputs": [
    {
     "data": {
      "text/plain": [
       "[5, 2, 2, 1, 5, 4, 2, 1, 10, 40, 30, 200, 500]"
      ]
     },
     "execution_count": 82,
     "metadata": {},
     "output_type": "execute_result"
    }
   ],
   "source": [
    "b"
   ]
  },
  {
   "cell_type": "code",
   "execution_count": 85,
   "id": "51930aa1-5bb8-433f-9249-3ae054819b64",
   "metadata": {},
   "outputs": [
    {
     "ename": "TypeError",
     "evalue": "'int' object is not iterable",
     "output_type": "error",
     "traceback": [
      "\u001b[1;31m---------------------------------------------------------------------------\u001b[0m",
      "\u001b[1;31mTypeError\u001b[0m                                 Traceback (most recent call last)",
      "Cell \u001b[1;32mIn[85], line 1\u001b[0m\n\u001b[1;32m----> 1\u001b[0m b\u001b[38;5;241m.\u001b[39mextend(\u001b[38;5;241m10\u001b[39m)\n",
      "\u001b[1;31mTypeError\u001b[0m: 'int' object is not iterable"
     ]
    }
   ],
   "source": [
    "b.extend(10) # need to use append for this"
   ]
  },
  {
   "cell_type": "code",
   "execution_count": 90,
   "id": "459d06af-4712-41e1-9873-25f73d52f9aa",
   "metadata": {},
   "outputs": [
    {
     "data": {
      "text/plain": [
       "[5, 2, 2, 1, 5, 4, 2, 1, 10, 40, 30, 200, 500]"
      ]
     },
     "execution_count": 90,
     "metadata": {},
     "output_type": "execute_result"
    }
   ],
   "source": [
    "b"
   ]
  },
  {
   "cell_type": "code",
   "execution_count": 93,
   "id": "d8aa000a-6ccb-494f-8451-efbf3c4304be",
   "metadata": {},
   "outputs": [
    {
     "data": {
      "text/plain": [
       "3"
      ]
     },
     "execution_count": 93,
     "metadata": {},
     "output_type": "execute_result"
    }
   ],
   "source": [
    "b.index(1)"
   ]
  },
  {
   "cell_type": "code",
   "execution_count": 95,
   "id": "63a313b6-ab14-4dd3-82ec-ee87f62a2e95",
   "metadata": {},
   "outputs": [
    {
     "data": {
      "text/plain": [
       "8"
      ]
     },
     "execution_count": 95,
     "metadata": {},
     "output_type": "execute_result"
    }
   ],
   "source": [
    "b.index(10)"
   ]
  },
  {
   "cell_type": "code",
   "execution_count": 97,
   "id": "978f7622-9416-4e39-ba6c-b051ac163228",
   "metadata": {},
   "outputs": [
    {
     "ename": "ValueError",
     "evalue": "-1 is not in list",
     "output_type": "error",
     "traceback": [
      "\u001b[1;31m---------------------------------------------------------------------------\u001b[0m",
      "\u001b[1;31mValueError\u001b[0m                                Traceback (most recent call last)",
      "Cell \u001b[1;32mIn[97], line 1\u001b[0m\n\u001b[1;32m----> 1\u001b[0m b\u001b[38;5;241m.\u001b[39mindex(\u001b[38;5;241m-\u001b[39m\u001b[38;5;241m1\u001b[39m)\n",
      "\u001b[1;31mValueError\u001b[0m: -1 is not in list"
     ]
    }
   ],
   "source": [
    "b.index(-1)"
   ]
  },
  {
   "cell_type": "code",
   "execution_count": 100,
   "id": "ee730b68-b705-44e2-9d19-cccc1cf4b92c",
   "metadata": {},
   "outputs": [
    {
     "data": {
      "text/plain": [
       "[5, 2, 2, 1, 5, 4, 2, 1, 10, 40, 30, 200, 500]"
      ]
     },
     "execution_count": 100,
     "metadata": {},
     "output_type": "execute_result"
    }
   ],
   "source": [
    "b"
   ]
  },
  {
   "cell_type": "code",
   "execution_count": 102,
   "id": "29d0a928-d5e0-4cd9-9607-d08c12a69b57",
   "metadata": {},
   "outputs": [
    {
     "data": {
      "text/plain": [
       "\u001b[1;31mSignature:\u001b[0m \u001b[0mb\u001b[0m\u001b[1;33m.\u001b[0m\u001b[0minsert\u001b[0m\u001b[1;33m(\u001b[0m\u001b[0mindex\u001b[0m\u001b[1;33m,\u001b[0m \u001b[0mobject\u001b[0m\u001b[1;33m,\u001b[0m \u001b[1;33m/\u001b[0m\u001b[1;33m)\u001b[0m\u001b[1;33m\u001b[0m\u001b[1;33m\u001b[0m\u001b[0m\n",
       "\u001b[1;31mDocstring:\u001b[0m Insert object before index.\n",
       "\u001b[1;31mType:\u001b[0m      builtin_function_or_method"
      ]
     },
     "metadata": {},
     "output_type": "display_data"
    }
   ],
   "source": [
    "b.insert?"
   ]
  },
  {
   "cell_type": "code",
   "execution_count": 104,
   "id": "90c23b57-a5a6-4ec0-b7f6-da7f26c4ca6f",
   "metadata": {},
   "outputs": [],
   "source": [
    "b.insert(8,-5)"
   ]
  },
  {
   "cell_type": "code",
   "execution_count": 106,
   "id": "5904dd08-9e91-4b94-8705-d6ab1374abd9",
   "metadata": {},
   "outputs": [
    {
     "data": {
      "text/plain": [
       "[5, 2, 2, 1, 5, 4, 2, 1, -5, 10, 40, 30, 200, 500]"
      ]
     },
     "execution_count": 106,
     "metadata": {},
     "output_type": "execute_result"
    }
   ],
   "source": [
    "b"
   ]
  },
  {
   "cell_type": "code",
   "execution_count": 108,
   "id": "cc7c4d88-f0c9-418f-944a-635bd6f9a1f2",
   "metadata": {},
   "outputs": [
    {
     "data": {
      "text/plain": [
       "14"
      ]
     },
     "execution_count": 108,
     "metadata": {},
     "output_type": "execute_result"
    }
   ],
   "source": [
    "len(b)"
   ]
  },
  {
   "cell_type": "code",
   "execution_count": 110,
   "id": "635db6fa-70e0-447d-abdc-200ea01c3280",
   "metadata": {},
   "outputs": [],
   "source": [
    "b.insert(17,255)"
   ]
  },
  {
   "cell_type": "code",
   "execution_count": 112,
   "id": "5f6eef4d-f2eb-4c96-af76-be03c4e383e8",
   "metadata": {},
   "outputs": [
    {
     "data": {
      "text/plain": [
       "[5, 2, 2, 1, 5, 4, 2, 1, -5, 10, 40, 30, 200, 500, 255]"
      ]
     },
     "execution_count": 112,
     "metadata": {},
     "output_type": "execute_result"
    }
   ],
   "source": [
    "b"
   ]
  },
  {
   "cell_type": "code",
   "execution_count": 114,
   "id": "90d3ccca-93db-4fca-bc40-f09d742dd597",
   "metadata": {},
   "outputs": [
    {
     "data": {
      "text/plain": [
       "14"
      ]
     },
     "execution_count": 114,
     "metadata": {},
     "output_type": "execute_result"
    }
   ],
   "source": [
    "b.index(255)"
   ]
  },
  {
   "cell_type": "code",
   "execution_count": 120,
   "id": "35895cb6-26de-40eb-9234-3e0236c2f2dc",
   "metadata": {},
   "outputs": [],
   "source": [
    "c = [10,20,30,40]"
   ]
  },
  {
   "cell_type": "code",
   "execution_count": 124,
   "id": "26faf821-8688-426b-87d5-aba7bfd77560",
   "metadata": {},
   "outputs": [
    {
     "data": {
      "text/plain": [
       "3"
      ]
     },
     "execution_count": 124,
     "metadata": {},
     "output_type": "execute_result"
    }
   ],
   "source": [
    "c.index(40)"
   ]
  },
  {
   "cell_type": "code",
   "execution_count": 128,
   "id": "c38bca61-76d2-4e1c-8ab8-0e1920ae4868",
   "metadata": {},
   "outputs": [],
   "source": [
    "c.insert(0,100)"
   ]
  },
  {
   "cell_type": "code",
   "execution_count": 130,
   "id": "e2844037-85d1-41d8-a271-b38f7330c9db",
   "metadata": {},
   "outputs": [
    {
     "data": {
      "text/plain": [
       "[100, 10, 20, 30, 40]"
      ]
     },
     "execution_count": 130,
     "metadata": {},
     "output_type": "execute_result"
    }
   ],
   "source": [
    "c"
   ]
  },
  {
   "cell_type": "code",
   "execution_count": 132,
   "id": "8ac87657-5d03-41d6-92fb-6fb247706a41",
   "metadata": {},
   "outputs": [],
   "source": [
    "c.insert(17, 255)"
   ]
  },
  {
   "cell_type": "code",
   "execution_count": 134,
   "id": "03f01109-e7e2-4820-be23-1989e4ae2c4c",
   "metadata": {},
   "outputs": [
    {
     "data": {
      "text/plain": [
       "[100, 10, 20, 30, 40, 255]"
      ]
     },
     "execution_count": 134,
     "metadata": {},
     "output_type": "execute_result"
    }
   ],
   "source": [
    "c"
   ]
  },
  {
   "cell_type": "code",
   "execution_count": 137,
   "id": "f0744789-91c4-4fed-a84a-05128e86f2d9",
   "metadata": {},
   "outputs": [],
   "source": [
    "c.insert(-3, -30)"
   ]
  },
  {
   "cell_type": "code",
   "execution_count": 139,
   "id": "79a78f54-7574-40e4-9171-fa3bded6fe07",
   "metadata": {},
   "outputs": [
    {
     "data": {
      "text/plain": [
       "[100, 10, 20, -30, 30, 40, 255]"
      ]
     },
     "execution_count": 139,
     "metadata": {},
     "output_type": "execute_result"
    }
   ],
   "source": [
    "c"
   ]
  },
  {
   "cell_type": "code",
   "execution_count": 141,
   "id": "272f4759-3939-41e8-abea-34fcf764fddf",
   "metadata": {},
   "outputs": [],
   "source": [
    "c.insert(-1, 70)"
   ]
  },
  {
   "cell_type": "code",
   "execution_count": 143,
   "id": "c292ecd2-e427-45bc-9000-b3fae2de8ec7",
   "metadata": {},
   "outputs": [
    {
     "data": {
      "text/plain": [
       "[100, 10, 20, -30, 30, 40, 70, 255]"
      ]
     },
     "execution_count": 143,
     "metadata": {},
     "output_type": "execute_result"
    }
   ],
   "source": [
    "c"
   ]
  },
  {
   "cell_type": "code",
   "execution_count": 146,
   "id": "18590486-14f3-4c2b-82fa-49b5c5390e21",
   "metadata": {},
   "outputs": [],
   "source": [
    "c.reverse()"
   ]
  },
  {
   "cell_type": "code",
   "execution_count": 148,
   "id": "b0a6804d-0572-4deb-b489-833624e843b5",
   "metadata": {},
   "outputs": [
    {
     "data": {
      "text/plain": [
       "[255, 70, 40, 30, -30, 20, 10, 100]"
      ]
     },
     "execution_count": 148,
     "metadata": {},
     "output_type": "execute_result"
    }
   ],
   "source": [
    "c"
   ]
  },
  {
   "cell_type": "code",
   "execution_count": 153,
   "id": "fb86c4df-986d-4114-be73-d245b89ecc4a",
   "metadata": {},
   "outputs": [],
   "source": [
    "c.remove(10)"
   ]
  },
  {
   "cell_type": "code",
   "execution_count": 155,
   "id": "04dec47e-a640-4416-8e83-5300a1355c1a",
   "metadata": {},
   "outputs": [
    {
     "data": {
      "text/plain": [
       "[255, 70, 40, 30, -30, 20, 100]"
      ]
     },
     "execution_count": 155,
     "metadata": {},
     "output_type": "execute_result"
    }
   ],
   "source": [
    "c"
   ]
  },
  {
   "cell_type": "code",
   "execution_count": 157,
   "id": "37beea47-169b-473d-b837-0a53357fec36",
   "metadata": {},
   "outputs": [
    {
     "data": {
      "text/plain": [
       "[5, 2, 2, 1, 5, 4, 2, 1, -5, 10, 40, 30, 200, 500, 255]"
      ]
     },
     "execution_count": 157,
     "metadata": {},
     "output_type": "execute_result"
    }
   ],
   "source": [
    "b"
   ]
  },
  {
   "cell_type": "code",
   "execution_count": 159,
   "id": "e39eadb9-5dfd-41af-928e-bcb0adf28ce7",
   "metadata": {},
   "outputs": [],
   "source": [
    "b.remove(2)"
   ]
  },
  {
   "cell_type": "code",
   "execution_count": 161,
   "id": "e00731aa-9b0d-4016-8dd1-aab16ea24b58",
   "metadata": {},
   "outputs": [
    {
     "data": {
      "text/plain": [
       "[5, 2, 1, 5, 4, 2, 1, -5, 10, 40, 30, 200, 500, 255]"
      ]
     },
     "execution_count": 161,
     "metadata": {},
     "output_type": "execute_result"
    }
   ],
   "source": [
    "b"
   ]
  },
  {
   "cell_type": "code",
   "execution_count": 163,
   "id": "0bda91ea-3229-4c0e-aeae-882973121750",
   "metadata": {},
   "outputs": [],
   "source": [
    "b.remove(2)"
   ]
  },
  {
   "cell_type": "code",
   "execution_count": 165,
   "id": "00d8dbd4-d05a-4376-919c-a075de516864",
   "metadata": {},
   "outputs": [
    {
     "data": {
      "text/plain": [
       "[5, 1, 5, 4, 2, 1, -5, 10, 40, 30, 200, 500, 255]"
      ]
     },
     "execution_count": 165,
     "metadata": {},
     "output_type": "execute_result"
    }
   ],
   "source": [
    "b"
   ]
  },
  {
   "cell_type": "code",
   "execution_count": 169,
   "id": "1ee4c2ab-9cc9-46e3-8fb2-31f83f7255d1",
   "metadata": {},
   "outputs": [],
   "source": [
    "# List \n",
    "# 1. Mutable -- values can be changed"
   ]
  },
  {
   "cell_type": "code",
   "execution_count": 171,
   "id": "ad428988-ab48-417d-a756-601e0ea30cce",
   "metadata": {},
   "outputs": [],
   "source": [
    "a = ['a', 1, -12.6, True, 2+3j]"
   ]
  },
  {
   "cell_type": "code",
   "execution_count": 173,
   "id": "896eddbf-9988-47ba-84a3-538a84804318",
   "metadata": {},
   "outputs": [
    {
     "data": {
      "text/plain": [
       "['a', 1, -12.6, True, (2+3j)]"
      ]
     },
     "execution_count": 173,
     "metadata": {},
     "output_type": "execute_result"
    }
   ],
   "source": [
    "a"
   ]
  },
  {
   "cell_type": "code",
   "execution_count": 177,
   "id": "b089d316-561a-418f-a5f6-6bc2b1e2f13a",
   "metadata": {},
   "outputs": [
    {
     "data": {
      "text/plain": [
       "-12.6"
      ]
     },
     "execution_count": 177,
     "metadata": {},
     "output_type": "execute_result"
    }
   ],
   "source": [
    "a[2]"
   ]
  },
  {
   "cell_type": "markdown",
   "id": "99fc327a-cdb1-435c-aa60-4907ca97478a",
   "metadata": {},
   "source": [
    "# List Slicing"
   ]
  },
  {
   "cell_type": "code",
   "execution_count": 180,
   "id": "9a790b7e-d219-4005-89b7-c15fe719ae0a",
   "metadata": {},
   "outputs": [],
   "source": [
    "# a[start:end] --> a[start] to a[end-1]"
   ]
  },
  {
   "cell_type": "code",
   "execution_count": 188,
   "id": "98fc5da2-1d1f-4fc8-9565-3232c3681f5a",
   "metadata": {
    "scrolled": true
   },
   "outputs": [
    {
     "data": {
      "text/plain": [
       "[1, -12.6, True]"
      ]
     },
     "execution_count": 188,
     "metadata": {},
     "output_type": "execute_result"
    }
   ],
   "source": [
    "a[1:4]  # a[1] to a[4-1] -> a[3]"
   ]
  },
  {
   "cell_type": "code",
   "execution_count": 184,
   "id": "b808f611-f3b1-49b9-859b-856b5543a5ef",
   "metadata": {},
   "outputs": [
    {
     "data": {
      "text/plain": [
       "[1, -12.6]"
      ]
     },
     "execution_count": 184,
     "metadata": {},
     "output_type": "execute_result"
    }
   ],
   "source": [
    "a[1:3]"
   ]
  },
  {
   "cell_type": "code",
   "execution_count": 190,
   "id": "c5f651b9-c175-475b-81e6-1858cf85e5f7",
   "metadata": {},
   "outputs": [],
   "source": [
    "a = list(range(15))"
   ]
  },
  {
   "cell_type": "code",
   "execution_count": 192,
   "id": "97c9b140-c7ae-4cf5-ae59-49cbdd9873fa",
   "metadata": {},
   "outputs": [
    {
     "data": {
      "text/plain": [
       "[0, 1, 2, 3, 4, 5, 6, 7, 8, 9, 10, 11, 12, 13, 14]"
      ]
     },
     "execution_count": 192,
     "metadata": {},
     "output_type": "execute_result"
    }
   ],
   "source": [
    "a"
   ]
  },
  {
   "cell_type": "code",
   "execution_count": 194,
   "id": "b8c5398a-7833-41db-88c7-c4565444ec6a",
   "metadata": {},
   "outputs": [
    {
     "data": {
      "text/plain": [
       "[3, 4, 5, 6, 7, 8, 9, 10]"
      ]
     },
     "execution_count": 194,
     "metadata": {},
     "output_type": "execute_result"
    }
   ],
   "source": [
    "a[3:11]"
   ]
  },
  {
   "cell_type": "code",
   "execution_count": 206,
   "id": "1fb75f06-a83c-4347-af6a-ebc53cc9c921",
   "metadata": {},
   "outputs": [],
   "source": [
    "# a[start:end:step] --> a[start] to a[end-1]   # Ex: a[3:11:2]\n",
    "\n",
    "#first item : a[start]  # ex: a[3]\n",
    "# second item a[start + step]  # ex: a[3+2] -> a[5]\n",
    "# third item a[start + step + step]  # ex: a[5+2] -> a[7]\n",
    "# ..."
   ]
  },
  {
   "cell_type": "code",
   "execution_count": 208,
   "id": "9e05b59d-0afb-4c96-bb8f-c83bc48d12d4",
   "metadata": {},
   "outputs": [
    {
     "data": {
      "text/plain": [
       "[3, 5, 7, 9]"
      ]
     },
     "execution_count": 208,
     "metadata": {},
     "output_type": "execute_result"
    }
   ],
   "source": [
    "a[3:11:2]  # "
   ]
  },
  {
   "cell_type": "code",
   "execution_count": 202,
   "id": "232c6a56-25a9-456c-86dd-eb5d6d015cab",
   "metadata": {},
   "outputs": [
    {
     "data": {
      "text/plain": [
       "[0]"
      ]
     },
     "execution_count": 202,
     "metadata": {},
     "output_type": "execute_result"
    }
   ],
   "source": [
    "a[0:1]"
   ]
  },
  {
   "cell_type": "code",
   "execution_count": 204,
   "id": "d46ae57f-4e5c-4fb4-a54b-adeeaf46c602",
   "metadata": {},
   "outputs": [
    {
     "data": {
      "text/plain": [
       "[3, 6, 9]"
      ]
     },
     "execution_count": 204,
     "metadata": {},
     "output_type": "execute_result"
    }
   ],
   "source": [
    "a[3:11:3]"
   ]
  },
  {
   "cell_type": "code",
   "execution_count": 214,
   "id": "806052bb-1d08-42bd-9b14-f3bcf34f948b",
   "metadata": {},
   "outputs": [
    {
     "data": {
      "text/plain": [
       "[3, 4, 5, 6, 7, 8, 9, 10]"
      ]
     },
     "execution_count": 214,
     "metadata": {},
     "output_type": "execute_result"
    }
   ],
   "source": [
    "a[3:11:1]  "
   ]
  },
  {
   "cell_type": "code",
   "execution_count": 216,
   "id": "292ca5f9-61f4-4f15-9c2d-681b5e6b62de",
   "metadata": {},
   "outputs": [
    {
     "data": {
      "text/plain": [
       "[3, 4, 5, 6, 7, 8, 9, 10]"
      ]
     },
     "execution_count": 216,
     "metadata": {},
     "output_type": "execute_result"
    }
   ],
   "source": [
    "a[3:11]"
   ]
  },
  {
   "cell_type": "code",
   "execution_count": 212,
   "id": "adc91b4a-3154-4b0e-8390-6edd5833eae5",
   "metadata": {},
   "outputs": [
    {
     "ename": "ValueError",
     "evalue": "slice step cannot be zero",
     "output_type": "error",
     "traceback": [
      "\u001b[1;31m---------------------------------------------------------------------------\u001b[0m",
      "\u001b[1;31mValueError\u001b[0m                                Traceback (most recent call last)",
      "Cell \u001b[1;32mIn[212], line 1\u001b[0m\n\u001b[1;32m----> 1\u001b[0m a[\u001b[38;5;241m3\u001b[39m:\u001b[38;5;241m11\u001b[39m:\u001b[38;5;241m0\u001b[39m]\n",
      "\u001b[1;31mValueError\u001b[0m: slice step cannot be zero"
     ]
    }
   ],
   "source": [
    "a[3:11:0] "
   ]
  },
  {
   "cell_type": "code",
   "execution_count": 227,
   "id": "65c99b9b-3b02-4a02-abc5-13e7581d0f01",
   "metadata": {},
   "outputs": [],
   "source": [
    "a = [10, 20, 30, ['a','b'], 100] # nested list"
   ]
  },
  {
   "cell_type": "code",
   "execution_count": 229,
   "id": "a914e5fb-6d69-48b6-97e2-6700c93eed86",
   "metadata": {},
   "outputs": [
    {
     "data": {
      "text/plain": [
       "list"
      ]
     },
     "execution_count": 229,
     "metadata": {},
     "output_type": "execute_result"
    }
   ],
   "source": [
    "type(a)"
   ]
  },
  {
   "cell_type": "code",
   "execution_count": 231,
   "id": "c803f3f1-0b25-44b2-bdc5-a5620f4b60cf",
   "metadata": {},
   "outputs": [
    {
     "data": {
      "text/plain": [
       "10"
      ]
     },
     "execution_count": 231,
     "metadata": {},
     "output_type": "execute_result"
    }
   ],
   "source": [
    "a[0]"
   ]
  },
  {
   "cell_type": "code",
   "execution_count": 233,
   "id": "c37cb5c9-3c4a-4404-b166-d8bcd4595942",
   "metadata": {},
   "outputs": [
    {
     "data": {
      "text/plain": [
       "int"
      ]
     },
     "execution_count": 233,
     "metadata": {},
     "output_type": "execute_result"
    }
   ],
   "source": [
    "type(a[0])"
   ]
  },
  {
   "cell_type": "code",
   "execution_count": 235,
   "id": "85a36daa-a504-45d9-b2ca-f1ef58ae05b0",
   "metadata": {},
   "outputs": [
    {
     "data": {
      "text/plain": [
       "['a', 'b']"
      ]
     },
     "execution_count": 235,
     "metadata": {},
     "output_type": "execute_result"
    }
   ],
   "source": [
    "a[3]"
   ]
  },
  {
   "cell_type": "code",
   "execution_count": 237,
   "id": "b1f9ad66-8c77-446c-a941-826f7e8a62b6",
   "metadata": {},
   "outputs": [
    {
     "data": {
      "text/plain": [
       "list"
      ]
     },
     "execution_count": 237,
     "metadata": {},
     "output_type": "execute_result"
    }
   ],
   "source": [
    "type(a[3])"
   ]
  },
  {
   "cell_type": "code",
   "execution_count": 239,
   "id": "72131136-31d4-4d6f-8b38-796f8ef7eff1",
   "metadata": {},
   "outputs": [
    {
     "data": {
      "text/plain": [
       "'a'"
      ]
     },
     "execution_count": 239,
     "metadata": {},
     "output_type": "execute_result"
    }
   ],
   "source": [
    "a[3][0]"
   ]
  },
  {
   "cell_type": "code",
   "execution_count": 251,
   "id": "71730137-12c6-4c89-b04f-5a625f79fe48",
   "metadata": {},
   "outputs": [
    {
     "data": {
      "text/plain": [
       "'b'"
      ]
     },
     "execution_count": 251,
     "metadata": {},
     "output_type": "execute_result"
    }
   ],
   "source": [
    "a[3][1]"
   ]
  },
  {
   "cell_type": "code",
   "execution_count": 253,
   "id": "3ad7e7ac-10f1-4315-beaf-39712c9e754b",
   "metadata": {},
   "outputs": [],
   "source": [
    "b = [10, 20, 30, ['a','b', [True, False, [13.4, -3.6], True], 'c'], 100] # extract -3.6"
   ]
  },
  {
   "cell_type": "code",
   "execution_count": 255,
   "id": "195813bc-7715-4840-8773-39c270537fb3",
   "metadata": {},
   "outputs": [
    {
     "data": {
      "text/plain": [
       "list"
      ]
     },
     "execution_count": 255,
     "metadata": {},
     "output_type": "execute_result"
    }
   ],
   "source": [
    "type(b)"
   ]
  },
  {
   "cell_type": "code",
   "execution_count": 259,
   "id": "0bac5942-03f6-4b7d-a2bc-99f9ca89f043",
   "metadata": {},
   "outputs": [
    {
     "data": {
      "text/plain": [
       "['a', 'b', [True, False, [13.4, -3.6], True], 'c']"
      ]
     },
     "execution_count": 259,
     "metadata": {},
     "output_type": "execute_result"
    }
   ],
   "source": [
    "b[3]"
   ]
  },
  {
   "cell_type": "code",
   "execution_count": 261,
   "id": "e0f17e61-9f16-4901-9c49-308b28d5f720",
   "metadata": {},
   "outputs": [
    {
     "data": {
      "text/plain": [
       "[True, False, [13.4, -3.6], True]"
      ]
     },
     "execution_count": 261,
     "metadata": {},
     "output_type": "execute_result"
    }
   ],
   "source": [
    "b[3][2]"
   ]
  },
  {
   "cell_type": "code",
   "execution_count": 263,
   "id": "ccacac6d-ccbc-4c80-b6a8-6bc7fa2dc176",
   "metadata": {},
   "outputs": [
    {
     "data": {
      "text/plain": [
       "[13.4, -3.6]"
      ]
     },
     "execution_count": 263,
     "metadata": {},
     "output_type": "execute_result"
    }
   ],
   "source": [
    "b[3][2][2]"
   ]
  },
  {
   "cell_type": "code",
   "execution_count": 265,
   "id": "fd648533-6020-46f5-bdea-c751e9a10d16",
   "metadata": {},
   "outputs": [
    {
     "data": {
      "text/plain": [
       "-3.6"
      ]
     },
     "execution_count": 265,
     "metadata": {},
     "output_type": "execute_result"
    }
   ],
   "source": [
    "b[3][2][2][1]"
   ]
  },
  {
   "cell_type": "code",
   "execution_count": 267,
   "id": "fb0f1d6a-b311-4f01-b107-1c5a935a7eb8",
   "metadata": {},
   "outputs": [],
   "source": [
    "c = list(range(10))"
   ]
  },
  {
   "cell_type": "code",
   "execution_count": 269,
   "id": "c176801a-8238-4a72-94e2-06ab29d4af93",
   "metadata": {},
   "outputs": [
    {
     "data": {
      "text/plain": [
       "[0, 1, 2, 3, 4, 5, 6, 7, 8, 9]"
      ]
     },
     "execution_count": 269,
     "metadata": {},
     "output_type": "execute_result"
    }
   ],
   "source": [
    "c"
   ]
  },
  {
   "cell_type": "code",
   "execution_count": 271,
   "id": "b912a970-c365-4df6-bd7f-97e86092a968",
   "metadata": {},
   "outputs": [
    {
     "data": {
      "text/plain": [
       "\u001b[1;31mInit signature:\u001b[0m \u001b[0mrange\u001b[0m\u001b[1;33m(\u001b[0m\u001b[0mself\u001b[0m\u001b[1;33m,\u001b[0m \u001b[1;33m/\u001b[0m\u001b[1;33m,\u001b[0m \u001b[1;33m*\u001b[0m\u001b[0margs\u001b[0m\u001b[1;33m,\u001b[0m \u001b[1;33m**\u001b[0m\u001b[0mkwargs\u001b[0m\u001b[1;33m)\u001b[0m\u001b[1;33m\u001b[0m\u001b[1;33m\u001b[0m\u001b[0m\n",
       "\u001b[1;31mDocstring:\u001b[0m     \n",
       "range(stop) -> range object\n",
       "range(start, stop[, step]) -> range object\n",
       "\n",
       "Return an object that produces a sequence of integers from start (inclusive)\n",
       "to stop (exclusive) by step.  range(i, j) produces i, i+1, i+2, ..., j-1.\n",
       "start defaults to 0, and stop is omitted!  range(4) produces 0, 1, 2, 3.\n",
       "These are exactly the valid indices for a list of 4 elements.\n",
       "When step is given, it specifies the increment (or decrement).\n",
       "\u001b[1;31mType:\u001b[0m           type\n",
       "\u001b[1;31mSubclasses:\u001b[0m     "
      ]
     },
     "metadata": {},
     "output_type": "display_data"
    }
   ],
   "source": [
    "range? # range(10) -- range(0,10)"
   ]
  },
  {
   "cell_type": "code",
   "execution_count": 283,
   "id": "1af77f11-e165-4336-b853-57dc3560158e",
   "metadata": {},
   "outputs": [],
   "source": [
    "c = list(range(10))"
   ]
  },
  {
   "cell_type": "code",
   "execution_count": 285,
   "id": "87d57943-25b5-46e3-bf75-fd8c2a791993",
   "metadata": {},
   "outputs": [
    {
     "data": {
      "text/plain": [
       "[0, 1, 2, 3, 4, 5, 6, 7, 8, 9]"
      ]
     },
     "execution_count": 285,
     "metadata": {},
     "output_type": "execute_result"
    }
   ],
   "source": [
    "c"
   ]
  },
  {
   "cell_type": "code",
   "execution_count": 287,
   "id": "f7025886-09c7-4101-acac-6aa6b1039368",
   "metadata": {},
   "outputs": [
    {
     "data": {
      "text/plain": [
       "[2, 3, 4]"
      ]
     },
     "execution_count": 287,
     "metadata": {},
     "output_type": "execute_result"
    }
   ],
   "source": [
    "c[2:5]"
   ]
  },
  {
   "cell_type": "code",
   "execution_count": 281,
   "id": "a452f2f9-49ec-407d-bc54-777fda3f43ab",
   "metadata": {},
   "outputs": [
    {
     "data": {
      "text/plain": [
       "[9, 8, 7, 6, 5]"
      ]
     },
     "execution_count": 281,
     "metadata": {},
     "output_type": "execute_result"
    }
   ],
   "source": [
    "c[:5]"
   ]
  },
  {
   "cell_type": "code",
   "execution_count": 289,
   "id": "210c176f-3a72-42ae-a8b1-9280411fc746",
   "metadata": {},
   "outputs": [
    {
     "data": {
      "text/plain": [
       "[2, 3, 4, 5, 6, 7, 8, 9]"
      ]
     },
     "execution_count": 289,
     "metadata": {},
     "output_type": "execute_result"
    }
   ],
   "source": [
    "c[2:]"
   ]
  },
  {
   "cell_type": "code",
   "execution_count": 291,
   "id": "f6619a73-62bf-4884-b611-752b33af5fde",
   "metadata": {},
   "outputs": [
    {
     "data": {
      "text/plain": [
       "[0, 1, 2, 3, 4, 5, 6, 7, 8, 9]"
      ]
     },
     "execution_count": 291,
     "metadata": {},
     "output_type": "execute_result"
    }
   ],
   "source": [
    "c[:]"
   ]
  },
  {
   "cell_type": "code",
   "execution_count": 293,
   "id": "9c24db91-9350-4f1f-8daf-0b2a2664b4e8",
   "metadata": {},
   "outputs": [
    {
     "data": {
      "text/plain": [
       "[0, 1, 2, 3, 4, 5, 6, 7, 8, 9]"
      ]
     },
     "execution_count": 293,
     "metadata": {},
     "output_type": "execute_result"
    }
   ],
   "source": [
    "c"
   ]
  },
  {
   "cell_type": "code",
   "execution_count": 299,
   "id": "60d9b8c7-e318-425f-a82d-f71a0c59e191",
   "metadata": {},
   "outputs": [
    {
     "data": {
      "text/plain": [
       "[9, 8, 7, 6, 5, 4, 3, 2, 1, 0]"
      ]
     },
     "execution_count": 299,
     "metadata": {},
     "output_type": "execute_result"
    }
   ],
   "source": [
    "c[::-1] # Reversing list items, without using c.reverse()"
   ]
  },
  {
   "cell_type": "code",
   "execution_count": 301,
   "id": "db7a7416-57f5-47c0-8c57-0dc17e99166c",
   "metadata": {},
   "outputs": [
    {
     "data": {
      "text/plain": [
       "[9, 7, 5, 3, 1]"
      ]
     },
     "execution_count": 301,
     "metadata": {},
     "output_type": "execute_result"
    }
   ],
   "source": [
    "c[::-2] "
   ]
  },
  {
   "cell_type": "code",
   "execution_count": null,
   "id": "1fc88c0a-4634-4ee4-9841-a6cebe5558e2",
   "metadata": {},
   "outputs": [],
   "source": []
  }
 ],
 "metadata": {
  "kernelspec": {
   "display_name": "Python 3",
   "language": "python",
   "name": "python3"
  },
  "language_info": {
   "codemirror_mode": {
    "name": "ipython",
    "version": 3
   },
   "file_extension": ".py",
   "mimetype": "text/x-python",
   "name": "python",
   "nbconvert_exporter": "python",
   "pygments_lexer": "ipython3",
   "version": "3.11.9"
  }
 },
 "nbformat": 4,
 "nbformat_minor": 5
}

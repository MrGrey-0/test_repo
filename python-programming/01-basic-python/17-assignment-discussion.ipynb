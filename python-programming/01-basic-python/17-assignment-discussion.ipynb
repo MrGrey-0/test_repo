{
 "cells": [
  {
   "cell_type": "code",
   "execution_count": 3,
   "id": "2be91e19-8f21-42bb-823c-632f816801cb",
   "metadata": {},
   "outputs": [],
   "source": [
    "# Input : \n",
    "# '''When you think you can do it you will find a way to do it. \n",
    "# The moment you give up you begin to look for excuses'''\n",
    "\n",
    "# 1. Convert this string to list\n",
    "# 2. Calculate length of each word \n",
    "# 3. Convert each word to lower case and then add its length. Ex: when-4, you-3\n",
    "# 4. print output list\n",
    "\n",
    "# Try using normal approach\n",
    "# Try using list comprehension"
   ]
  },
  {
   "cell_type": "code",
   "execution_count": 1,
   "id": "8da56c75-65bc-4375-8ef1-291dfa30ce41",
   "metadata": {},
   "outputs": [],
   "source": [
    "input_string = '''When you think you can do it you will find a way to do it.\n",
    "The moment you give up you begin to look for excuses.''' \n",
    "# triple quotes - '''    '''   or   \"\"\"   \"\"\"\n",
    "# double quotes - \" \"\n",
    "# single quote - ' '"
   ]
  },
  {
   "cell_type": "code",
   "execution_count": 2,
   "id": "ca08b780-9cb2-4e80-8d19-b7bc09702085",
   "metadata": {},
   "outputs": [
    {
     "name": "stdout",
     "output_type": "stream",
     "text": [
      "When you think you can do it you will find a way to do it.\n",
      "The moment you give up you begin to look for excuses.\n"
     ]
    }
   ],
   "source": [
    "print(input_string)"
   ]
  },
  {
   "cell_type": "code",
   "execution_count": 7,
   "id": "557d5072-9d90-4ea5-be2c-5223abdf31da",
   "metadata": {},
   "outputs": [
    {
     "data": {
      "text/plain": [
       "'When you think you can do it you will find a way to do it.\\nThe moment you give up you begin to look for excuses.'"
      ]
     },
     "execution_count": 7,
     "metadata": {},
     "output_type": "execute_result"
    }
   ],
   "source": [
    "input_string"
   ]
  },
  {
   "cell_type": "code",
   "execution_count": 15,
   "id": "10eb441b-7d13-4dd2-a8c6-0606b9dc8266",
   "metadata": {},
   "outputs": [
    {
     "name": "stdout",
     "output_type": "stream",
     "text": [
      "['When', 'you', 'think', 'you', 'can', 'do', 'it', 'you', 'will', 'find', 'a', 'way', 'to', 'do', 'it.', 'The', 'moment', 'you', 'give', 'up', 'you', 'begin', 'to', 'look', 'for', 'excuses.']\n"
     ]
    }
   ],
   "source": [
    "# 1. Convert this string to list\n",
    "input_list = input_string.split()\n",
    "print(input_list)"
   ]
  },
  {
   "cell_type": "code",
   "execution_count": 57,
   "id": "5f2ead86-0468-46a9-b0e8-0f8dbd691b9f",
   "metadata": {},
   "outputs": [
    {
     "name": "stdout",
     "output_type": "stream",
     "text": [
      "['when-4', 'you-3', 'think-5', 'you-3', 'can-3', 'do-2', 'it-2', 'you-3', 'will-4', 'find-4', 'a-1', 'way-3', 'to-2', 'do-2', 'it.-3', 'the-3', 'moment-6', 'you-3', 'give-4', 'up-2', 'you-3', 'begin-5', 'to-2', 'look-4', 'for-3', 'excuses.-8']\n"
     ]
    }
   ],
   "source": [
    "output_list = []\n",
    "for word in input_list:\n",
    "    # 2. Calculate length of each word \n",
    "    # print(len(word))\n",
    "    # 3. Convert each word to lower case and then add its length. Ex: when-4, you-3\n",
    "    # print(word.lower() + '-' + str(len(word)))\n",
    "    output_list.append(word.lower() + '-' + str(len(word)))\n",
    "#\n",
    "print(output_list)"
   ]
  },
  {
   "cell_type": "code",
   "execution_count": 25,
   "id": "bf6b6f3d-d1c2-4842-bba2-f3223a624076",
   "metadata": {},
   "outputs": [
    {
     "data": {
      "text/plain": [
       "'When-4'"
      ]
     },
     "execution_count": 25,
     "metadata": {},
     "output_type": "execute_result"
    }
   ],
   "source": [
    "'When' + '-4' #when-4"
   ]
  },
  {
   "cell_type": "code",
   "execution_count": 41,
   "id": "266bc9e3-89c9-4225-8700-87066a5e4c08",
   "metadata": {},
   "outputs": [],
   "source": [
    "word = 'when'"
   ]
  },
  {
   "cell_type": "code",
   "execution_count": 43,
   "id": "46e15b4b-633d-45e9-babb-3390e17ec057",
   "metadata": {},
   "outputs": [
    {
     "ename": "TypeError",
     "evalue": "can only concatenate str (not \"int\") to str",
     "output_type": "error",
     "traceback": [
      "\u001b[1;31m---------------------------------------------------------------------------\u001b[0m",
      "\u001b[1;31mTypeError\u001b[0m                                 Traceback (most recent call last)",
      "Cell \u001b[1;32mIn[43], line 1\u001b[0m\n\u001b[1;32m----> 1\u001b[0m word \u001b[38;5;241m+\u001b[39m \u001b[38;5;28mlen\u001b[39m(word)\n",
      "\u001b[1;31mTypeError\u001b[0m: can only concatenate str (not \"int\") to str"
     ]
    }
   ],
   "source": [
    "word + len(word)"
   ]
  },
  {
   "cell_type": "code",
   "execution_count": 45,
   "id": "a770a7f0-7cd2-40dd-a87c-34c56e0fa9d5",
   "metadata": {},
   "outputs": [
    {
     "data": {
      "text/plain": [
       "int"
      ]
     },
     "execution_count": 45,
     "metadata": {},
     "output_type": "execute_result"
    }
   ],
   "source": [
    "type(len(word))"
   ]
  },
  {
   "cell_type": "code",
   "execution_count": 47,
   "id": "28e24170-0aed-433c-8b89-be91cfe4db17",
   "metadata": {},
   "outputs": [
    {
     "data": {
      "text/plain": [
       "str"
      ]
     },
     "execution_count": 47,
     "metadata": {},
     "output_type": "execute_result"
    }
   ],
   "source": [
    "type(word)"
   ]
  },
  {
   "cell_type": "code",
   "execution_count": 49,
   "id": "b755bfb6-8470-46e5-908a-7c474285e761",
   "metadata": {},
   "outputs": [
    {
     "data": {
      "text/plain": [
       "'when-4'"
      ]
     },
     "execution_count": 49,
     "metadata": {},
     "output_type": "execute_result"
    }
   ],
   "source": [
    "word + '-' + str(len(word))"
   ]
  },
  {
   "cell_type": "code",
   "execution_count": 59,
   "id": "22c6a9b8-0ad7-4351-810d-95432ec26350",
   "metadata": {},
   "outputs": [
    {
     "name": "stdout",
     "output_type": "stream",
     "text": [
      "['when-4', 'you-3', 'think-5', 'you-3', 'can-3', 'do-2', 'it-2', 'you-3', 'will-4', 'find-4', 'a-1', 'way-3', 'to-2', 'do-2', 'it.-3', 'the-3', 'moment-6', 'you-3', 'give-4', 'up-2', 'you-3', 'begin-5', 'to-2', 'look-4', 'for-3', 'excuses.-8']\n"
     ]
    }
   ],
   "source": [
    "# Input : \n",
    "# '''When you think you can do it you will find a way to do it. \n",
    "# The moment you give up you begin to look for excuses'''\n",
    "\n",
    "# 1. Convert this string to list\n",
    "# 2. Calculate length of each word \n",
    "# 3. Convert each word to lower case and then add its length. Ex: when-4, you-3\n",
    "# 4. print output list\n",
    "\n",
    "# Using normal approach\n",
    "input_string = '''When you think you can do it you will find a way to do it.\n",
    "The moment you give up you begin to look for excuses.''' \n",
    "input_list = input_string.split()\n",
    "output_list = []\n",
    "for word in input_list:\n",
    "    output_list.append(word.lower() + '-' + str(len(word)))\n",
    "# End of for loop\n",
    "print(output_list)"
   ]
  },
  {
   "cell_type": "code",
   "execution_count": 71,
   "id": "d099e8f3-0643-4565-a45d-0a6427a0ab72",
   "metadata": {},
   "outputs": [
    {
     "name": "stdout",
     "output_type": "stream",
     "text": [
      "['when-4', 'you-3', 'think-5', 'you-3', 'can-3', 'do-2', 'it-2', 'you-3', 'will-4', 'find-4', 'a-1', 'way-3', 'to-2', 'do-2', 'it.-3', 'the-3', 'moment-6', 'you-3', 'give-4', 'up-2', 'you-3', 'begin-5', 'to-2', 'look-4', 'for-3', 'excuses.-8']\n"
     ]
    }
   ],
   "source": [
    "# Using List comprehension\n",
    "input_string = '''When you think you can do it you will find a way to do it.\n",
    "The moment you give up you begin to look for excuses.''' \n",
    "\n",
    "output_list = [word.lower() + '-' + str(len(word)) for word in input_string.split()]\n",
    "print(output_list)"
   ]
  },
  {
   "cell_type": "code",
   "execution_count": 73,
   "id": "35c0e529-20e2-484c-b880-ef26299fe969",
   "metadata": {},
   "outputs": [],
   "source": [
    "input_string = '''When you think you can do it you will find a way to do it.\n",
    "The moment you give up you begin to look for excuses.''' "
   ]
  },
  {
   "cell_type": "code",
   "execution_count": 99,
   "id": "29079bfd-ea42-4db3-8bb3-4d7655d2d584",
   "metadata": {},
   "outputs": [
    {
     "name": "stdout",
     "output_type": "stream",
     "text": [
      "['when-4', 'you-3', 'think-5', 'you-3', 'can-3', 'do-2', 'it-2', 'you-3', 'will-4', 'find-4', 'a-1', 'way-3', 'to-2', 'do-2', 'it.-3', 'the-3', 'moment-6', 'you-3', 'give-4', 'up-2', 'you-3', 'begin-5', 'to-2', 'look-4', 'for-3', 'excuses.-8']\n"
     ]
    }
   ],
   "source": [
    "output_list = [word.lower() + '-' + str(len(word)) for word in input_string.split()]  # when-4\n",
    "print(output_list)"
   ]
  },
  {
   "cell_type": "code",
   "execution_count": null,
   "id": "8a328429-4da8-4b00-b869-4c33653fff67",
   "metadata": {},
   "outputs": [],
   "source": []
  },
  {
   "cell_type": "code",
   "execution_count": 81,
   "id": "9bc4f86f-fb75-4a5b-8d1b-0b8a971945df",
   "metadata": {},
   "outputs": [
    {
     "ename": "TypeError",
     "evalue": "can only concatenate str (not \"int\") to str",
     "output_type": "error",
     "traceback": [
      "\u001b[1;31m---------------------------------------------------------------------------\u001b[0m",
      "\u001b[1;31mTypeError\u001b[0m                                 Traceback (most recent call last)",
      "Cell \u001b[1;32mIn[81], line 1\u001b[0m\n\u001b[1;32m----> 1\u001b[0m \u001b[38;5;124m'\u001b[39m\u001b[38;5;124ma\u001b[39m\u001b[38;5;124m'\u001b[39m \u001b[38;5;241m+\u001b[39m \u001b[38;5;241m1\u001b[39m\n",
      "\u001b[1;31mTypeError\u001b[0m: can only concatenate str (not \"int\") to str"
     ]
    }
   ],
   "source": [
    "'a' + 1"
   ]
  },
  {
   "cell_type": "code",
   "execution_count": 97,
   "id": "24e37ca3-68b5-44ea-8519-d9b6a10a84cb",
   "metadata": {},
   "outputs": [
    {
     "data": {
      "text/plain": [
       "'abc-3'"
      ]
     },
     "execution_count": 97,
     "metadata": {},
     "output_type": "execute_result"
    }
   ],
   "source": [
    "'ABC'.lower() + '-' + str(3)"
   ]
  },
  {
   "cell_type": "code",
   "execution_count": null,
   "id": "edb4251a-faa4-4ef9-be6a-59b40c571fbd",
   "metadata": {},
   "outputs": [],
   "source": []
  },
  {
   "cell_type": "code",
   "execution_count": 107,
   "id": "43185d05-3946-4112-af95-ac972f40ac1d",
   "metadata": {},
   "outputs": [
    {
     "name": "stdout",
     "output_type": "stream",
     "text": [
      "When you think you can do it you will find a way to do it.\n",
      "The moment you give up you begin to look for excuses.\n"
     ]
    }
   ],
   "source": [
    "# Doubt from Rithvik\n",
    "print(input_string)"
   ]
  },
  {
   "cell_type": "code",
   "execution_count": 111,
   "id": "836d7a73-57d0-41bb-8802-1459b2a09a4c",
   "metadata": {},
   "outputs": [
    {
     "name": "stdout",
     "output_type": "stream",
     "text": [
      "['W', 'h', 'e', 'n', ' ', 'y', 'o', 'u', ' ', 't', 'h', 'i', 'n', 'k', ' ', 'y', 'o', 'u', ' ', 'c', 'a', 'n', ' ', 'd', 'o', ' ', 'i', 't', ' ', 'y', 'o', 'u', ' ', 'w', 'i', 'l', 'l', ' ', 'f', 'i', 'n', 'd', ' ', 'a', ' ', 'w', 'a', 'y', ' ', 't', 'o', ' ', 'd', 'o', ' ', 'i', 't', '.', '\\n', 'T', 'h', 'e', ' ', 'm', 'o', 'm', 'e', 'n', 't', ' ', 'y', 'o', 'u', ' ', 'g', 'i', 'v', 'e', ' ', 'u', 'p', ' ', 'y', 'o', 'u', ' ', 'b', 'e', 'g', 'i', 'n', ' ', 't', 'o', ' ', 'l', 'o', 'o', 'k', ' ', 'f', 'o', 'r', ' ', 'e', 'x', 'c', 'u', 's', 'e', 's', '.']\n"
     ]
    }
   ],
   "source": [
    "print(list(input_string))"
   ]
  },
  {
   "cell_type": "code",
   "execution_count": null,
   "id": "faa94df3-c79c-423f-a507-8801f7b24919",
   "metadata": {},
   "outputs": [],
   "source": []
  }
 ],
 "metadata": {
  "kernelspec": {
   "display_name": "Python 3",
   "language": "python",
   "name": "python3"
  },
  "language_info": {
   "codemirror_mode": {
    "name": "ipython",
    "version": 3
   },
   "file_extension": ".py",
   "mimetype": "text/x-python",
   "name": "python",
   "nbconvert_exporter": "python",
   "pygments_lexer": "ipython3",
   "version": "3.11.9"
  }
 },
 "nbformat": 4,
 "nbformat_minor": 5
}

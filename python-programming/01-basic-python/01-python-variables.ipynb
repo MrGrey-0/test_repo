{
 "cells": [
  {
   "cell_type": "markdown",
   "id": "cfec6614",
   "metadata": {},
   "source": [
    "## Data Types - String, int, float, boolean, complex\n",
    "![Data Types](../00-source/01-python-datatypes.png)"
   ]
  },
  {
   "cell_type": "code",
   "execution_count": 5,
   "id": "e78e6bb2",
   "metadata": {},
   "outputs": [
    {
     "data": {
      "text/plain": [
       "'Hello World'"
      ]
     },
     "execution_count": 5,
     "metadata": {},
     "output_type": "execute_result"
    }
   ],
   "source": [
    "\"Hello World\""
   ]
  },
  {
   "cell_type": "code",
   "execution_count": 6,
   "id": "ab1d95a4",
   "metadata": {},
   "outputs": [
    {
     "data": {
      "text/plain": [
       "'Hello World'"
      ]
     },
     "execution_count": 6,
     "metadata": {},
     "output_type": "execute_result"
    }
   ],
   "source": [
    "'Hello World'"
   ]
  },
  {
   "cell_type": "code",
   "execution_count": 7,
   "id": "377f08ad",
   "metadata": {},
   "outputs": [
    {
     "data": {
      "text/plain": [
       "'\\nHi\\nWelcome to the class\\nThis session is on python programming\\n'"
      ]
     },
     "execution_count": 7,
     "metadata": {},
     "output_type": "execute_result"
    }
   ],
   "source": [
    "'''\n",
    "Hi\n",
    "Welcome to the class\n",
    "This session is on python programming\n",
    "'''"
   ]
  },
  {
   "cell_type": "code",
   "execution_count": 8,
   "id": "3b87985a",
   "metadata": {},
   "outputs": [
    {
     "data": {
      "text/plain": [
       "'\\nHi\\nWelcome to the class\\nThis session is on python programming\\n'"
      ]
     },
     "execution_count": 8,
     "metadata": {},
     "output_type": "execute_result"
    }
   ],
   "source": [
    "\"\"\"\n",
    "Hi\n",
    "Welcome to the class\n",
    "This session is on python programming\n",
    "\"\"\""
   ]
  },
  {
   "cell_type": "code",
   "execution_count": 11,
   "id": "570c59f3",
   "metadata": {},
   "outputs": [
    {
     "data": {
      "text/plain": [
       "'Hello World'"
      ]
     },
     "execution_count": 11,
     "metadata": {},
     "output_type": "execute_result"
    }
   ],
   "source": [
    "'Hello' + ' ' + 'World'"
   ]
  },
  {
   "cell_type": "code",
   "execution_count": 12,
   "id": "43d077d6",
   "metadata": {},
   "outputs": [
    {
     "data": {
      "text/plain": [
       "1234"
      ]
     },
     "execution_count": 12,
     "metadata": {},
     "output_type": "execute_result"
    }
   ],
   "source": [
    "1234 # Integer"
   ]
  },
  {
   "cell_type": "code",
   "execution_count": 14,
   "id": "3a3239b2",
   "metadata": {},
   "outputs": [
    {
     "data": {
      "text/plain": [
       "1234.56"
      ]
     },
     "execution_count": 14,
     "metadata": {},
     "output_type": "execute_result"
    }
   ],
   "source": [
    "1234.56  # Float"
   ]
  },
  {
   "cell_type": "code",
   "execution_count": 15,
   "id": "9d8030c0",
   "metadata": {},
   "outputs": [],
   "source": [
    "# This is comment"
   ]
  },
  {
   "cell_type": "code",
   "execution_count": 17,
   "id": "a7412b44",
   "metadata": {},
   "outputs": [],
   "source": [
    "# \"\"\"\n",
    "# Hi\n",
    "# Welcome to the class\n",
    "# This session is on python programming\n",
    "# \"\"\""
   ]
  },
  {
   "cell_type": "markdown",
   "id": "9eb4405f",
   "metadata": {},
   "source": [
    "## Python does not have multi-line comment\n",
    "- To comment multiple lines, use **ctrl + /**\n",
    "- To uncomment multiple lines, use same command: **ctrl + /**"
   ]
  },
  {
   "cell_type": "code",
   "execution_count": 18,
   "id": "f98ae8d0",
   "metadata": {},
   "outputs": [
    {
     "data": {
      "text/plain": [
       "True"
      ]
     },
     "execution_count": 18,
     "metadata": {},
     "output_type": "execute_result"
    }
   ],
   "source": [
    "True # Boolean"
   ]
  },
  {
   "cell_type": "code",
   "execution_count": 19,
   "id": "8bc6f0a9",
   "metadata": {},
   "outputs": [
    {
     "data": {
      "text/plain": [
       "False"
      ]
     },
     "execution_count": 19,
     "metadata": {},
     "output_type": "execute_result"
    }
   ],
   "source": [
    "False #  Boolean"
   ]
  },
  {
   "cell_type": "code",
   "execution_count": 22,
   "id": "bad8d1ba",
   "metadata": {},
   "outputs": [
    {
     "data": {
      "text/plain": [
       "(2+3j)"
      ]
     },
     "execution_count": 22,
     "metadata": {},
     "output_type": "execute_result"
    }
   ],
   "source": [
    "2+3j"
   ]
  },
  {
   "cell_type": "code",
   "execution_count": 21,
   "id": "a32eee32",
   "metadata": {},
   "outputs": [
    {
     "data": {
      "text/plain": [
       "complex"
      ]
     },
     "execution_count": 21,
     "metadata": {},
     "output_type": "execute_result"
    }
   ],
   "source": [
    "type(2+3j)"
   ]
  },
  {
   "cell_type": "code",
   "execution_count": 23,
   "id": "1f8bad4b",
   "metadata": {},
   "outputs": [
    {
     "data": {
      "text/plain": [
       "str"
      ]
     },
     "execution_count": 23,
     "metadata": {},
     "output_type": "execute_result"
    }
   ],
   "source": [
    "type('hi')"
   ]
  },
  {
   "cell_type": "code",
   "execution_count": 24,
   "id": "ee0f7ad0",
   "metadata": {},
   "outputs": [
    {
     "data": {
      "text/plain": [
       "float"
      ]
     },
     "execution_count": 24,
     "metadata": {},
     "output_type": "execute_result"
    }
   ],
   "source": [
    "type(-123.78)"
   ]
  },
  {
   "cell_type": "code",
   "execution_count": 26,
   "id": "f535273d",
   "metadata": {},
   "outputs": [],
   "source": [
    "# type() is to identify the type of data we are dealing with "
   ]
  },
  {
   "cell_type": "markdown",
   "id": "ab3ddb7e",
   "metadata": {},
   "source": [
    "# Variables"
   ]
  },
  {
   "cell_type": "markdown",
   "id": "29ad21ee",
   "metadata": {},
   "source": [
    "## Rules for variable names\n",
    "- Names can not start with a number.\n",
    "- There can be no spaces in the name, use _ instead.\n",
    "- Can't use any of these symbols :'\",<>/?|\\()!@#$%^&*~-+\n",
    "- It's considered best practice (PEP8) that names are lowercase.\n",
    "- Avoid using words that have special meaning in Python like \"list\" and \"str\""
   ]
  },
  {
   "cell_type": "markdown",
   "id": "5a8e2ec6",
   "metadata": {},
   "source": [
    "## PEP 8 – Style Guide for Python Code\n",
    "Refer the following links to understand PEP8\n",
    "- [Link1](https://www.datacamp.com/tutorial/pep8-tutorial-python-code)\n",
    "- [Link2](https://peps.python.org/pep-0008/)\n",
    "\n",
    "Still not clear? Just google it yourself."
   ]
  },
  {
   "cell_type": "code",
   "execution_count": 27,
   "id": "6182528f",
   "metadata": {},
   "outputs": [],
   "source": [
    "a = 123"
   ]
  },
  {
   "cell_type": "code",
   "execution_count": 29,
   "id": "85f855d5",
   "metadata": {},
   "outputs": [
    {
     "data": {
      "text/plain": [
       "123"
      ]
     },
     "execution_count": 29,
     "metadata": {},
     "output_type": "execute_result"
    }
   ],
   "source": [
    "a"
   ]
  },
  {
   "cell_type": "code",
   "execution_count": 30,
   "id": "c44d5808",
   "metadata": {},
   "outputs": [
    {
     "name": "stdout",
     "output_type": "stream",
     "text": [
      "123\n"
     ]
    }
   ],
   "source": [
    "print(a)"
   ]
  },
  {
   "cell_type": "code",
   "execution_count": 28,
   "id": "d9fca2db",
   "metadata": {},
   "outputs": [
    {
     "data": {
      "text/plain": [
       "int"
      ]
     },
     "execution_count": 28,
     "metadata": {},
     "output_type": "execute_result"
    }
   ],
   "source": [
    "type(a)"
   ]
  },
  {
   "cell_type": "code",
   "execution_count": 31,
   "id": "d5a78db3",
   "metadata": {},
   "outputs": [],
   "source": [
    "a = True"
   ]
  },
  {
   "cell_type": "code",
   "execution_count": 32,
   "id": "6460cff4",
   "metadata": {},
   "outputs": [
    {
     "data": {
      "text/plain": [
       "True"
      ]
     },
     "execution_count": 32,
     "metadata": {},
     "output_type": "execute_result"
    }
   ],
   "source": [
    "a"
   ]
  },
  {
   "cell_type": "code",
   "execution_count": 33,
   "id": "a551225c",
   "metadata": {},
   "outputs": [
    {
     "data": {
      "text/plain": [
       "bool"
      ]
     },
     "execution_count": 33,
     "metadata": {},
     "output_type": "execute_result"
    }
   ],
   "source": [
    "type(a)"
   ]
  },
  {
   "cell_type": "code",
   "execution_count": 34,
   "id": "eb67e07b",
   "metadata": {},
   "outputs": [
    {
     "ename": "SyntaxError",
     "evalue": "invalid decimal literal (142249795.py, line 1)",
     "output_type": "error",
     "traceback": [
      "\u001b[1;36m  Cell \u001b[1;32mIn[34], line 1\u001b[1;36m\u001b[0m\n\u001b[1;33m    1a = 123\u001b[0m\n\u001b[1;37m    ^\u001b[0m\n\u001b[1;31mSyntaxError\u001b[0m\u001b[1;31m:\u001b[0m invalid decimal literal\n"
     ]
    }
   ],
   "source": [
    "1a = 123"
   ]
  },
  {
   "cell_type": "code",
   "execution_count": 35,
   "id": "514e9cb2",
   "metadata": {},
   "outputs": [],
   "source": [
    "_a = 123"
   ]
  },
  {
   "cell_type": "markdown",
   "id": "e3fd37c6",
   "metadata": {},
   "source": [
    "- Variable names should not start with digits or special characters except underscore(_)\n",
    "- Variable names should not be keywords -- avoid it\n",
    "- Variable names should explain the data that it is storing"
   ]
  },
  {
   "cell_type": "code",
   "execution_count": 39,
   "id": "c4a07f5e",
   "metadata": {},
   "outputs": [],
   "source": [
    "# Print is a keyword and hence this is not a good practice\n",
    "print = 123"
   ]
  },
  {
   "cell_type": "code",
   "execution_count": 40,
   "id": "4e847fae",
   "metadata": {},
   "outputs": [
    {
     "data": {
      "text/plain": [
       "123"
      ]
     },
     "execution_count": 40,
     "metadata": {},
     "output_type": "execute_result"
    }
   ],
   "source": [
    "# Print is a keyword and hence this is not a good practice\n",
    "print"
   ]
  },
  {
   "cell_type": "code",
   "execution_count": 42,
   "id": "41a3f169",
   "metadata": {},
   "outputs": [],
   "source": [
    "usr_id = 123 # Variable names should explain the data that it is storing"
   ]
  },
  {
   "cell_type": "markdown",
   "id": "956db38f",
   "metadata": {},
   "source": [
    "## Python Dynamic Typing\n",
    "- Python uses Dynamic Typing\n",
    "- This means you can reassign variables to different data types.\n",
    "- This makes Python very flexible in assigning data types, this is different than other languages that are “Statically-Typed”"
   ]
  },
  {
   "cell_type": "code",
   "execution_count": 1,
   "id": "d724ca45",
   "metadata": {},
   "outputs": [],
   "source": [
    "a = 123"
   ]
  },
  {
   "cell_type": "code",
   "execution_count": 2,
   "id": "0cea8783",
   "metadata": {},
   "outputs": [
    {
     "name": "stdout",
     "output_type": "stream",
     "text": [
      "123\n",
      "<class 'int'>\n"
     ]
    }
   ],
   "source": [
    "print(a)\n",
    "print(type(a))"
   ]
  },
  {
   "cell_type": "code",
   "execution_count": 3,
   "id": "12839e01",
   "metadata": {},
   "outputs": [],
   "source": [
    "a = \"Hello\""
   ]
  },
  {
   "cell_type": "code",
   "execution_count": 4,
   "id": "e9daba4a",
   "metadata": {},
   "outputs": [
    {
     "name": "stdout",
     "output_type": "stream",
     "text": [
      "Hello\n",
      "<class 'str'>\n"
     ]
    }
   ],
   "source": [
    "print(a)\n",
    "print(type(a))"
   ]
  },
  {
   "cell_type": "markdown",
   "id": "bafe423f",
   "metadata": {},
   "source": [
    "## Pros and Cons of Dynamic Typing\n",
    "- Pros of Dynamic Typing:\n",
    "    1. Very easy to work with\n",
    "    2. Faster development time\n",
    "- Cons of Dynamic Typing:\n",
    "    1. May result in bugs for unexpected data types!\n",
    "    2. You need to be aware of type()"
   ]
  },
  {
   "cell_type": "code",
   "execution_count": null,
   "id": "448f5290",
   "metadata": {},
   "outputs": [],
   "source": []
  }
 ],
 "metadata": {
  "kernelspec": {
   "display_name": "Python 3",
   "language": "python",
   "name": "python3"
  },
  "language_info": {
   "codemirror_mode": {
    "name": "ipython",
    "version": 3
   },
   "file_extension": ".py",
   "mimetype": "text/x-python",
   "name": "python",
   "nbconvert_exporter": "python",
   "pygments_lexer": "ipython3",
   "version": "3.11.9"
  }
 },
 "nbformat": 4,
 "nbformat_minor": 5
}

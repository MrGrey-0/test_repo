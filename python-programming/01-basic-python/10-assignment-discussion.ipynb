{
 "cells": [
  {
   "cell_type": "markdown",
   "id": "0545b729-b767-48d4-bd09-7093c7fefb41",
   "metadata": {},
   "source": [
    "## Assignment\n",
    "1. Create a list with items: -10, 3, 8, 12, -9, 4\n",
    "2. Sort this list in ascending order\n",
    "3. Calculate square root of each item value \n",
    "4. Print final list - each item value should be integer"
   ]
  },
  {
   "cell_type": "code",
   "execution_count": 1,
   "id": "75b8bf0f-f640-49d8-be93-beec98d9db26",
   "metadata": {},
   "outputs": [],
   "source": [
    "a = [-10, 3, 8, 12, -9, 4]"
   ]
  },
  {
   "cell_type": "code",
   "execution_count": 2,
   "id": "4af79499-3106-4d59-9622-e316ba0bdc02",
   "metadata": {},
   "outputs": [
    {
     "data": {
      "text/plain": [
       "[-10, 3, 8, 12, -9, 4]"
      ]
     },
     "execution_count": 2,
     "metadata": {},
     "output_type": "execute_result"
    }
   ],
   "source": [
    "a"
   ]
  },
  {
   "cell_type": "code",
   "execution_count": 10,
   "id": "c9a5b1ed-074f-4b28-9203-aec885fe1d07",
   "metadata": {},
   "outputs": [],
   "source": [
    "a.sort()"
   ]
  },
  {
   "cell_type": "code",
   "execution_count": 12,
   "id": "6c06e4cb-a6cc-4409-9948-1cdde8206a4f",
   "metadata": {},
   "outputs": [
    {
     "data": {
      "text/plain": [
       "[-10, -9, 3, 4, 8, 12]"
      ]
     },
     "execution_count": 12,
     "metadata": {},
     "output_type": "execute_result"
    }
   ],
   "source": [
    "a"
   ]
  },
  {
   "cell_type": "code",
   "execution_count": 14,
   "id": "eba4c37f-1e33-4411-8692-49cc49b10828",
   "metadata": {},
   "outputs": [
    {
     "data": {
      "text/plain": [
       "8"
      ]
     },
     "execution_count": 14,
     "metadata": {},
     "output_type": "execute_result"
    }
   ],
   "source": [
    "2 ** 3"
   ]
  },
  {
   "cell_type": "code",
   "execution_count": 16,
   "id": "89c65bd4-f9b7-4335-8092-31da6444c467",
   "metadata": {},
   "outputs": [
    {
     "data": {
      "text/plain": [
       "2.0"
      ]
     },
     "execution_count": 16,
     "metadata": {},
     "output_type": "execute_result"
    }
   ],
   "source": [
    "4 ** (1 / 2)"
   ]
  },
  {
   "cell_type": "code",
   "execution_count": 34,
   "id": "9f2d10ac-519a-4ee2-91c0-bbdd186d5826",
   "metadata": {},
   "outputs": [
    {
     "name": "stdout",
     "output_type": "stream",
     "text": [
      "(1.9363366072701937e-16+3.1622776601683795j)\n",
      "<class 'complex'>\n",
      "(1.8369701987210297e-16+3j)\n",
      "<class 'complex'>\n",
      "1.7320508075688772\n",
      "<class 'float'>\n",
      "2.0\n",
      "<class 'float'>\n",
      "2.8284271247461903\n",
      "<class 'float'>\n",
      "3.4641016151377544\n",
      "<class 'float'>\n"
     ]
    }
   ],
   "source": [
    "output_list = []\n",
    "for i in a:\n",
    "    sqrt_i = i ** (1 / 2)\n",
    "    print(sqrt_i)\n",
    "    print(type(sqrt_i))\n",
    "    output_list.append(sqrt_i)"
   ]
  },
  {
   "cell_type": "code",
   "execution_count": 32,
   "id": "00532e4f-5dbc-4b11-8e67-fa1ea4ddd831",
   "metadata": {},
   "outputs": [
    {
     "data": {
      "text/plain": [
       "[(1.9363366072701937e-16+3.1622776601683795j),\n",
       " (1.8369701987210297e-16+3j),\n",
       " 1.7320508075688772,\n",
       " 2.0,\n",
       " 2.8284271247461903,\n",
       " 3.4641016151377544]"
      ]
     },
     "execution_count": 32,
     "metadata": {},
     "output_type": "execute_result"
    }
   ],
   "source": [
    "output_list"
   ]
  },
  {
   "cell_type": "code",
   "execution_count": 80,
   "id": "bdffe831-877a-4688-bbe6-34f54d0ce13b",
   "metadata": {},
   "outputs": [
    {
     "data": {
      "text/plain": [
       "6"
      ]
     },
     "execution_count": 80,
     "metadata": {},
     "output_type": "execute_result"
    }
   ],
   "source": [
    "len(output_list)"
   ]
  },
  {
   "cell_type": "code",
   "execution_count": 38,
   "id": "95404a0d-1ece-4a65-8d3e-6c087b568fea",
   "metadata": {},
   "outputs": [],
   "source": [
    "c = 3 + 2j"
   ]
  },
  {
   "cell_type": "code",
   "execution_count": 40,
   "id": "0cb07e12-fc6a-4d2d-ad27-860045b8d003",
   "metadata": {},
   "outputs": [
    {
     "data": {
      "text/plain": [
       "(3+2j)"
      ]
     },
     "execution_count": 40,
     "metadata": {},
     "output_type": "execute_result"
    }
   ],
   "source": [
    "c"
   ]
  },
  {
   "cell_type": "code",
   "execution_count": 44,
   "id": "7724b4c9-ce1f-44e6-b233-d9ad5386c3af",
   "metadata": {},
   "outputs": [
    {
     "ename": "TypeError",
     "evalue": "int() argument must be a string, a bytes-like object or a real number, not 'complex'",
     "output_type": "error",
     "traceback": [
      "\u001b[1;31m---------------------------------------------------------------------------\u001b[0m",
      "\u001b[1;31mTypeError\u001b[0m                                 Traceback (most recent call last)",
      "Cell \u001b[1;32mIn[44], line 1\u001b[0m\n\u001b[1;32m----> 1\u001b[0m \u001b[38;5;28mint\u001b[39m(c)\n",
      "\u001b[1;31mTypeError\u001b[0m: int() argument must be a string, a bytes-like object or a real number, not 'complex'"
     ]
    }
   ],
   "source": [
    "int(c)"
   ]
  },
  {
   "cell_type": "code",
   "execution_count": 50,
   "id": "3c0b2bb4-7e62-4fa4-a9d4-35455fa89635",
   "metadata": {},
   "outputs": [
    {
     "data": {
      "text/plain": [
       "2.0"
      ]
     },
     "execution_count": 50,
     "metadata": {},
     "output_type": "execute_result"
    }
   ],
   "source": [
    "c.imag"
   ]
  },
  {
   "cell_type": "code",
   "execution_count": 53,
   "id": "1de52351-244b-4331-b601-5d3dbfe79eed",
   "metadata": {},
   "outputs": [
    {
     "data": {
      "text/plain": [
       "3.0"
      ]
     },
     "execution_count": 53,
     "metadata": {},
     "output_type": "execute_result"
    }
   ],
   "source": [
    "c.real"
   ]
  },
  {
   "cell_type": "code",
   "execution_count": 55,
   "id": "5e50ff1b-3567-4266-b9d5-5daad9c9ffd4",
   "metadata": {},
   "outputs": [],
   "source": [
    "sqrt_i = -10 ** (1 / 2)"
   ]
  },
  {
   "cell_type": "code",
   "execution_count": 57,
   "id": "baacd47a-ade3-4115-b28e-286caad407a0",
   "metadata": {},
   "outputs": [
    {
     "data": {
      "text/plain": [
       "-3.1622776601683795"
      ]
     },
     "execution_count": 57,
     "metadata": {},
     "output_type": "execute_result"
    }
   ],
   "source": [
    "sqrt_i"
   ]
  },
  {
   "cell_type": "code",
   "execution_count": 74,
   "id": "1c9f49f3-408c-445b-8d32-a57c01f50548",
   "metadata": {},
   "outputs": [
    {
     "data": {
      "text/plain": [
       "float"
      ]
     },
     "execution_count": 74,
     "metadata": {},
     "output_type": "execute_result"
    }
   ],
   "source": [
    "type(sqrt_i)"
   ]
  },
  {
   "cell_type": "markdown",
   "id": "bf47c8fe-8bef-462b-813e-0aace0ee9983",
   "metadata": {},
   "source": [
    "### sqrt_i value here is -3.16, but inside for loop this value is in complex"
   ]
  },
  {
   "cell_type": "code",
   "execution_count": 63,
   "id": "0e066dc2-649f-4682-8211-21be39fb6689",
   "metadata": {},
   "outputs": [
    {
     "data": {
      "text/plain": [
       "2.0"
      ]
     },
     "execution_count": 63,
     "metadata": {},
     "output_type": "execute_result"
    }
   ],
   "source": [
    "4 ** (1 / 2)"
   ]
  },
  {
   "cell_type": "code",
   "execution_count": 71,
   "id": "b89d45bd-4719-47bd-82cd-7b3bdcb5e50f",
   "metadata": {},
   "outputs": [
    {
     "data": {
      "text/plain": [
       "2.0"
      ]
     },
     "execution_count": 71,
     "metadata": {},
     "output_type": "execute_result"
    }
   ],
   "source": [
    "2 * 3 / 3 # BODMAS"
   ]
  },
  {
   "cell_type": "code",
   "execution_count": 69,
   "id": "6181a0a4-a905-41fa-bd7d-fd6c6da8c7a2",
   "metadata": {},
   "outputs": [
    {
     "data": {
      "text/plain": [
       "4"
      ]
     },
     "execution_count": 69,
     "metadata": {},
     "output_type": "execute_result"
    }
   ],
   "source": [
    "2 - 4 + 6"
   ]
  },
  {
   "cell_type": "code",
   "execution_count": 76,
   "id": "44b78205-215f-4977-a07e-48d2009c9d25",
   "metadata": {},
   "outputs": [],
   "source": [
    "import math # Module \n",
    "#math.sqrt()  # function\n",
    "\n",
    "\n",
    "## namespace"
   ]
  },
  {
   "cell_type": "code",
   "execution_count": null,
   "id": "84977a9f-1846-4b57-8299-54e167ba5d42",
   "metadata": {},
   "outputs": [],
   "source": []
  }
 ],
 "metadata": {
  "kernelspec": {
   "display_name": "Python 3",
   "language": "python",
   "name": "python3"
  },
  "language_info": {
   "codemirror_mode": {
    "name": "ipython",
    "version": 3
   },
   "file_extension": ".py",
   "mimetype": "text/x-python",
   "name": "python",
   "nbconvert_exporter": "python",
   "pygments_lexer": "ipython3",
   "version": "3.11.9"
  }
 },
 "nbformat": 4,
 "nbformat_minor": 5
}

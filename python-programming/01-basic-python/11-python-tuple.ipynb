{
 "cells": [
  {
   "cell_type": "markdown",
   "id": "11e0da0e",
   "metadata": {},
   "source": [
    "# Tuple\n",
    "- Tuples are very similar to lists. However they have one key difference - immutability (item values cannot be changed).\n",
    "- Once an element is inside a tuple, it can not be reassigned.\n",
    "- Tuples use parenthesis:  (1,2,3)\n",
    "- Items can be of any datatype"
   ]
  },
  {
   "cell_type": "code",
   "execution_count": 1,
   "id": "d402ad17-b8c6-493b-ab24-c145afd2981b",
   "metadata": {},
   "outputs": [],
   "source": [
    "a = (0,1,2,3,4,5)   # []-list   # ()-tuple"
   ]
  },
  {
   "cell_type": "code",
   "execution_count": 2,
   "id": "88efb048-9f8d-45db-b527-71e01efb3ac3",
   "metadata": {},
   "outputs": [
    {
     "data": {
      "text/plain": [
       "tuple"
      ]
     },
     "execution_count": 2,
     "metadata": {},
     "output_type": "execute_result"
    }
   ],
   "source": [
    "type(a)"
   ]
  },
  {
   "cell_type": "code",
   "execution_count": 11,
   "id": "2e2c9b69-dbe1-4feb-9aae-cef4c682a910",
   "metadata": {},
   "outputs": [
    {
     "data": {
      "text/plain": [
       "4"
      ]
     },
     "execution_count": 11,
     "metadata": {},
     "output_type": "execute_result"
    }
   ],
   "source": [
    "a[4]"
   ]
  },
  {
   "cell_type": "code",
   "execution_count": 13,
   "id": "8e6741a7-8f77-4574-9384-ec4f7d9d0e21",
   "metadata": {},
   "outputs": [
    {
     "data": {
      "text/plain": [
       "0"
      ]
     },
     "execution_count": 13,
     "metadata": {},
     "output_type": "execute_result"
    }
   ],
   "source": [
    "a[0]"
   ]
  },
  {
   "cell_type": "code",
   "execution_count": 17,
   "id": "2c22a586-90cd-4b9e-bec0-7e43806f1fc2",
   "metadata": {},
   "outputs": [
    {
     "data": {
      "text/plain": [
       "0"
      ]
     },
     "execution_count": 17,
     "metadata": {},
     "output_type": "execute_result"
    }
   ],
   "source": [
    "a[-6]"
   ]
  },
  {
   "cell_type": "code",
   "execution_count": 19,
   "id": "ff4bea02-25e9-4fdc-9e3e-ffc159cd04ce",
   "metadata": {},
   "outputs": [
    {
     "data": {
      "text/plain": [
       "5"
      ]
     },
     "execution_count": 19,
     "metadata": {},
     "output_type": "execute_result"
    }
   ],
   "source": [
    "a[-1]"
   ]
  },
  {
   "cell_type": "code",
   "execution_count": 23,
   "id": "f3a86466-0f9f-4df2-82d7-3920914e9b1e",
   "metadata": {},
   "outputs": [],
   "source": [
    "# a.*?\n",
    "# a.count\n",
    "# a.index"
   ]
  },
  {
   "cell_type": "code",
   "execution_count": 27,
   "id": "bcd1613d-6772-49df-95d6-bc04b08868b1",
   "metadata": {},
   "outputs": [
    {
     "ename": "TypeError",
     "evalue": "'tuple' object does not support item assignment",
     "output_type": "error",
     "traceback": [
      "\u001b[1;31m---------------------------------------------------------------------------\u001b[0m",
      "\u001b[1;31mTypeError\u001b[0m                                 Traceback (most recent call last)",
      "Cell \u001b[1;32mIn[27], line 1\u001b[0m\n\u001b[1;32m----> 1\u001b[0m a[\u001b[38;5;241m0\u001b[39m] \u001b[38;5;241m=\u001b[39m \u001b[38;5;241m100\u001b[39m\n",
      "\u001b[1;31mTypeError\u001b[0m: 'tuple' object does not support item assignment"
     ]
    }
   ],
   "source": [
    "a[0] = 100"
   ]
  },
  {
   "cell_type": "code",
   "execution_count": 33,
   "id": "57772077-d880-451c-98a5-66b8cd04409d",
   "metadata": {},
   "outputs": [],
   "source": [
    "b = (10, 20, 30, 40, 50, 40, 20, 40)"
   ]
  },
  {
   "cell_type": "code",
   "execution_count": 35,
   "id": "9f92e54a-6d3c-4b74-91f6-4b072eec688e",
   "metadata": {},
   "outputs": [
    {
     "data": {
      "text/plain": [
       "2"
      ]
     },
     "execution_count": 35,
     "metadata": {},
     "output_type": "execute_result"
    }
   ],
   "source": [
    "b.count(20)"
   ]
  },
  {
   "cell_type": "code",
   "execution_count": 37,
   "id": "6b404722-52a5-45a0-a1a6-9c0da8b10201",
   "metadata": {},
   "outputs": [
    {
     "data": {
      "text/plain": [
       "3"
      ]
     },
     "execution_count": 37,
     "metadata": {},
     "output_type": "execute_result"
    }
   ],
   "source": [
    "b.count(40)"
   ]
  },
  {
   "cell_type": "code",
   "execution_count": 39,
   "id": "6fa054cb-04f4-43e6-97a3-d6022e9db252",
   "metadata": {},
   "outputs": [
    {
     "data": {
      "text/plain": [
       "0"
      ]
     },
     "execution_count": 39,
     "metadata": {},
     "output_type": "execute_result"
    }
   ],
   "source": [
    "b.count(100)"
   ]
  },
  {
   "cell_type": "code",
   "execution_count": 41,
   "id": "c61dc1d3-4953-4843-ba7e-2e5d1c915bba",
   "metadata": {},
   "outputs": [
    {
     "data": {
      "text/plain": [
       "1"
      ]
     },
     "execution_count": 41,
     "metadata": {},
     "output_type": "execute_result"
    }
   ],
   "source": [
    "b.index(20)"
   ]
  },
  {
   "cell_type": "code",
   "execution_count": 43,
   "id": "194c87ef-d741-4a20-8b5f-f1d4a1aff2c8",
   "metadata": {},
   "outputs": [
    {
     "data": {
      "text/plain": [
       "3"
      ]
     },
     "execution_count": 43,
     "metadata": {},
     "output_type": "execute_result"
    }
   ],
   "source": [
    "b.index(40)"
   ]
  },
  {
   "cell_type": "code",
   "execution_count": 51,
   "id": "f2d96d37-5108-475c-9aac-11899fedba53",
   "metadata": {},
   "outputs": [],
   "source": [
    "b = (10, 20, 30, 40, 50, 40, 20, 40, 80) # redefining variable tuple"
   ]
  },
  {
   "cell_type": "code",
   "execution_count": 49,
   "id": "60d5a912-c8a0-4f66-96c4-94e5f446f691",
   "metadata": {},
   "outputs": [
    {
     "data": {
      "text/plain": [
       "8"
      ]
     },
     "execution_count": 49,
     "metadata": {},
     "output_type": "execute_result"
    }
   ],
   "source": [
    "b.index(80)"
   ]
  },
  {
   "cell_type": "code",
   "execution_count": 56,
   "id": "6d70c387-1366-418a-be17-cacfb9144c57",
   "metadata": {},
   "outputs": [],
   "source": [
    "c = (0, 1.2, 'a', True)"
   ]
  },
  {
   "cell_type": "code",
   "execution_count": 58,
   "id": "fcac9d43-b749-477e-a0a0-c3f8f1f15e49",
   "metadata": {},
   "outputs": [
    {
     "data": {
      "text/plain": [
       "(0, 1.2, 'a', True)"
      ]
     },
     "execution_count": 58,
     "metadata": {},
     "output_type": "execute_result"
    }
   ],
   "source": [
    "c"
   ]
  },
  {
   "cell_type": "code",
   "execution_count": 63,
   "id": "3efbfbf1-a235-4ea2-9398-726e121b164f",
   "metadata": {},
   "outputs": [
    {
     "data": {
      "text/plain": [
       "(1.2, 'a', True)"
      ]
     },
     "execution_count": 63,
     "metadata": {},
     "output_type": "execute_result"
    }
   ],
   "source": [
    "c[1:]"
   ]
  },
  {
   "cell_type": "code",
   "execution_count": 65,
   "id": "7640a44e-e1fc-4461-8d23-7a6759c42c04",
   "metadata": {},
   "outputs": [
    {
     "data": {
      "text/plain": [
       "(0, 1.2, 'a', True)"
      ]
     },
     "execution_count": 65,
     "metadata": {},
     "output_type": "execute_result"
    }
   ],
   "source": [
    "c[:]"
   ]
  },
  {
   "cell_type": "code",
   "execution_count": 67,
   "id": "cc702fe8-be8d-47fb-9593-a6fb521a6654",
   "metadata": {},
   "outputs": [
    {
     "data": {
      "text/plain": [
       "(True, 'a', 1.2, 0)"
      ]
     },
     "execution_count": 67,
     "metadata": {},
     "output_type": "execute_result"
    }
   ],
   "source": [
    "c[::-1]"
   ]
  },
  {
   "cell_type": "code",
   "execution_count": 71,
   "id": "c7cdf375-6f88-4c25-833b-325a48684da8",
   "metadata": {},
   "outputs": [
    {
     "data": {
      "text/plain": [
       "'a'"
      ]
     },
     "execution_count": 71,
     "metadata": {},
     "output_type": "execute_result"
    }
   ],
   "source": [
    "c[2]"
   ]
  },
  {
   "cell_type": "code",
   "execution_count": 75,
   "id": "290cf02b-8953-4f13-a803-8cff45efb303",
   "metadata": {},
   "outputs": [
    {
     "data": {
      "text/plain": [
       "(0, 1.2, 'a')"
      ]
     },
     "execution_count": 75,
     "metadata": {},
     "output_type": "execute_result"
    }
   ],
   "source": [
    "c[:3]"
   ]
  },
  {
   "cell_type": "code",
   "execution_count": 79,
   "id": "1f9cd980-34ff-4939-89e2-4242cf8e6a69",
   "metadata": {},
   "outputs": [],
   "source": [
    "a = (10, 300, -124, ['a','b',(True, False), 'c'], -45.7)"
   ]
  },
  {
   "cell_type": "code",
   "execution_count": 85,
   "id": "13929638-98f8-4849-a484-cafa071fa429",
   "metadata": {},
   "outputs": [
    {
     "data": {
      "text/plain": [
       "False"
      ]
     },
     "execution_count": 85,
     "metadata": {},
     "output_type": "execute_result"
    }
   ],
   "source": [
    "a[3][2][1]"
   ]
  },
  {
   "cell_type": "code",
   "execution_count": 88,
   "id": "2ba9975f-b975-4bf9-94f1-f9de638c7be6",
   "metadata": {},
   "outputs": [
    {
     "data": {
      "text/plain": [
       "['a', 'b', (True, False), 'c']"
      ]
     },
     "execution_count": 88,
     "metadata": {},
     "output_type": "execute_result"
    }
   ],
   "source": [
    "a[3]"
   ]
  },
  {
   "cell_type": "code",
   "execution_count": 92,
   "id": "d5272c77-4d95-4008-8257-2631bfaf8d70",
   "metadata": {},
   "outputs": [
    {
     "data": {
      "text/plain": [
       "list"
      ]
     },
     "execution_count": 92,
     "metadata": {},
     "output_type": "execute_result"
    }
   ],
   "source": [
    "type(a[3])"
   ]
  },
  {
   "cell_type": "code",
   "execution_count": 90,
   "id": "5ec7c210-cec9-4c16-a017-b80a0df9c476",
   "metadata": {},
   "outputs": [
    {
     "data": {
      "text/plain": [
       "'a'"
      ]
     },
     "execution_count": 90,
     "metadata": {},
     "output_type": "execute_result"
    }
   ],
   "source": [
    "a[3][0]"
   ]
  },
  {
   "cell_type": "code",
   "execution_count": 94,
   "id": "e44dec38-f957-4902-bc6b-f346baa54deb",
   "metadata": {},
   "outputs": [],
   "source": [
    "a[3][0] = 'A'"
   ]
  },
  {
   "cell_type": "code",
   "execution_count": 98,
   "id": "91b415db-4d70-45d8-9df3-45cdbf8ca2b3",
   "metadata": {},
   "outputs": [
    {
     "data": {
      "text/plain": [
       "['A', 'b', (True, False), 'c']"
      ]
     },
     "execution_count": 98,
     "metadata": {},
     "output_type": "execute_result"
    }
   ],
   "source": [
    "a[3]"
   ]
  },
  {
   "cell_type": "code",
   "execution_count": 100,
   "id": "c4098196-16af-4433-a413-53a47640a0c7",
   "metadata": {},
   "outputs": [
    {
     "data": {
      "text/plain": [
       "(True, False)"
      ]
     },
     "execution_count": 100,
     "metadata": {},
     "output_type": "execute_result"
    }
   ],
   "source": [
    "a[3][2]"
   ]
  },
  {
   "cell_type": "code",
   "execution_count": 104,
   "id": "7412e0f1-51b9-4ae6-a7d9-6a17266c65f4",
   "metadata": {},
   "outputs": [
    {
     "ename": "TypeError",
     "evalue": "'tuple' object does not support item assignment",
     "output_type": "error",
     "traceback": [
      "\u001b[1;31m---------------------------------------------------------------------------\u001b[0m",
      "\u001b[1;31mTypeError\u001b[0m                                 Traceback (most recent call last)",
      "Cell \u001b[1;32mIn[104], line 1\u001b[0m\n\u001b[1;32m----> 1\u001b[0m a[\u001b[38;5;241m3\u001b[39m][\u001b[38;5;241m2\u001b[39m][\u001b[38;5;241m0\u001b[39m] \u001b[38;5;241m=\u001b[39m \u001b[38;5;241m1\u001b[39m\n",
      "\u001b[1;31mTypeError\u001b[0m: 'tuple' object does not support item assignment"
     ]
    }
   ],
   "source": [
    "a[3][2][0] = 1"
   ]
  },
  {
   "cell_type": "code",
   "execution_count": null,
   "id": "95652d0d-9323-421c-8fe7-19ffd40f1efd",
   "metadata": {},
   "outputs": [],
   "source": []
  }
 ],
 "metadata": {
  "kernelspec": {
   "display_name": "Python 3",
   "language": "python",
   "name": "python3"
  },
  "language_info": {
   "codemirror_mode": {
    "name": "ipython",
    "version": 3
   },
   "file_extension": ".py",
   "mimetype": "text/x-python",
   "name": "python",
   "nbconvert_exporter": "python",
   "pygments_lexer": "ipython3",
   "version": "3.11.9"
  }
 },
 "nbformat": 4,
 "nbformat_minor": 5
}

{
 "cells": [
  {
   "cell_type": "markdown",
   "id": "7711a093",
   "metadata": {},
   "source": [
    "# Python\n",
    "- Brief History of Python\n",
    "- Created in 1990 by Guido van Rossum\n",
    "- Python 3 released in 2008. Status of Python versions can be accessed [here](https://devguide.python.org/versions/)\n",
    "- Specifically designed as an easy to use language\n",
    "- High focus on readability of code\n",
    "- Official documentation [link](https://docs.python.org/3/tutorial/)"
   ]
  },
  {
   "cell_type": "markdown",
   "id": "24037041",
   "metadata": {},
   "source": [
    "# Why Choose Python?\n",
    "- Designed for clear, logical code that is easy to read and learn.\n",
    "- Lots of existing libraries and frameworks written in Python allowing users to apply Python to a wide variety of tasks.\n",
    "- Focuses on optimizing developer time, rather than a computer’s processing time.\n",
    "- Great documentation online"
   ]
  },
  {
   "cell_type": "markdown",
   "id": "718326b4",
   "metadata": {},
   "source": [
    "# What can you do with Python?\n",
    "1. Automate simple tasks \n",
    "    - Searching for files and editing them\n",
    "    - Scraping information from a website\n",
    "    - Reading and editing excel files\n",
    "    - Work with PDFs\n",
    "    - Automate emails and text messages\n",
    "    - Fill out forms\n",
    "2. Data Science and Machine Learning\n",
    "    - Analyze large data files\n",
    "    - Create visualizations\n",
    "    - Perform machine learning tasks\n",
    "    - Create and run predictive algorithms\n",
    "3. Create websites\n",
    "    - Use web frameworks such as Django and Flask to handle the backend of a website and user data\n",
    "    - Create interactive dashboards for users\n",
    "\n",
    "Once you understand base Python and begin working with a few libraries, you’ll quickly begin to see the vast potential Python has for your own projects!"
   ]
  },
  {
   "cell_type": "markdown",
   "id": "c821eacb",
   "metadata": {},
   "source": [
    "# Features of Python\n",
    "Refer the following links to review features of Python\n",
    "- [Link1](https://www.simplilearn.com/python-features-article)\n",
    "- [Link2](https://www.geeksforgeeks.org/python-features/)\n",
    "\n",
    "Still not clear? Just google it yourself."
   ]
  },
  {
   "cell_type": "code",
   "execution_count": 1,
   "id": "2ae2d574",
   "metadata": {},
   "outputs": [
    {
     "name": "stdout",
     "output_type": "stream",
     "text": [
      "Hello World!\n"
     ]
    }
   ],
   "source": [
    "print(\"Hello World!\")"
   ]
  },
  {
   "cell_type": "code",
   "execution_count": 2,
   "id": "2b693668",
   "metadata": {},
   "outputs": [
    {
     "name": "stdout",
     "output_type": "stream",
     "text": [
      "Hi Student, Welcome to the class.\n"
     ]
    }
   ],
   "source": [
    "print(\"Hi Student, Welcome to the class.\")"
   ]
  },
  {
   "cell_type": "code",
   "execution_count": 1,
   "id": "6e53ac3e",
   "metadata": {},
   "outputs": [
    {
     "name": "stdout",
     "output_type": "stream",
     "text": [
      "\u001b[1;31mSignature:\u001b[0m \u001b[0mprint\u001b[0m\u001b[1;33m(\u001b[0m\u001b[1;33m*\u001b[0m\u001b[0margs\u001b[0m\u001b[1;33m,\u001b[0m \u001b[0msep\u001b[0m\u001b[1;33m=\u001b[0m\u001b[1;34m' '\u001b[0m\u001b[1;33m,\u001b[0m \u001b[0mend\u001b[0m\u001b[1;33m=\u001b[0m\u001b[1;34m'\\n'\u001b[0m\u001b[1;33m,\u001b[0m \u001b[0mfile\u001b[0m\u001b[1;33m=\u001b[0m\u001b[1;32mNone\u001b[0m\u001b[1;33m,\u001b[0m \u001b[0mflush\u001b[0m\u001b[1;33m=\u001b[0m\u001b[1;32mFalse\u001b[0m\u001b[1;33m)\u001b[0m\u001b[1;33m\u001b[0m\u001b[1;33m\u001b[0m\u001b[0m\n",
      "\u001b[1;31mDocstring:\u001b[0m\n",
      "Prints the values to a stream, or to sys.stdout by default.\n",
      "\n",
      "sep\n",
      "  string inserted between values, default a space.\n",
      "end\n",
      "  string appended after the last value, default a newline.\n",
      "file\n",
      "  a file-like object (stream); defaults to the current sys.stdout.\n",
      "flush\n",
      "  whether to forcibly flush the stream.\n",
      "\u001b[1;31mType:\u001b[0m      builtin_function_or_method"
     ]
    }
   ],
   "source": [
    "print?"
   ]
  },
  {
   "cell_type": "code",
   "execution_count": 2,
   "id": "3d07416f",
   "metadata": {},
   "outputs": [
    {
     "name": "stdout",
     "output_type": "stream",
     "text": [
      "\u001b[1;31mSignature:\u001b[0m \u001b[0mprint\u001b[0m\u001b[1;33m(\u001b[0m\u001b[1;33m*\u001b[0m\u001b[0margs\u001b[0m\u001b[1;33m,\u001b[0m \u001b[0msep\u001b[0m\u001b[1;33m=\u001b[0m\u001b[1;34m' '\u001b[0m\u001b[1;33m,\u001b[0m \u001b[0mend\u001b[0m\u001b[1;33m=\u001b[0m\u001b[1;34m'\\n'\u001b[0m\u001b[1;33m,\u001b[0m \u001b[0mfile\u001b[0m\u001b[1;33m=\u001b[0m\u001b[1;32mNone\u001b[0m\u001b[1;33m,\u001b[0m \u001b[0mflush\u001b[0m\u001b[1;33m=\u001b[0m\u001b[1;32mFalse\u001b[0m\u001b[1;33m)\u001b[0m\u001b[1;33m\u001b[0m\u001b[1;33m\u001b[0m\u001b[0m\n",
      "\u001b[1;31mDocstring:\u001b[0m\n",
      "Prints the values to a stream, or to sys.stdout by default.\n",
      "\n",
      "sep\n",
      "  string inserted between values, default a space.\n",
      "end\n",
      "  string appended after the last value, default a newline.\n",
      "file\n",
      "  a file-like object (stream); defaults to the current sys.stdout.\n",
      "flush\n",
      "  whether to forcibly flush the stream.\n",
      "\u001b[1;31mType:\u001b[0m      builtin_function_or_method"
     ]
    }
   ],
   "source": [
    "print??"
   ]
  },
  {
   "cell_type": "code",
   "execution_count": 3,
   "id": "b034fad9",
   "metadata": {},
   "outputs": [
    {
     "name": "stdout",
     "output_type": "stream",
     "text": [
      "Help on built-in function print in module builtins:\n",
      "\n",
      "print(*args, sep=' ', end='\\n', file=None, flush=False)\n",
      "    Prints the values to a stream, or to sys.stdout by default.\n",
      "    \n",
      "    sep\n",
      "      string inserted between values, default a space.\n",
      "    end\n",
      "      string appended after the last value, default a newline.\n",
      "    file\n",
      "      a file-like object (stream); defaults to the current sys.stdout.\n",
      "    flush\n",
      "      whether to forcibly flush the stream.\n",
      "\n"
     ]
    }
   ],
   "source": [
    "help(print)"
   ]
  },
  {
   "cell_type": "code",
   "execution_count": null,
   "id": "0302e806",
   "metadata": {},
   "outputs": [],
   "source": []
  }
 ],
 "metadata": {
  "kernelspec": {
   "display_name": "Python 3",
   "language": "python",
   "name": "python3"
  },
  "language_info": {
   "codemirror_mode": {
    "name": "ipython",
    "version": 3
   },
   "file_extension": ".py",
   "mimetype": "text/x-python",
   "name": "python",
   "nbconvert_exporter": "python",
   "pygments_lexer": "ipython3",
   "version": "3.11.9"
  }
 },
 "nbformat": 4,
 "nbformat_minor": 5
}

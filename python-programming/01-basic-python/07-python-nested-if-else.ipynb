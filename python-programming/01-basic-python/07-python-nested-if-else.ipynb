{
 "cells": [
  {
   "cell_type": "code",
   "execution_count": 1,
   "id": "3aeb9bdb-1425-404d-a8f2-ad929801f968",
   "metadata": {},
   "outputs": [
    {
     "name": "stdout",
     "output_type": "stream",
     "text": [
      "Enter first input:  100\n",
      "Enter second input:  200\n"
     ]
    }
   ],
   "source": [
    "a = input(\"Enter first input: \")\n",
    "b = input(\"Enter second input: \")"
   ]
  },
  {
   "cell_type": "code",
   "execution_count": 3,
   "id": "33609362-2983-414e-92ee-28d8b10d6e4e",
   "metadata": {},
   "outputs": [
    {
     "name": "stdout",
     "output_type": "stream",
     "text": [
      "100\n",
      "200\n"
     ]
    }
   ],
   "source": [
    "print(a)\n",
    "print(b)"
   ]
  },
  {
   "cell_type": "code",
   "execution_count": 17,
   "id": "84c2c873-9987-40de-a4ea-cd459f82e4ad",
   "metadata": {},
   "outputs": [
    {
     "name": "stdout",
     "output_type": "stream",
     "text": [
      "a: 100 and b: 200\n"
     ]
    }
   ],
   "source": [
    "print(f'a: {a} and b: {b}')"
   ]
  },
  {
   "cell_type": "code",
   "execution_count": 25,
   "id": "e83cbcff-c142-4f77-897a-ba3a00000bee",
   "metadata": {},
   "outputs": [],
   "source": [
    "if a > b:\n",
    "    # A is max : a//10, b//5\n",
    "    # print Max\n",
    "    quo_a = a//10\n",
    "    quo_b = b//5\n",
    "    if quo_a > quo_b:   # 5 > 4     7 > 10\n",
    "        print(quo_a)\n",
    "    else:\n",
    "        print(quo_b)\n",
    "else:\n",
    "    # A is min: a//5, b//10\n",
    "    # print min\n",
    "    pass"
   ]
  },
  {
   "cell_type": "code",
   "execution_count": 5,
   "id": "543e3ff7-5021-4dc6-8309-fe8975411293",
   "metadata": {},
   "outputs": [],
   "source": [
    "a = 11\n",
    "b = 5"
   ]
  },
  {
   "cell_type": "code",
   "execution_count": 7,
   "id": "8f92102f-98ad-41ef-9bce-486b866ba8e0",
   "metadata": {},
   "outputs": [
    {
     "data": {
      "text/plain": [
       "True"
      ]
     },
     "execution_count": 7,
     "metadata": {},
     "output_type": "execute_result"
    }
   ],
   "source": [
    "a > b"
   ]
  },
  {
   "cell_type": "code",
   "execution_count": 9,
   "id": "65b7ae28-4414-429c-8ab2-9261c6405c71",
   "metadata": {},
   "outputs": [
    {
     "data": {
      "text/plain": [
       "True"
      ]
     },
     "execution_count": 9,
     "metadata": {},
     "output_type": "execute_result"
    }
   ],
   "source": [
    "11 > 5"
   ]
  },
  {
   "cell_type": "code",
   "execution_count": 11,
   "id": "369bf6df-5ede-459a-97ce-ab0c2d39885a",
   "metadata": {},
   "outputs": [
    {
     "name": "stdout",
     "output_type": "stream",
     "text": [
      "11\n"
     ]
    }
   ],
   "source": [
    "# Printing maximum value\n",
    "if a > b:\n",
    "    print(a)\n",
    "else:\n",
    "    print(b)"
   ]
  },
  {
   "cell_type": "code",
   "execution_count": 13,
   "id": "9cf27b0c-3784-4ccb-8dc9-366fee879f2e",
   "metadata": {},
   "outputs": [
    {
     "name": "stdout",
     "output_type": "stream",
     "text": [
      "5\n"
     ]
    }
   ],
   "source": [
    "# Printing minimum value\n",
    "if a > b:   # 11 > 5\n",
    "    # A value is max, b is min\n",
    "    print(b)\n",
    "else:\n",
    "    # A value is min, b is max\n",
    "    print(a)"
   ]
  },
  {
   "cell_type": "code",
   "execution_count": 15,
   "id": "09e80902-25da-4e6a-a5f4-21ed7d23b64d",
   "metadata": {},
   "outputs": [
    {
     "name": "stdout",
     "output_type": "stream",
     "text": [
      "5\n"
     ]
    }
   ],
   "source": [
    "#  printing min\n",
    "if a < b:\n",
    "    # a is min, b is max\n",
    "    print(a)\n",
    "else:\n",
    "    # a is max, b is min\n",
    "    print(b)"
   ]
  },
  {
   "cell_type": "code",
   "execution_count": 1,
   "id": "9fa04172-ae00-4561-8e8d-55b06dd448a4",
   "metadata": {},
   "outputs": [],
   "source": [
    "# Given 2 inputs, a and b\n",
    "# If A is min, calculate quotient of a and b with conditions: a//5, b//10 respectively\n",
    "#   Then print min quotient\n",
    "# if a is max, calculate quotient of a and b with conditions: a//10, b//5 respectively\n",
    "#   Then print max quotient\n"
   ]
  },
  {
   "cell_type": "code",
   "execution_count": 2,
   "id": "fb71e77c-74a2-4f5e-8644-c4092c59cf05",
   "metadata": {},
   "outputs": [
    {
     "data": {
      "text/plain": [
       "True"
      ]
     },
     "execution_count": 2,
     "metadata": {},
     "output_type": "execute_result"
    }
   ],
   "source": [
    "# quo_a < quo_b\n",
    "4 < 5"
   ]
  },
  {
   "cell_type": "code",
   "execution_count": 65,
   "id": "5c5a8ad8-5e28-473c-b71b-50ccd69df368",
   "metadata": {},
   "outputs": [
    {
     "name": "stdout",
     "output_type": "stream",
     "text": [
      "A is min\n",
      "20\n",
      "Quo_a 4\n",
      "Quo_b 5\n",
      "4\n"
     ]
    }
   ],
   "source": [
    "a = 20\n",
    "b = 52\n",
    "if a < b:\n",
    "    # A is min\n",
    "    print(\"A is min\")\n",
    "    # print(a)\n",
    "    quo_a = a//5  # 4\n",
    "    quo_b = b//10  # 5\n",
    "    print(\"Quo_a\", quo_a)\n",
    "    print(\"Quo_b\", quo_b)\n",
    "    if quo_a < quo_b:\n",
    "        print(quo_a)\n",
    "else:\n",
    "    # A is max\n",
    "    print(\"A is max\")\n",
    "    # print(a)\n",
    "    quo_a = a//10\n",
    "    quo_b = b//5\n",
    "    print(\"Quo_a\", quo_a)\n",
    "    print(\"Quo_b\", quo_b)\n",
    "    if quo_a > quo_b:\n",
    "        print(quo_a)\n",
    "        # max quotient"
   ]
  },
  {
   "cell_type": "code",
   "execution_count": 53,
   "id": "24a7516e-b4d1-4f35-851e-7266e572bd01",
   "metadata": {},
   "outputs": [
    {
     "data": {
      "text/plain": [
       "True"
      ]
     },
     "execution_count": 53,
     "metadata": {},
     "output_type": "execute_result"
    }
   ],
   "source": [
    "quo_a > quo_b"
   ]
  },
  {
   "cell_type": "code",
   "execution_count": 25,
   "id": "dd302eba-855f-4c69-9fb5-f44d207151d2",
   "metadata": {},
   "outputs": [
    {
     "data": {
      "text/plain": [
       "False"
      ]
     },
     "execution_count": 25,
     "metadata": {},
     "output_type": "execute_result"
    }
   ],
   "source": [
    "-11 > 5"
   ]
  },
  {
   "cell_type": "code",
   "execution_count": 27,
   "id": "c7561ded-0350-45da-b538-a10bfae607a0",
   "metadata": {},
   "outputs": [
    {
     "data": {
      "text/plain": [
       "True"
      ]
     },
     "execution_count": 27,
     "metadata": {},
     "output_type": "execute_result"
    }
   ],
   "source": [
    "-11 < 5"
   ]
  },
  {
   "cell_type": "code",
   "execution_count": 29,
   "id": "76c30827-475e-403d-aeee-8d8de925f2a7",
   "metadata": {},
   "outputs": [
    {
     "data": {
      "text/plain": [
       "False"
      ]
     },
     "execution_count": 29,
     "metadata": {},
     "output_type": "execute_result"
    }
   ],
   "source": [
    "6 < 5"
   ]
  },
  {
   "cell_type": "code",
   "execution_count": 69,
   "id": "4fee9abc-0f50-4978-8051-1be3d9642145",
   "metadata": {},
   "outputs": [],
   "source": [
    "\n",
    "# Even numbers : numbers divisible by 2 -- ex: 2, 4, 6, 8\n",
    "# Odd numbers -- Ex: 1, 3, 5"
   ]
  },
  {
   "cell_type": "code",
   "execution_count": 71,
   "id": "8688b9b0-a4ee-4308-88a6-8367b6a439e6",
   "metadata": {},
   "outputs": [],
   "source": [
    "### Printing even numbers"
   ]
  },
  {
   "cell_type": "code",
   "execution_count": 77,
   "id": "d745b35b-a0d3-4106-9c93-73819a6a7553",
   "metadata": {},
   "outputs": [],
   "source": [
    "# Assignment 2\n",
    "# given 3 inputs a, b, c\n",
    "# print max value "
   ]
  },
  {
   "cell_type": "code",
   "execution_count": 79,
   "id": "945f9ef2-cb5b-4fd9-b2a8-3bafda8f39f9",
   "metadata": {},
   "outputs": [],
   "source": [
    "# Assignment 3\n",
    "# given 3 inputs a, b, c\n",
    "# print min value "
   ]
  },
  {
   "cell_type": "code",
   "execution_count": null,
   "id": "d7c6fca0-b995-4c98-8c12-f145c48eda9f",
   "metadata": {},
   "outputs": [],
   "source": []
  }
 ],
 "metadata": {
  "kernelspec": {
   "display_name": "Python 3",
   "language": "python",
   "name": "python3"
  },
  "language_info": {
   "codemirror_mode": {
    "name": "ipython",
    "version": 3
   },
   "file_extension": ".py",
   "mimetype": "text/x-python",
   "name": "python",
   "nbconvert_exporter": "python",
   "pygments_lexer": "ipython3",
   "version": "3.11.9"
  }
 },
 "nbformat": 4,
 "nbformat_minor": 5
}

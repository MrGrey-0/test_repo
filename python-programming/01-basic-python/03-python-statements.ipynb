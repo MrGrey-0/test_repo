{
 "cells": [
  {
   "cell_type": "markdown",
   "id": "16a6ece0",
   "metadata": {},
   "source": [
    "## Python Statements or Control flow\n",
    "- We often only want certain code to execute when a particular condition has been met.\n",
    "- For example, if  my dog is hungry (some condition), then I will feed the dog (some action).\n",
    "- To control this flow of logic we use some keywords:\n",
    "    - if\n",
    "    - elif \n",
    "    - else\n",
    "- Control Flow syntax makes use of colons and indentation (whitespace).\n",
    "- This indentation system is crucial to Python and is what sets it apart from other programming languages.\n"
   ]
  },
  {
   "cell_type": "code",
   "execution_count": null,
   "id": "2aed9944",
   "metadata": {},
   "outputs": [],
   "source": [
    "a = 12\n",
    "b = 11"
   ]
  },
  {
   "cell_type": "code",
   "execution_count": null,
   "id": "ec8bd945",
   "metadata": {},
   "outputs": [
    {
     "name": "stdout",
     "output_type": "stream",
     "text": [
      "A is greater\n",
      "You are inside if block\n"
     ]
    }
   ],
   "source": [
    "## Indentation is important in python\n",
    "if a > b:\n",
    "    print(\"A is greater\")\n",
    "    print(\"You are inside if block\")"
   ]
  },
  {
   "cell_type": "code",
   "execution_count": null,
   "id": "7c57a024",
   "metadata": {},
   "outputs": [
    {
     "name": "stdout",
     "output_type": "stream",
     "text": [
      "You are in if block\n",
      "I'm from if block second line\n",
      "I'm no longer in if block\n"
     ]
    }
   ],
   "source": [
    "if 10 > 3:\n",
    "    print(\"You are in if block\")\n",
    "    print(\"I'm from if block second line\")\n",
    "print(\"I'm no longer in if block\")"
   ]
  },
  {
   "cell_type": "code",
   "execution_count": null,
   "id": "359b4b38",
   "metadata": {},
   "outputs": [
    {
     "name": "stdout",
     "output_type": "stream",
     "text": [
      "I'm no longer in if block\n"
     ]
    }
   ],
   "source": [
    "if 1 > 3:\n",
    "    print(\"you are in if block\")\n",
    "    print(\"I'm from if block second line\")\n",
    "# end of if\n",
    "print(\"I'm no longer in if block\")"
   ]
  },
  {
   "cell_type": "code",
   "execution_count": null,
   "id": "9a7986fa",
   "metadata": {},
   "outputs": [
    {
     "name": "stdout",
     "output_type": "stream",
     "text": [
      "12\n",
      "11\n"
     ]
    }
   ],
   "source": [
    "print(a)\n",
    "print(b)"
   ]
  },
  {
   "cell_type": "code",
   "execution_count": null,
   "id": "2f9f46ec",
   "metadata": {},
   "outputs": [
    {
     "name": "stdout",
     "output_type": "stream",
     "text": [
      "A:  500\n",
      "B:  200\n",
      "A is greater\n"
     ]
    }
   ],
   "source": [
    "print(\"A: \", a)\n",
    "print(\"B: \", b)\n",
    "if a > b:\n",
    "    print(\"A is greater\")\n",
    "else:\n",
    "    print(\"B is greater\")"
   ]
  },
  {
   "cell_type": "code",
   "execution_count": null,
   "id": "a0550a41",
   "metadata": {},
   "outputs": [],
   "source": [
    "a = 500\n",
    "b = 200"
   ]
  },
  {
   "cell_type": "code",
   "execution_count": null,
   "id": "e110d218",
   "metadata": {},
   "outputs": [],
   "source": [
    "a = -5\n",
    "b = -10"
   ]
  },
  {
   "cell_type": "code",
   "execution_count": null,
   "id": "f936fa3e",
   "metadata": {},
   "outputs": [
    {
     "name": "stdout",
     "output_type": "stream",
     "text": [
      "A:  -5\n",
      "B:  -10\n",
      "A is greater\n"
     ]
    }
   ],
   "source": [
    "print(\"A: \", a)\n",
    "print(\"B: \", b)\n",
    "if a > b:\n",
    "    print(\"A is greater\")\n",
    "else:\n",
    "    print(\"B is greater\")"
   ]
  },
  {
   "cell_type": "code",
   "execution_count": null,
   "id": "0d480914",
   "metadata": {},
   "outputs": [],
   "source": [
    "# x = 0 to 4\n",
    "\n",
    "# 0 -> *\n",
    "# 1 -> @\n",
    "# 2 -> $\n",
    "# 3 -> #\n",
    "# 4 -> &\n",
    "# anything else -> unexpected input"
   ]
  },
  {
   "cell_type": "code",
   "execution_count": null,
   "id": "964e8a15",
   "metadata": {},
   "outputs": [
    {
     "name": "stdout",
     "output_type": "stream",
     "text": [
      "Enter value:4\n"
     ]
    }
   ],
   "source": [
    "x = input(\"Enter value:\")"
   ]
  },
  {
   "cell_type": "code",
   "execution_count": null,
   "id": "7d57ed76",
   "metadata": {},
   "outputs": [
    {
     "data": {
      "text/plain": [
       "'4'"
      ]
     },
     "metadata": {},
     "output_type": "display_data"
    }
   ],
   "source": [
    "x"
   ]
  },
  {
   "cell_type": "code",
   "execution_count": null,
   "id": "f87ab933",
   "metadata": {},
   "outputs": [
    {
     "data": {
      "text/plain": [
       "str"
      ]
     },
     "metadata": {},
     "output_type": "display_data"
    }
   ],
   "source": [
    "type(x)"
   ]
  },
  {
   "cell_type": "code",
   "execution_count": 21,
   "id": "eb49cb95",
   "metadata": {},
   "outputs": [],
   "source": [
    "total_purchase = 3000"
   ]
  },
  {
   "cell_type": "code",
   "execution_count": 22,
   "id": "73301887",
   "metadata": {},
   "outputs": [
    {
     "name": "stdout",
     "output_type": "stream",
     "text": [
      "2850.0\n",
      "Done\n"
     ]
    }
   ],
   "source": [
    "if total_purchase > 2000:\n",
    "    amount_payable = total_purchase * 0.95\n",
    "    print(amount_payable)\n",
    "# End of if total_purchase\n",
    "print(\"Done\")"
   ]
  },
  {
   "cell_type": "code",
   "execution_count": 23,
   "id": "048bab4a",
   "metadata": {},
   "outputs": [
    {
     "data": {
      "text/plain": [
       "2850.0"
      ]
     },
     "execution_count": 23,
     "metadata": {},
     "output_type": "execute_result"
    }
   ],
   "source": [
    "amount_payable"
   ]
  },
  {
   "cell_type": "code",
   "execution_count": 24,
   "id": "b668b9e2",
   "metadata": {},
   "outputs": [],
   "source": [
    "del amount_payable # delete variables created"
   ]
  },
  {
   "cell_type": "code",
   "execution_count": 25,
   "id": "aa438a4b",
   "metadata": {},
   "outputs": [
    {
     "ename": "NameError",
     "evalue": "name 'amount_payable' is not defined",
     "output_type": "error",
     "traceback": [
      "\u001b[1;31m---------------------------------------------------------------------------\u001b[0m",
      "\u001b[1;31mNameError\u001b[0m                                 Traceback (most recent call last)",
      "Cell \u001b[1;32mIn[25], line 1\u001b[0m\n\u001b[1;32m----> 1\u001b[0m amount_payable\n",
      "\u001b[1;31mNameError\u001b[0m: name 'amount_payable' is not defined"
     ]
    }
   ],
   "source": [
    "amount_payable"
   ]
  },
  {
   "cell_type": "code",
   "execution_count": 27,
   "id": "8ba245a4",
   "metadata": {},
   "outputs": [
    {
     "name": "stdout",
     "output_type": "stream",
     "text": [
      "Applying 1% discount\n",
      "Amount Payable:  297.0\n"
     ]
    }
   ],
   "source": [
    "total_purchase = 300\n",
    "if total_purchase > 2000:\n",
    "    amount_payable = total_purchase * 0.95\n",
    "    print(\"Applying 5% discount\")\n",
    "else:\n",
    "    amount_payable =  total_purchase * 0.99\n",
    "    print(\"Applying 1% discount\")\n",
    "print(\"Amount Payable: \", amount_payable)"
   ]
  },
  {
   "cell_type": "code",
   "execution_count": 28,
   "id": "68c385cf",
   "metadata": {},
   "outputs": [],
   "source": [
    "# 0 to 2K - 1% discount\n",
    "# 2K to 5K - 5%\n",
    "# 5K to 10K - 10%\n",
    "# > 10K - 20%"
   ]
  },
  {
   "cell_type": "code",
   "execution_count": 34,
   "id": "1ab7626f",
   "metadata": {},
   "outputs": [],
   "source": [
    "total_purchase = 4567 # hard-coding"
   ]
  },
  {
   "cell_type": "code",
   "execution_count": 35,
   "id": "27f3302b",
   "metadata": {},
   "outputs": [
    {
     "name": "stdout",
     "output_type": "stream",
     "text": [
      "Applying 5% discount\n",
      "Amount Payable:  4338.65\n"
     ]
    }
   ],
   "source": [
    "if total_purchase < 2000:\n",
    "    amount_payable = total_purchase * 0.99\n",
    "    print(\"Applying 1% discount\")\n",
    "elif total_purchase < 5000:\n",
    "    amount_payable = total_purchase * 0.95\n",
    "    print(\"Applying 5% discount\")\n",
    "elif total_purchase < 10000:\n",
    "    amount_payable = total_purchase * 0.90\n",
    "    print(\"Applying 10% discount\")\n",
    "else:\n",
    "    amount_payable = total_purchase * 0.80\n",
    "    print(\"Applying 20% discount\")\n",
    "print(\"Amount Payable: \", amount_payable)"
   ]
  },
  {
   "cell_type": "code",
   "execution_count": 36,
   "id": "2ede38f8",
   "metadata": {},
   "outputs": [],
   "source": [
    "total_purchase = 4567\n",
    "is_duracell_bg = True   # False"
   ]
  },
  {
   "cell_type": "code",
   "execution_count": 37,
   "id": "d9916152",
   "metadata": {},
   "outputs": [
    {
     "name": "stdout",
     "output_type": "stream",
     "text": [
      "Applying 5% discount\n",
      "Discount on Duracell batteries:  86.773\n",
      "Final amount Payable:  4251.8769999999995\n"
     ]
    }
   ],
   "source": [
    "if total_purchase < 2000:\n",
    "    amount_payable = total_purchase * 0.99\n",
    "    print(\"Applying 1% discount\")\n",
    "elif total_purchase < 5000:\n",
    "    amount_payable = total_purchase * 0.95\n",
    "    print(\"Applying 5% discount\")\n",
    "elif total_purchase < 10000:\n",
    "    amount_payable = total_purchase * 0.90\n",
    "    print(\"Applying 10% discount\")\n",
    "else:\n",
    "    amount_payable = total_purchase * 0.80\n",
    "    print(\"Applying 20% discount\")\n",
    "\n",
    "if is_duracell_bg:\n",
    "#     final_amount = amount_payable * 0.98\n",
    "    discount = amount_payable * 2 / 100\n",
    "    print(\"Discount on Duracell batteries: \", discount)\n",
    "    final_amount = amount_payable - discount\n",
    "print(\"Final amount Payable: \", final_amount)"
   ]
  },
  {
   "cell_type": "code",
   "execution_count": 49,
   "id": "da53b186",
   "metadata": {},
   "outputs": [
    {
     "name": "stdout",
     "output_type": "stream",
     "text": [
      "Enter input value: 3456\n"
     ]
    }
   ],
   "source": [
    "total_payable = input(\"Enter input value: \")"
   ]
  },
  {
   "cell_type": "code",
   "execution_count": 50,
   "id": "9fd0ff69",
   "metadata": {},
   "outputs": [
    {
     "data": {
      "text/plain": [
       "'3456'"
      ]
     },
     "execution_count": 50,
     "metadata": {},
     "output_type": "execute_result"
    }
   ],
   "source": [
    "total_payable"
   ]
  },
  {
   "cell_type": "code",
   "execution_count": 51,
   "id": "560805ec",
   "metadata": {},
   "outputs": [
    {
     "data": {
      "text/plain": [
       "str"
      ]
     },
     "execution_count": 51,
     "metadata": {},
     "output_type": "execute_result"
    }
   ],
   "source": [
    "type(total_payable)"
   ]
  },
  {
   "cell_type": "code",
   "execution_count": 53,
   "id": "bcbd269b",
   "metadata": {},
   "outputs": [],
   "source": [
    "total_pay_int = int(total_payable)"
   ]
  },
  {
   "cell_type": "code",
   "execution_count": 54,
   "id": "b2dfd918",
   "metadata": {},
   "outputs": [
    {
     "data": {
      "text/plain": [
       "int"
      ]
     },
     "execution_count": 54,
     "metadata": {},
     "output_type": "execute_result"
    }
   ],
   "source": [
    "type(total_pay_int)"
   ]
  },
  {
   "cell_type": "code",
   "execution_count": 62,
   "id": "dbf2a707",
   "metadata": {},
   "outputs": [
    {
     "name": "stdout",
     "output_type": "stream",
     "text": [
      "Enter purchase amount: 4567\n",
      "Is duracell bought as True or False: True\n"
     ]
    }
   ],
   "source": [
    "total_purchase = input(\"Enter purchase amount: \")\n",
    "is_duracell_bg = input(\"Is duracell bought as True or False: \")"
   ]
  },
  {
   "cell_type": "code",
   "execution_count": 63,
   "id": "9d72545a",
   "metadata": {},
   "outputs": [
    {
     "data": {
      "text/plain": [
       "'4567'"
      ]
     },
     "execution_count": 63,
     "metadata": {},
     "output_type": "execute_result"
    }
   ],
   "source": [
    "total_purchase"
   ]
  },
  {
   "cell_type": "code",
   "execution_count": 64,
   "id": "339200ec",
   "metadata": {},
   "outputs": [
    {
     "ename": "TypeError",
     "evalue": "'<' not supported between instances of 'str' and 'int'",
     "output_type": "error",
     "traceback": [
      "\u001b[1;31m---------------------------------------------------------------------------\u001b[0m",
      "\u001b[1;31mTypeError\u001b[0m                                 Traceback (most recent call last)",
      "Cell \u001b[1;32mIn[64], line 1\u001b[0m\n\u001b[1;32m----> 1\u001b[0m total_purchase \u001b[38;5;241m<\u001b[39m \u001b[38;5;241m2000\u001b[39m\n",
      "\u001b[1;31mTypeError\u001b[0m: '<' not supported between instances of 'str' and 'int'"
     ]
    }
   ],
   "source": [
    "total_purchase < 2000 "
   ]
  },
  {
   "cell_type": "code",
   "execution_count": 65,
   "id": "97592270",
   "metadata": {},
   "outputs": [
    {
     "data": {
      "text/plain": [
       "False"
      ]
     },
     "execution_count": 65,
     "metadata": {},
     "output_type": "execute_result"
    }
   ],
   "source": [
    "int(total_purchase) < 2000"
   ]
  },
  {
   "cell_type": "code",
   "execution_count": 66,
   "id": "47687771",
   "metadata": {},
   "outputs": [],
   "source": [
    "total_purchase = int(total_purchase)"
   ]
  },
  {
   "cell_type": "code",
   "execution_count": 68,
   "id": "6aac2f98",
   "metadata": {},
   "outputs": [
    {
     "data": {
      "text/plain": [
       "int"
      ]
     },
     "execution_count": 68,
     "metadata": {},
     "output_type": "execute_result"
    }
   ],
   "source": [
    "type(total_purchase)"
   ]
  },
  {
   "cell_type": "code",
   "execution_count": 69,
   "id": "c75a1ecf",
   "metadata": {},
   "outputs": [
    {
     "data": {
      "text/plain": [
       "'True'"
      ]
     },
     "execution_count": 69,
     "metadata": {},
     "output_type": "execute_result"
    }
   ],
   "source": [
    "is_duracell_bg"
   ]
  },
  {
   "cell_type": "code",
   "execution_count": 70,
   "id": "8d580498",
   "metadata": {},
   "outputs": [
    {
     "data": {
      "text/plain": [
       "str"
      ]
     },
     "execution_count": 70,
     "metadata": {},
     "output_type": "execute_result"
    }
   ],
   "source": [
    "type(is_duracell_bg)"
   ]
  },
  {
   "cell_type": "code",
   "execution_count": 72,
   "id": "5559eb92",
   "metadata": {},
   "outputs": [],
   "source": [
    "a = bool(is_duracell_bg)"
   ]
  },
  {
   "cell_type": "code",
   "execution_count": 73,
   "id": "edb464fb",
   "metadata": {},
   "outputs": [
    {
     "data": {
      "text/plain": [
       "bool"
      ]
     },
     "execution_count": 73,
     "metadata": {},
     "output_type": "execute_result"
    }
   ],
   "source": [
    "type(a)"
   ]
  },
  {
   "cell_type": "code",
   "execution_count": 74,
   "id": "c68bcf41",
   "metadata": {},
   "outputs": [
    {
     "data": {
      "text/plain": [
       "True"
      ]
     },
     "execution_count": 74,
     "metadata": {},
     "output_type": "execute_result"
    }
   ],
   "source": [
    "a"
   ]
  },
  {
   "cell_type": "code",
   "execution_count": 77,
   "id": "6849d641",
   "metadata": {},
   "outputs": [
    {
     "data": {
      "text/plain": [
       "False"
      ]
     },
     "execution_count": 77,
     "metadata": {},
     "output_type": "execute_result"
    }
   ],
   "source": [
    "bool('')"
   ]
  },
  {
   "cell_type": "code",
   "execution_count": 78,
   "id": "40ce9675",
   "metadata": {},
   "outputs": [
    {
     "data": {
      "text/plain": [
       "True"
      ]
     },
     "execution_count": 78,
     "metadata": {},
     "output_type": "execute_result"
    }
   ],
   "source": [
    "bool(10)"
   ]
  },
  {
   "cell_type": "code",
   "execution_count": 79,
   "id": "38e40514",
   "metadata": {},
   "outputs": [
    {
     "data": {
      "text/plain": [
       "False"
      ]
     },
     "execution_count": 79,
     "metadata": {},
     "output_type": "execute_result"
    }
   ],
   "source": [
    "bool(0)"
   ]
  },
  {
   "cell_type": "code",
   "execution_count": 80,
   "id": "45685881",
   "metadata": {},
   "outputs": [
    {
     "data": {
      "text/plain": [
       "True"
      ]
     },
     "execution_count": 80,
     "metadata": {},
     "output_type": "execute_result"
    }
   ],
   "source": [
    "bool(-10)"
   ]
  },
  {
   "cell_type": "code",
   "execution_count": 81,
   "id": "31c2bb4a",
   "metadata": {},
   "outputs": [],
   "source": [
    "is_duracell_bg = bool(is_duracell_bg)"
   ]
  },
  {
   "cell_type": "code",
   "execution_count": 82,
   "id": "8328b6f7",
   "metadata": {},
   "outputs": [
    {
     "data": {
      "text/plain": [
       "True"
      ]
     },
     "execution_count": 82,
     "metadata": {},
     "output_type": "execute_result"
    }
   ],
   "source": [
    "is_duracell_bg"
   ]
  },
  {
   "cell_type": "code",
   "execution_count": 83,
   "id": "e03a9fd9",
   "metadata": {},
   "outputs": [
    {
     "name": "stdout",
     "output_type": "stream",
     "text": [
      "Enter purchase amount: 4567\n",
      "Is duracell bought as True or False: True\n"
     ]
    }
   ],
   "source": [
    "total_purchase = input(\"Enter purchase amount: \")\n",
    "is_duracell_bg = input(\"Is duracell bought as True or False: \")\n",
    "# String values are present in both the variables by this point\n",
    "total_purchase = int(total_purchase) # converting String to integer\n",
    "is_duracell_bg = bool(is_duracell_bg) # converting String to Boolean"
   ]
  },
  {
   "cell_type": "code",
   "execution_count": 85,
   "id": "0a0945e0",
   "metadata": {},
   "outputs": [
    {
     "name": "stdout",
     "output_type": "stream",
     "text": [
      "Total Purchase amount:  4567\n",
      "Applying 5% discount\n",
      "Discount on Duracell batteries:  86.773\n",
      "Final amount Payable:  4251.8769999999995\n"
     ]
    }
   ],
   "source": [
    "print('Total Purchase amount: ', total_purchase)\n",
    "if total_purchase < 2000:\n",
    "    amount_payable = total_purchase * 0.99\n",
    "    print(\"Applying 1% discount\")\n",
    "elif total_purchase < 5000:\n",
    "    amount_payable = total_purchase * 0.95\n",
    "    print(\"Applying 5% discount\")\n",
    "elif total_purchase < 10000:\n",
    "    amount_payable = total_purchase * 0.90\n",
    "    print(\"Applying 10% discount\")\n",
    "else:\n",
    "    amount_payable = total_purchase * 0.80\n",
    "    print(\"Applying 20% discount\")\n",
    "\n",
    "if is_duracell_bg:\n",
    "#     final_amount = amount_payable * 0.98\n",
    "    discount = amount_payable * 2 / 100\n",
    "    print(\"Discount on Duracell batteries: \", discount)\n",
    "    final_amount = amount_payable - discount\n",
    "print(\"Final amount Payable: \", final_amount)"
   ]
  },
  {
   "cell_type": "code",
   "execution_count": null,
   "id": "67037405",
   "metadata": {},
   "outputs": [],
   "source": []
  }
 ],
 "metadata": {
  "kernelspec": {
   "display_name": "Python 3 (ipykernel)",
   "language": "python",
   "name": "python3"
  },
  "language_info": {
   "codemirror_mode": {
    "name": "ipython",
    "version": 3
   },
   "file_extension": ".py",
   "mimetype": "text/x-python",
   "name": "python",
   "nbconvert_exporter": "python",
   "pygments_lexer": "ipython3",
   "version": "3.12.4"
  }
 },
 "nbformat": 4,
 "nbformat_minor": 5
}

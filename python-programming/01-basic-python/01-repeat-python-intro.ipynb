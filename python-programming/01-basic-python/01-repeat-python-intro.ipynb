{
 "cells": [
  {
   "cell_type": "code",
   "execution_count": 1,
   "id": "b0579e5d",
   "metadata": {},
   "outputs": [
    {
     "name": "stdout",
     "output_type": "stream",
     "text": [
      "Hello World\n"
     ]
    }
   ],
   "source": [
    "print(\"Hello World\")"
   ]
  },
  {
   "cell_type": "code",
   "execution_count": 2,
   "id": "ef4edb35",
   "metadata": {},
   "outputs": [
    {
     "data": {
      "text/plain": [
       "'This is repeat session on Python'"
      ]
     },
     "execution_count": 2,
     "metadata": {},
     "output_type": "execute_result"
    }
   ],
   "source": [
    "\"This is repeat session on Python\""
   ]
  },
  {
   "cell_type": "code",
   "execution_count": 3,
   "id": "73f03569",
   "metadata": {},
   "outputs": [
    {
     "data": {
      "text/plain": [
       "'This is repeat session on Python'"
      ]
     },
     "execution_count": 3,
     "metadata": {},
     "output_type": "execute_result"
    }
   ],
   "source": [
    "'This is repeat session on Python'"
   ]
  },
  {
   "cell_type": "code",
   "execution_count": 5,
   "id": "4951bab2",
   "metadata": {},
   "outputs": [
    {
     "data": {
      "text/plain": [
       "'This \\nis \\nrepeat \\nsession \\non Python\\n'"
      ]
     },
     "execution_count": 5,
     "metadata": {},
     "output_type": "execute_result"
    }
   ],
   "source": [
    "'''This \n",
    "is \n",
    "repeat \n",
    "session \n",
    "on Python\n",
    "'''"
   ]
  },
  {
   "cell_type": "code",
   "execution_count": 6,
   "id": "581ea545",
   "metadata": {},
   "outputs": [
    {
     "data": {
      "text/plain": [
       "'This \\nis \\nrepeat \\nsession \\non Python\\n'"
      ]
     },
     "execution_count": 6,
     "metadata": {},
     "output_type": "execute_result"
    }
   ],
   "source": [
    "\"\"\"This \n",
    "is \n",
    "repeat \n",
    "session \n",
    "on Python\n",
    "\"\"\""
   ]
  },
  {
   "cell_type": "code",
   "execution_count": 7,
   "id": "38e581fc",
   "metadata": {},
   "outputs": [],
   "source": [
    "# This is a comment"
   ]
  },
  {
   "cell_type": "code",
   "execution_count": null,
   "id": "0f880f28",
   "metadata": {},
   "outputs": [],
   "source": [
    "# \"\"\"This \n",
    "# is \n",
    "# repeat \n",
    "# session \n",
    "# on Python\n",
    "# \"\"\""
   ]
  },
  {
   "cell_type": "code",
   "execution_count": 11,
   "id": "cb10a808",
   "metadata": {},
   "outputs": [
    {
     "name": "stdout",
     "output_type": "stream",
     "text": [
      "Line 1\n",
      "Line 2\n",
      "Line 3\n",
      "Line 10\n"
     ]
    }
   ],
   "source": [
    "%run test.py"
   ]
  },
  {
   "cell_type": "code",
   "execution_count": 12,
   "id": "54a94e46",
   "metadata": {},
   "outputs": [
    {
     "data": {
      "text/plain": [
       "'August'"
      ]
     },
     "execution_count": 12,
     "metadata": {},
     "output_type": "execute_result"
    }
   ],
   "source": [
    "'August'"
   ]
  },
  {
   "cell_type": "code",
   "execution_count": 13,
   "id": "7257f093",
   "metadata": {},
   "outputs": [
    {
     "data": {
      "text/plain": [
       "'2024'"
      ]
     },
     "execution_count": 13,
     "metadata": {},
     "output_type": "execute_result"
    }
   ],
   "source": [
    "\"2024\""
   ]
  },
  {
   "cell_type": "code",
   "execution_count": 14,
   "id": "7b695706",
   "metadata": {},
   "outputs": [],
   "source": [
    "#String"
   ]
  },
  {
   "cell_type": "code",
   "execution_count": 15,
   "id": "31d2e11a",
   "metadata": {},
   "outputs": [
    {
     "data": {
      "text/plain": [
       "1234"
      ]
     },
     "execution_count": 15,
     "metadata": {},
     "output_type": "execute_result"
    }
   ],
   "source": [
    "1234"
   ]
  },
  {
   "cell_type": "code",
   "execution_count": 16,
   "id": "3cf208e1",
   "metadata": {},
   "outputs": [
    {
     "data": {
      "text/plain": [
       "1234.67"
      ]
     },
     "execution_count": 16,
     "metadata": {},
     "output_type": "execute_result"
    }
   ],
   "source": [
    "1234.67"
   ]
  },
  {
   "cell_type": "code",
   "execution_count": 17,
   "id": "f08ff9cf",
   "metadata": {},
   "outputs": [],
   "source": [
    "a = 1234"
   ]
  },
  {
   "cell_type": "code",
   "execution_count": 24,
   "id": "e1c72ec3",
   "metadata": {},
   "outputs": [],
   "source": [
    "b = '2024'"
   ]
  },
  {
   "cell_type": "code",
   "execution_count": 21,
   "id": "c90c79f2",
   "metadata": {},
   "outputs": [],
   "source": [
    "c = 1235.6"
   ]
  },
  {
   "cell_type": "code",
   "execution_count": 20,
   "id": "1cc8716d",
   "metadata": {},
   "outputs": [],
   "source": [
    "d = True"
   ]
  },
  {
   "cell_type": "code",
   "execution_count": 27,
   "id": "1b429ca2",
   "metadata": {},
   "outputs": [
    {
     "data": {
      "text/plain": [
       "bool"
      ]
     },
     "execution_count": 27,
     "metadata": {},
     "output_type": "execute_result"
    }
   ],
   "source": [
    "type(d)"
   ]
  },
  {
   "cell_type": "markdown",
   "id": "8e4e777f",
   "metadata": {},
   "source": [
    "## Data types of python\n",
    "\n",
    "- Integer\n",
    "- string\n",
    "- float\n",
    "- boolean\n",
    "- complex"
   ]
  },
  {
   "cell_type": "code",
   "execution_count": 28,
   "id": "a8c8bee1",
   "metadata": {},
   "outputs": [
    {
     "data": {
      "text/plain": [
       "True"
      ]
     },
     "execution_count": 28,
     "metadata": {},
     "output_type": "execute_result"
    }
   ],
   "source": [
    "True"
   ]
  },
  {
   "cell_type": "code",
   "execution_count": 29,
   "id": "7984e3bb",
   "metadata": {},
   "outputs": [
    {
     "data": {
      "text/plain": [
       "False"
      ]
     },
     "execution_count": 29,
     "metadata": {},
     "output_type": "execute_result"
    }
   ],
   "source": [
    "False"
   ]
  },
  {
   "cell_type": "code",
   "execution_count": 31,
   "id": "051407e4",
   "metadata": {},
   "outputs": [],
   "source": [
    "a = 12"
   ]
  },
  {
   "cell_type": "code",
   "execution_count": 32,
   "id": "86b293e1",
   "metadata": {},
   "outputs": [],
   "source": [
    "b = 5"
   ]
  },
  {
   "cell_type": "markdown",
   "id": "a4e0bf7b",
   "metadata": {},
   "source": [
    "### Arithmetic Operators\n",
    "- Addition -> +\n",
    "- Subtraction -> -\n",
    "- Division -> /\n",
    "- Multiplication - *\n",
    "- Integer Division -> //\n",
    "- Remainder -> %\n",
    "- Exponential -> **"
   ]
  },
  {
   "cell_type": "code",
   "execution_count": 42,
   "id": "d33680aa",
   "metadata": {},
   "outputs": [
    {
     "data": {
      "text/plain": [
       "3"
      ]
     },
     "execution_count": 42,
     "metadata": {},
     "output_type": "execute_result"
    }
   ],
   "source": [
    "12 // 4"
   ]
  },
  {
   "cell_type": "code",
   "execution_count": 43,
   "id": "9aa67116",
   "metadata": {},
   "outputs": [
    {
     "data": {
      "text/plain": [
       "8"
      ]
     },
     "execution_count": 43,
     "metadata": {},
     "output_type": "execute_result"
    }
   ],
   "source": [
    "2 ** 3"
   ]
  },
  {
   "cell_type": "code",
   "execution_count": 44,
   "id": "c9043f6b",
   "metadata": {},
   "outputs": [
    {
     "data": {
      "text/plain": [
       "-1.0"
      ]
     },
     "execution_count": 44,
     "metadata": {},
     "output_type": "execute_result"
    }
   ],
   "source": [
    "-1 ** (1/2)"
   ]
  },
  {
   "cell_type": "code",
   "execution_count": 45,
   "id": "e092ef0c",
   "metadata": {},
   "outputs": [
    {
     "data": {
      "text/plain": [
       "2.0"
      ]
     },
     "execution_count": 45,
     "metadata": {},
     "output_type": "execute_result"
    }
   ],
   "source": [
    "4 ** (1/2)"
   ]
  },
  {
   "cell_type": "code",
   "execution_count": null,
   "id": "e2033f38",
   "metadata": {},
   "outputs": [],
   "source": []
  }
 ],
 "metadata": {
  "kernelspec": {
   "display_name": "Python 3",
   "language": "python",
   "name": "python3"
  },
  "language_info": {
   "codemirror_mode": {
    "name": "ipython",
    "version": 3
   },
   "file_extension": ".py",
   "mimetype": "text/x-python",
   "name": "python",
   "nbconvert_exporter": "python",
   "pygments_lexer": "ipython3",
   "version": "3.11.9"
  }
 },
 "nbformat": 4,
 "nbformat_minor": 5
}

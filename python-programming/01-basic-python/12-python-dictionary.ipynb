{
 "cells": [
  {
   "cell_type": "markdown",
   "id": "0c001cd2",
   "metadata": {},
   "source": [
    "# Dictionary\n",
    "- Dictionaries are unordered mappings for storing objects. Previously we saw how lists store objects in an ordered sequence, dictionaries use  a key-value pairing instead.\n",
    "- This key-value pair allows users to quickly grab objects without needing to know an index location.\n",
    "- Dictionaries use curly braces and colons to signify the keys and their associated values.\n",
    "    - {'key1':'value1','key2':'value2'}\n"
   ]
  },
  {
   "cell_type": "markdown",
   "id": "0d63a543",
   "metadata": {},
   "source": [
    "### When to choose a list and when to choose a dictionary?\n",
    "1. Dictionaries:  \n",
    "    - Objects retrieved by key name.\n",
    "    - Unordered and can not be sorted.\n",
    "2. Lists:  \n",
    "    - Objects retrieved by location.\n",
    "    - Ordered Sequence can be indexed or sliced.\n"
   ]
  },
  {
   "cell_type": "code",
   "execution_count": 1,
   "id": "0d63a088-ce5d-4c03-b819-4718c0f56000",
   "metadata": {},
   "outputs": [],
   "source": [
    "dict1 = {'a':'Hi','b':100,'c':True,'d':13.45}"
   ]
  },
  {
   "cell_type": "code",
   "execution_count": 2,
   "id": "17495bfa-ad7c-4323-bd0b-870b8aa3ce01",
   "metadata": {},
   "outputs": [
    {
     "data": {
      "text/plain": [
       "{'a': 'Hi', 'b': 100, 'c': True, 'd': 13.45}"
      ]
     },
     "execution_count": 2,
     "metadata": {},
     "output_type": "execute_result"
    }
   ],
   "source": [
    "dict1"
   ]
  },
  {
   "cell_type": "code",
   "execution_count": 21,
   "id": "47133109-1075-4486-a0cb-73a3bc19b863",
   "metadata": {},
   "outputs": [],
   "source": [
    "# dict1.*?\n",
    "# dict1.clear\n",
    "# dict1.copy\n",
    "# dict1.fromkeys\n",
    "# dict1.get\n",
    "# dict1.items\n",
    "# dict1.keys\n",
    "# dict1.pop\n",
    "# dict1.popitem\n",
    "# dict1.setdefault\n",
    "# dict1.update\n",
    "# dict1.values"
   ]
  },
  {
   "cell_type": "code",
   "execution_count": 23,
   "id": "a7b4c4b2-dba9-48ce-be32-7f550b45305f",
   "metadata": {},
   "outputs": [
    {
     "data": {
      "text/plain": [
       "dict_keys(['a', 'b', 'c', 'd'])"
      ]
     },
     "execution_count": 23,
     "metadata": {},
     "output_type": "execute_result"
    }
   ],
   "source": [
    "dict1.keys()"
   ]
  },
  {
   "cell_type": "code",
   "execution_count": 25,
   "id": "50afe689-a180-4f30-bd17-59223f8715bc",
   "metadata": {},
   "outputs": [],
   "source": [
    "dict2 = {1:100, 2:200, 3:300, 4:400, 5:500}"
   ]
  },
  {
   "cell_type": "code",
   "execution_count": 27,
   "id": "4e6eeff3-f146-4464-9f68-890102caa4c6",
   "metadata": {},
   "outputs": [
    {
     "data": {
      "text/plain": [
       "dict_keys([1, 2, 3, 4, 5])"
      ]
     },
     "execution_count": 27,
     "metadata": {},
     "output_type": "execute_result"
    }
   ],
   "source": [
    "dict2.keys()"
   ]
  },
  {
   "cell_type": "code",
   "execution_count": 31,
   "id": "d4488a21-d42d-4604-a212-5f36395ec212",
   "metadata": {},
   "outputs": [
    {
     "data": {
      "text/plain": [
       "dict_values([100, 200, 300, 400, 500])"
      ]
     },
     "execution_count": 31,
     "metadata": {},
     "output_type": "execute_result"
    }
   ],
   "source": [
    "dict2.values()"
   ]
  },
  {
   "cell_type": "code",
   "execution_count": 29,
   "id": "99a24f61-1253-412b-8e37-f37dd33b963c",
   "metadata": {},
   "outputs": [
    {
     "data": {
      "text/plain": [
       "dict_items([(1, 100), (2, 200), (3, 300), (4, 400), (5, 500)])"
      ]
     },
     "execution_count": 29,
     "metadata": {},
     "output_type": "execute_result"
    }
   ],
   "source": [
    "dict2.items()"
   ]
  },
  {
   "cell_type": "code",
   "execution_count": null,
   "id": "ade555ee-6872-4454-9e08-bcf894c0210f",
   "metadata": {},
   "outputs": [],
   "source": []
  }
 ],
 "metadata": {
  "kernelspec": {
   "display_name": "Python 3",
   "language": "python",
   "name": "python3"
  },
  "language_info": {
   "codemirror_mode": {
    "name": "ipython",
    "version": 3
   },
   "file_extension": ".py",
   "mimetype": "text/x-python",
   "name": "python",
   "nbconvert_exporter": "python",
   "pygments_lexer": "ipython3",
   "version": "3.11.9"
  }
 },
 "nbformat": 4,
 "nbformat_minor": 5
}

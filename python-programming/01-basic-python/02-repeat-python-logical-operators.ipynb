{
 "cells": [
  {
   "cell_type": "markdown",
   "id": "2eb7bbed-b04c-4357-8979-18bf9c7fe186",
   "metadata": {},
   "source": [
    "# Logical Operators \n",
    "- and -- **all inputs must be True** to get output as True\n",
    "- or -- **any one input must be True** to get output as True\n",
    "- not -- inverse of input "
   ]
  },
  {
   "cell_type": "code",
   "execution_count": 1,
   "id": "dff7e645-b2cf-457e-88ad-84aa6e478af2",
   "metadata": {},
   "outputs": [
    {
     "data": {
      "text/plain": [
       "True"
      ]
     },
     "execution_count": 1,
     "metadata": {},
     "output_type": "execute_result"
    }
   ],
   "source": [
    "True and True"
   ]
  },
  {
   "cell_type": "code",
   "execution_count": 2,
   "id": "635fe056-99b5-4cbd-8d70-f580464021ee",
   "metadata": {},
   "outputs": [
    {
     "data": {
      "text/plain": [
       "False"
      ]
     },
     "execution_count": 2,
     "metadata": {},
     "output_type": "execute_result"
    }
   ],
   "source": [
    "True and False"
   ]
  },
  {
   "cell_type": "code",
   "execution_count": 13,
   "id": "1f4556b0-c4c8-46ff-9a4f-218a7d3cc8f0",
   "metadata": {},
   "outputs": [
    {
     "data": {
      "text/plain": [
       "False"
      ]
     },
     "execution_count": 13,
     "metadata": {},
     "output_type": "execute_result"
    }
   ],
   "source": [
    "False and False"
   ]
  },
  {
   "cell_type": "code",
   "execution_count": 15,
   "id": "1d62c721-1ee3-4593-8681-aeff431d1e83",
   "metadata": {},
   "outputs": [
    {
     "data": {
      "text/plain": [
       "True"
      ]
     },
     "execution_count": 15,
     "metadata": {},
     "output_type": "execute_result"
    }
   ],
   "source": [
    "True or True"
   ]
  },
  {
   "cell_type": "code",
   "execution_count": 17,
   "id": "4d405e4f-360e-45ed-99d3-86c8c4e370f6",
   "metadata": {},
   "outputs": [
    {
     "data": {
      "text/plain": [
       "True"
      ]
     },
     "execution_count": 17,
     "metadata": {},
     "output_type": "execute_result"
    }
   ],
   "source": [
    "True or False"
   ]
  },
  {
   "cell_type": "code",
   "execution_count": 19,
   "id": "fa3b3184-cb81-47cf-92ff-eb4a68632a5f",
   "metadata": {},
   "outputs": [
    {
     "data": {
      "text/plain": [
       "True"
      ]
     },
     "execution_count": 19,
     "metadata": {},
     "output_type": "execute_result"
    }
   ],
   "source": [
    "False or True"
   ]
  },
  {
   "cell_type": "code",
   "execution_count": 21,
   "id": "f737bfcc-92fa-4704-af81-d0db6cdb1ba4",
   "metadata": {},
   "outputs": [
    {
     "data": {
      "text/plain": [
       "False"
      ]
     },
     "execution_count": 21,
     "metadata": {},
     "output_type": "execute_result"
    }
   ],
   "source": [
    "False or False"
   ]
  },
  {
   "cell_type": "code",
   "execution_count": 23,
   "id": "7891453d-94e5-41c3-9cd4-6e65e32f8cdf",
   "metadata": {},
   "outputs": [
    {
     "data": {
      "text/plain": [
       "False"
      ]
     },
     "execution_count": 23,
     "metadata": {},
     "output_type": "execute_result"
    }
   ],
   "source": [
    "not True"
   ]
  },
  {
   "cell_type": "code",
   "execution_count": 25,
   "id": "b26c0b6e-91bb-473f-9e57-b4d5ebfe0f1f",
   "metadata": {},
   "outputs": [
    {
     "data": {
      "text/plain": [
       "True"
      ]
     },
     "execution_count": 25,
     "metadata": {},
     "output_type": "execute_result"
    }
   ],
   "source": [
    "not False"
   ]
  },
  {
   "cell_type": "markdown",
   "id": "d37a5436-d706-455f-903d-b3a24e065103",
   "metadata": {},
   "source": [
    "# Conditional Statements\n",
    "- if\n",
    "- elif\n",
    "- else"
   ]
  },
  {
   "cell_type": "code",
   "execution_count": 29,
   "id": "e70f41f9-c2d3-4f80-a50f-0fce555c67df",
   "metadata": {},
   "outputs": [
    {
     "data": {
      "text/plain": [
       "True"
      ]
     },
     "execution_count": 29,
     "metadata": {},
     "output_type": "execute_result"
    }
   ],
   "source": [
    "1>0"
   ]
  },
  {
   "cell_type": "code",
   "execution_count": 31,
   "id": "2b84bd5f-3cc1-4c05-959d-5763304104d8",
   "metadata": {},
   "outputs": [
    {
     "name": "stdout",
     "output_type": "stream",
     "text": [
      "This is from if block\n",
      "1 is greater than 0\n"
     ]
    }
   ],
   "source": [
    "if 1>0:\n",
    "    print(\"This is from if block\")\n",
    "    print(\"1 is greater than 0\")\n",
    "#"
   ]
  },
  {
   "cell_type": "code",
   "execution_count": 33,
   "id": "91eb89e1-7d79-40f6-9447-bed1ac7e83b1",
   "metadata": {},
   "outputs": [
    {
     "data": {
      "text/plain": [
       "False"
      ]
     },
     "execution_count": 33,
     "metadata": {},
     "output_type": "execute_result"
    }
   ],
   "source": [
    "1<0"
   ]
  },
  {
   "cell_type": "code",
   "execution_count": 37,
   "id": "cd362707-5387-48f8-b349-e1d3da41521a",
   "metadata": {},
   "outputs": [],
   "source": [
    "if 1<0: # Because this condition is false, statements within if block will not execute\n",
    "    print(\"This is from if block\")\n",
    "    print(\"1 is less than 0\")\n",
    "#"
   ]
  },
  {
   "cell_type": "code",
   "execution_count": 39,
   "id": "7ddb869d-c068-4501-8674-b09a94317b26",
   "metadata": {},
   "outputs": [],
   "source": [
    "a = 1\n",
    "b = 3"
   ]
  },
  {
   "cell_type": "code",
   "execution_count": 41,
   "id": "3dc78e5d-a131-47b7-8d48-01db1f2f7038",
   "metadata": {},
   "outputs": [
    {
     "data": {
      "text/plain": [
       "False"
      ]
     },
     "execution_count": 41,
     "metadata": {},
     "output_type": "execute_result"
    }
   ],
   "source": [
    "a>b"
   ]
  },
  {
   "cell_type": "code",
   "execution_count": 43,
   "id": "9ccf80c0-b6cd-4ac3-856a-2c2443da5ae1",
   "metadata": {},
   "outputs": [
    {
     "name": "stdout",
     "output_type": "stream",
     "text": [
      "This is from else block\n",
      "a is less than b\n"
     ]
    }
   ],
   "source": [
    "if a>b:\n",
    "    print(\"This is from if block\")\n",
    "    print(\"a is greater than b\")\n",
    "else:\n",
    "    print(\"This is from else block\")\n",
    "    print(\"a is less than b\")"
   ]
  },
  {
   "cell_type": "code",
   "execution_count": 63,
   "id": "974b7188-d932-4f07-bd13-1edf000ae649",
   "metadata": {},
   "outputs": [],
   "source": [
    "c = 60"
   ]
  },
  {
   "cell_type": "code",
   "execution_count": 67,
   "id": "f64f2e1d-72de-48cd-aeb8-5cd3375ff6e0",
   "metadata": {},
   "outputs": [
    {
     "name": "stdout",
     "output_type": "stream",
     "text": [
      "Enter input value: 60\n"
     ]
    }
   ],
   "source": [
    "c = input(\"Enter input value:\")"
   ]
  },
  {
   "cell_type": "code",
   "execution_count": 69,
   "id": "20f0ab22-f41e-4d7b-b8aa-c0d7ea271d05",
   "metadata": {},
   "outputs": [
    {
     "data": {
      "text/plain": [
       "'60'"
      ]
     },
     "execution_count": 69,
     "metadata": {},
     "output_type": "execute_result"
    }
   ],
   "source": [
    "c"
   ]
  },
  {
   "cell_type": "code",
   "execution_count": 71,
   "id": "9efee49d-a7c9-4776-8fe1-8055492a9136",
   "metadata": {},
   "outputs": [
    {
     "data": {
      "text/plain": [
       "str"
      ]
     },
     "execution_count": 71,
     "metadata": {},
     "output_type": "execute_result"
    }
   ],
   "source": [
    "type(c)"
   ]
  },
  {
   "cell_type": "code",
   "execution_count": 85,
   "id": "799fd680-5699-4768-8f2b-d8beed479bd6",
   "metadata": {},
   "outputs": [
    {
     "name": "stdout",
     "output_type": "stream",
     "text": [
      "Enter input value: 123\n"
     ]
    }
   ],
   "source": [
    "c = int(input(\"Enter input value:\"))"
   ]
  },
  {
   "cell_type": "code",
   "execution_count": 87,
   "id": "2e87207d-5fab-4c71-b2ea-f23bb47243c1",
   "metadata": {},
   "outputs": [
    {
     "data": {
      "text/plain": [
       "123"
      ]
     },
     "execution_count": 87,
     "metadata": {},
     "output_type": "execute_result"
    }
   ],
   "source": [
    "c"
   ]
  },
  {
   "cell_type": "code",
   "execution_count": 77,
   "id": "64be5545-9468-47f4-a68a-b3a391526641",
   "metadata": {},
   "outputs": [
    {
     "data": {
      "text/plain": [
       "int"
      ]
     },
     "execution_count": 77,
     "metadata": {},
     "output_type": "execute_result"
    }
   ],
   "source": [
    "type(c)"
   ]
  },
  {
   "cell_type": "code",
   "execution_count": 93,
   "id": "b1ee374a-20a2-4cea-9cea-c9d58c9d7433",
   "metadata": {},
   "outputs": [
    {
     "name": "stdout",
     "output_type": "stream",
     "text": [
      " 300\n"
     ]
    }
   ],
   "source": [
    "c = int(input())   # We avoid using this way"
   ]
  },
  {
   "cell_type": "code",
   "execution_count": 95,
   "id": "98e89220-2a71-4a60-9873-bf6715f0084d",
   "metadata": {},
   "outputs": [
    {
     "data": {
      "text/plain": [
       "300"
      ]
     },
     "execution_count": 95,
     "metadata": {},
     "output_type": "execute_result"
    }
   ],
   "source": [
    "c"
   ]
  },
  {
   "cell_type": "code",
   "execution_count": 89,
   "id": "4f4d8f4d-5067-4475-ac33-3c5f1b74808e",
   "metadata": {},
   "outputs": [
    {
     "name": "stdout",
     "output_type": "stream",
     "text": [
      "This is from if block\n",
      "c is greater than 100\n",
      "Completed execution\n"
     ]
    }
   ],
   "source": [
    "if c>100:\n",
    "    print(\"This is from if block\")\n",
    "    print(\"c is greater than 100\")\n",
    "elif c>80:\n",
    "    print(\"This is from elif block 1\")\n",
    "    print(\"c is greater than 80\")\n",
    "elif c>50:\n",
    "    print(\"This is from elif block 2\")\n",
    "    print(\"c is greater than 50\")\n",
    "else:\n",
    "    print(\"This is from else block\")\n",
    "    print(\"c is not greater than 50\")\n",
    "#\n",
    "print(\"Completed execution\")"
   ]
  },
  {
   "cell_type": "code",
   "execution_count": 91,
   "id": "362ef582-236b-40b7-890f-c201146c1309",
   "metadata": {},
   "outputs": [
    {
     "data": {
      "text/plain": [
       "True"
      ]
     },
     "execution_count": 91,
     "metadata": {},
     "output_type": "execute_result"
    }
   ],
   "source": [
    "c>100"
   ]
  },
  {
   "cell_type": "code",
   "execution_count": null,
   "id": "458aa908-4eb0-4fe9-8ba8-d821a67922a9",
   "metadata": {},
   "outputs": [],
   "source": []
  }
 ],
 "metadata": {
  "kernelspec": {
   "display_name": "Python 3",
   "language": "python",
   "name": "python3"
  },
  "language_info": {
   "codemirror_mode": {
    "name": "ipython",
    "version": 3
   },
   "file_extension": ".py",
   "mimetype": "text/x-python",
   "name": "python",
   "nbconvert_exporter": "python",
   "pygments_lexer": "ipython3",
   "version": "3.11.9"
  }
 },
 "nbformat": 4,
 "nbformat_minor": 5
}

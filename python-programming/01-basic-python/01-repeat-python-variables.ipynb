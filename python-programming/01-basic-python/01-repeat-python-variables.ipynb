{
 "cells": [
  {
   "cell_type": "code",
   "execution_count": 1,
   "id": "70c46ec8-3745-4996-8402-4d2df7adaad6",
   "metadata": {},
   "outputs": [],
   "source": [
    "a = 0"
   ]
  },
  {
   "cell_type": "code",
   "execution_count": 2,
   "id": "5309dbbb-3ee5-4be1-bf7d-dc483bcd5372",
   "metadata": {},
   "outputs": [
    {
     "name": "stdout",
     "output_type": "stream",
     "text": [
      "0\n"
     ]
    }
   ],
   "source": [
    "print(a)"
   ]
  },
  {
   "cell_type": "code",
   "execution_count": 3,
   "id": "24c634ab-a484-4e4c-82b8-a1a0ad44e400",
   "metadata": {},
   "outputs": [
    {
     "data": {
      "text/plain": [
       "0"
      ]
     },
     "execution_count": 3,
     "metadata": {},
     "output_type": "execute_result"
    }
   ],
   "source": [
    "a"
   ]
  },
  {
   "cell_type": "markdown",
   "id": "701b6676-b09e-41b7-8a83-2d82a97c8a52",
   "metadata": {},
   "source": [
    "# Python Datatypes\n",
    " - Integer\n",
    " - Float\n",
    " - String\n",
    " - Boolean\n",
    " - Complex"
   ]
  },
  {
   "cell_type": "code",
   "execution_count": 14,
   "id": "e41d858f-fb90-47e3-b26f-b4a6f71b414d",
   "metadata": {},
   "outputs": [
    {
     "data": {
      "text/plain": [
       "int"
      ]
     },
     "execution_count": 14,
     "metadata": {},
     "output_type": "execute_result"
    }
   ],
   "source": [
    "type(a) # Paranthesis"
   ]
  },
  {
   "cell_type": "code",
   "execution_count": 24,
   "id": "3a580584-d5f7-4585-89f9-0675bd99854f",
   "metadata": {},
   "outputs": [],
   "source": [
    "# 123 - Integer\n",
    "# 123.0 - Float\n",
    "# 'Harsha' - String - single quote\n",
    "# \"Harsha\" - String --double quote\n",
    "# True - Boolean\n",
    "# False - Boolean\n",
    "# 2 + 3j - Complex"
   ]
  },
  {
   "cell_type": "code",
   "execution_count": 26,
   "id": "824e6722-aa3a-480a-bb9b-f4c6a6775705",
   "metadata": {},
   "outputs": [
    {
     "data": {
      "text/plain": [
       "(2+3j)"
      ]
     },
     "execution_count": 26,
     "metadata": {},
     "output_type": "execute_result"
    }
   ],
   "source": [
    "2 + 3j"
   ]
  },
  {
   "cell_type": "code",
   "execution_count": 22,
   "id": "8d9803e4-40a9-4de2-939c-ca2995b95f2c",
   "metadata": {},
   "outputs": [
    {
     "data": {
      "text/plain": [
       "complex"
      ]
     },
     "execution_count": 22,
     "metadata": {},
     "output_type": "execute_result"
    }
   ],
   "source": [
    "type(2 + 3j)"
   ]
  },
  {
   "cell_type": "code",
   "execution_count": 28,
   "id": "201a9f8e-6bb9-4915-ad31-c3640b8b832b",
   "metadata": {},
   "outputs": [
    {
     "data": {
      "text/plain": [
       "123"
      ]
     },
     "execution_count": 28,
     "metadata": {},
     "output_type": "execute_result"
    }
   ],
   "source": [
    "123"
   ]
  },
  {
   "cell_type": "code",
   "execution_count": 30,
   "id": "90faab1b-ab21-42a8-9360-3876d1f6ff18",
   "metadata": {},
   "outputs": [
    {
     "data": {
      "text/plain": [
       "int"
      ]
     },
     "execution_count": 30,
     "metadata": {},
     "output_type": "execute_result"
    }
   ],
   "source": [
    "type(123)"
   ]
  },
  {
   "cell_type": "code",
   "execution_count": 32,
   "id": "844e3128-d110-4a2f-ba7f-fe9e28920e1f",
   "metadata": {},
   "outputs": [
    {
     "data": {
      "text/plain": [
       "123.0"
      ]
     },
     "execution_count": 32,
     "metadata": {},
     "output_type": "execute_result"
    }
   ],
   "source": [
    "123.0"
   ]
  },
  {
   "cell_type": "code",
   "execution_count": 36,
   "id": "d713637e-bff0-4cde-9f75-99d1baf6a079",
   "metadata": {},
   "outputs": [
    {
     "data": {
      "text/plain": [
       "float"
      ]
     },
     "execution_count": 36,
     "metadata": {},
     "output_type": "execute_result"
    }
   ],
   "source": [
    "type(123.456)"
   ]
  },
  {
   "cell_type": "code",
   "execution_count": 38,
   "id": "a4d62139-f0ce-453a-bed9-bfcedc4ddcd6",
   "metadata": {},
   "outputs": [
    {
     "data": {
      "text/plain": [
       "'Welcome to Python'"
      ]
     },
     "execution_count": 38,
     "metadata": {},
     "output_type": "execute_result"
    }
   ],
   "source": [
    "'Welcome to Python'"
   ]
  },
  {
   "cell_type": "code",
   "execution_count": 40,
   "id": "e6a201a4-b2df-49c7-9ce5-8ffface6e541",
   "metadata": {},
   "outputs": [
    {
     "data": {
      "text/plain": [
       "str"
      ]
     },
     "execution_count": 40,
     "metadata": {},
     "output_type": "execute_result"
    }
   ],
   "source": [
    "type('Welcome to Python')"
   ]
  },
  {
   "cell_type": "code",
   "execution_count": 42,
   "id": "57bccc53-0178-41b5-becc-0face8f6946d",
   "metadata": {},
   "outputs": [
    {
     "data": {
      "text/plain": [
       "'Welcome to Python'"
      ]
     },
     "execution_count": 42,
     "metadata": {},
     "output_type": "execute_result"
    }
   ],
   "source": [
    "\"Welcome to Python\""
   ]
  },
  {
   "cell_type": "code",
   "execution_count": 48,
   "id": "eafd5c7f-faf8-4d94-bf88-d48e00e7ea79",
   "metadata": {},
   "outputs": [
    {
     "data": {
      "text/plain": [
       "'Welcome \\nto \\nPython\\nclass'"
      ]
     },
     "execution_count": 48,
     "metadata": {},
     "output_type": "execute_result"
    }
   ],
   "source": [
    "'''Welcome \n",
    "to \n",
    "Python\n",
    "class'''"
   ]
  },
  {
   "cell_type": "code",
   "execution_count": 52,
   "id": "893fb709-568e-4b91-8742-5292c0a0a6ab",
   "metadata": {},
   "outputs": [
    {
     "name": "stdout",
     "output_type": "stream",
     "text": [
      "Welcome to Python\n"
     ]
    }
   ],
   "source": [
    "print(\"Welcome to Python\")"
   ]
  },
  {
   "cell_type": "code",
   "execution_count": 50,
   "id": "ef310678-6c90-4ffc-a468-5ee1fd1cc883",
   "metadata": {},
   "outputs": [
    {
     "name": "stdout",
     "output_type": "stream",
     "text": [
      "Welcome \n",
      "to \n",
      "Python\n",
      "class\n"
     ]
    }
   ],
   "source": [
    "print('''Welcome \n",
    "to \n",
    "Python\n",
    "class''')"
   ]
  },
  {
   "cell_type": "code",
   "execution_count": 46,
   "id": "c46b7f5a-a01c-4289-93d3-600a0a51671e",
   "metadata": {},
   "outputs": [
    {
     "data": {
      "text/plain": [
       "str"
      ]
     },
     "execution_count": 46,
     "metadata": {},
     "output_type": "execute_result"
    }
   ],
   "source": [
    "type('''Welcome to Python''')"
   ]
  },
  {
   "cell_type": "code",
   "execution_count": 54,
   "id": "c5b9f1b3-9e9b-4573-ae4d-7d869526301d",
   "metadata": {},
   "outputs": [
    {
     "data": {
      "text/plain": [
       "True"
      ]
     },
     "execution_count": 54,
     "metadata": {},
     "output_type": "execute_result"
    }
   ],
   "source": [
    "True"
   ]
  },
  {
   "cell_type": "code",
   "execution_count": 56,
   "id": "eed96091-dc9c-4fdc-91fc-04bc85a1ad4d",
   "metadata": {},
   "outputs": [
    {
     "data": {
      "text/plain": [
       "False"
      ]
     },
     "execution_count": 56,
     "metadata": {},
     "output_type": "execute_result"
    }
   ],
   "source": [
    "False"
   ]
  },
  {
   "cell_type": "code",
   "execution_count": 58,
   "id": "84849361-d679-4b75-be5b-4d61d4f479ac",
   "metadata": {},
   "outputs": [
    {
     "data": {
      "text/plain": [
       "2.5"
      ]
     },
     "execution_count": 58,
     "metadata": {},
     "output_type": "execute_result"
    }
   ],
   "source": [
    "5 / 2"
   ]
  },
  {
   "cell_type": "code",
   "execution_count": 64,
   "id": "ecb26813-118a-43d6-8d8b-7b7174ea8589",
   "metadata": {},
   "outputs": [],
   "source": [
    "# c = 10  # Interpreter will not execute these comments"
   ]
  },
  {
   "cell_type": "code",
   "execution_count": 66,
   "id": "e34e435e-dfa3-4026-8c9a-a5f8ff964068",
   "metadata": {},
   "outputs": [
    {
     "ename": "NameError",
     "evalue": "name 'c' is not defined",
     "output_type": "error",
     "traceback": [
      "\u001b[1;31m---------------------------------------------------------------------------\u001b[0m",
      "\u001b[1;31mNameError\u001b[0m                                 Traceback (most recent call last)",
      "Cell \u001b[1;32mIn[66], line 1\u001b[0m\n\u001b[1;32m----> 1\u001b[0m c\n",
      "\u001b[1;31mNameError\u001b[0m: name 'c' is not defined"
     ]
    }
   ],
   "source": [
    "c"
   ]
  },
  {
   "cell_type": "markdown",
   "id": "4b4f484b-047b-4c6b-b06e-16c9bc8bf1a8",
   "metadata": {},
   "source": [
    "# Arithmetic Operators"
   ]
  },
  {
   "cell_type": "code",
   "execution_count": null,
   "id": "143e3df0-14c3-4c53-a5e9-14788fda2ecb",
   "metadata": {},
   "outputs": [],
   "source": [
    "# + : addition\n",
    "# - : subtraction\n",
    "# * : Multiplication\n",
    "# / : Division\n",
    "# // : Integer Division -- Quotient\n",
    "# % : Modulus -- Reminder\n",
    "# ** : Expontential -- Power - "
   ]
  },
  {
   "cell_type": "code",
   "execution_count": 73,
   "id": "3e5908e5-1628-4fed-9a05-429c6e7d9e17",
   "metadata": {},
   "outputs": [],
   "source": [
    "a = 5\n",
    "b = 2"
   ]
  },
  {
   "cell_type": "code",
   "execution_count": 75,
   "id": "d58c68e4-ac83-4f16-ab04-8e43fbf14579",
   "metadata": {},
   "outputs": [
    {
     "data": {
      "text/plain": [
       "7"
      ]
     },
     "execution_count": 75,
     "metadata": {},
     "output_type": "execute_result"
    }
   ],
   "source": [
    "a + b"
   ]
  },
  {
   "cell_type": "code",
   "execution_count": 77,
   "id": "55cfbad4-23f1-4958-8538-eb6b68fffbad",
   "metadata": {},
   "outputs": [
    {
     "data": {
      "text/plain": [
       "3"
      ]
     },
     "execution_count": 77,
     "metadata": {},
     "output_type": "execute_result"
    }
   ],
   "source": [
    "a - b"
   ]
  },
  {
   "cell_type": "code",
   "execution_count": 79,
   "id": "413bbfbb-da28-43c0-bcd9-e4aa175d83a1",
   "metadata": {},
   "outputs": [
    {
     "data": {
      "text/plain": [
       "10"
      ]
     },
     "execution_count": 79,
     "metadata": {},
     "output_type": "execute_result"
    }
   ],
   "source": [
    "a * b"
   ]
  },
  {
   "cell_type": "code",
   "execution_count": 81,
   "id": "c18d7310-5a46-4f56-9899-5c09b87f2419",
   "metadata": {},
   "outputs": [
    {
     "data": {
      "text/plain": [
       "2.5"
      ]
     },
     "execution_count": 81,
     "metadata": {},
     "output_type": "execute_result"
    }
   ],
   "source": [
    "a / b"
   ]
  },
  {
   "cell_type": "code",
   "execution_count": 83,
   "id": "83f8993a-c904-47a1-92de-f7125b007919",
   "metadata": {},
   "outputs": [
    {
     "data": {
      "text/plain": [
       "2"
      ]
     },
     "execution_count": 83,
     "metadata": {},
     "output_type": "execute_result"
    }
   ],
   "source": [
    "a // b"
   ]
  },
  {
   "cell_type": "code",
   "execution_count": 85,
   "id": "7a646087-b406-46be-a401-abfecc50c5e1",
   "metadata": {},
   "outputs": [
    {
     "data": {
      "text/plain": [
       "1"
      ]
     },
     "execution_count": 85,
     "metadata": {},
     "output_type": "execute_result"
    }
   ],
   "source": [
    "a % b"
   ]
  },
  {
   "cell_type": "code",
   "execution_count": 87,
   "id": "cc75ecd1-a366-4809-b35d-7f1d88a94643",
   "metadata": {},
   "outputs": [
    {
     "data": {
      "text/plain": [
       "25"
      ]
     },
     "execution_count": 87,
     "metadata": {},
     "output_type": "execute_result"
    }
   ],
   "source": [
    "a ** b"
   ]
  },
  {
   "cell_type": "code",
   "execution_count": 89,
   "id": "d1ce99c5-39a0-44e4-af8b-e3c1f6b6bd6b",
   "metadata": {},
   "outputs": [
    {
     "data": {
      "text/plain": [
       "25"
      ]
     },
     "execution_count": 89,
     "metadata": {},
     "output_type": "execute_result"
    }
   ],
   "source": [
    "5 ** 2"
   ]
  },
  {
   "cell_type": "code",
   "execution_count": 93,
   "id": "45cd3286-3488-496d-b07f-447090f9bb6d",
   "metadata": {},
   "outputs": [
    {
     "data": {
      "text/plain": [
       "2.23606797749979"
      ]
     },
     "execution_count": 93,
     "metadata": {},
     "output_type": "execute_result"
    }
   ],
   "source": [
    "5 ** (1 / 2)"
   ]
  },
  {
   "cell_type": "code",
   "execution_count": 95,
   "id": "4fa3e6b9-01bd-49f4-bb18-900383d48704",
   "metadata": {},
   "outputs": [
    {
     "data": {
      "text/plain": [
       "2.0"
      ]
     },
     "execution_count": 95,
     "metadata": {},
     "output_type": "execute_result"
    }
   ],
   "source": [
    "4 ** (1 / 2)"
   ]
  },
  {
   "cell_type": "code",
   "execution_count": 97,
   "id": "0d3ff108-8695-475a-bb69-ca021833f11a",
   "metadata": {},
   "outputs": [],
   "source": [
    "c = 5 ** (1 / 2)"
   ]
  },
  {
   "cell_type": "code",
   "execution_count": 99,
   "id": "5de94806-070a-423a-91df-ae77d4a799b0",
   "metadata": {},
   "outputs": [
    {
     "data": {
      "text/plain": [
       "2.23606797749979"
      ]
     },
     "execution_count": 99,
     "metadata": {},
     "output_type": "execute_result"
    }
   ],
   "source": [
    "c"
   ]
  },
  {
   "cell_type": "code",
   "execution_count": 101,
   "id": "f2d72ad7-995a-4e6b-926d-e93a8a92eec5",
   "metadata": {},
   "outputs": [
    {
     "data": {
      "text/plain": [
       "float"
      ]
     },
     "execution_count": 101,
     "metadata": {},
     "output_type": "execute_result"
    }
   ],
   "source": [
    "type(c)"
   ]
  },
  {
   "cell_type": "code",
   "execution_count": 103,
   "id": "0e4bd646-f846-4c00-845a-1bd0a626ee5c",
   "metadata": {},
   "outputs": [
    {
     "data": {
      "text/plain": [
       "2"
      ]
     },
     "execution_count": 103,
     "metadata": {},
     "output_type": "execute_result"
    }
   ],
   "source": [
    "int(c)"
   ]
  },
  {
   "cell_type": "code",
   "execution_count": 105,
   "id": "a9a3d3e5-b053-44e5-bf92-f00ea59ae326",
   "metadata": {},
   "outputs": [
    {
     "data": {
      "text/plain": [
       "2.0"
      ]
     },
     "execution_count": 105,
     "metadata": {},
     "output_type": "execute_result"
    }
   ],
   "source": [
    "float(2)"
   ]
  },
  {
   "cell_type": "code",
   "execution_count": 107,
   "id": "62243d2d-d571-4c8a-82a8-0c48f00ee9a4",
   "metadata": {},
   "outputs": [
    {
     "data": {
      "text/plain": [
       "'2'"
      ]
     },
     "execution_count": 107,
     "metadata": {},
     "output_type": "execute_result"
    }
   ],
   "source": [
    "str(2)"
   ]
  },
  {
   "cell_type": "code",
   "execution_count": 109,
   "id": "d87d75aa-f160-4d10-8b9e-f064b43c972c",
   "metadata": {},
   "outputs": [
    {
     "data": {
      "text/plain": [
       "'2.5'"
      ]
     },
     "execution_count": 109,
     "metadata": {},
     "output_type": "execute_result"
    }
   ],
   "source": [
    "str(2.5)"
   ]
  },
  {
   "cell_type": "code",
   "execution_count": 111,
   "id": "7aa3be3c-4b10-4f85-8bfc-0085721f8f5b",
   "metadata": {},
   "outputs": [
    {
     "data": {
      "text/plain": [
       "True"
      ]
     },
     "execution_count": 111,
     "metadata": {},
     "output_type": "execute_result"
    }
   ],
   "source": [
    "bool(2.5)"
   ]
  },
  {
   "cell_type": "code",
   "execution_count": 113,
   "id": "48d2c70f-3355-4561-bc24-1746da0e86d8",
   "metadata": {},
   "outputs": [
    {
     "data": {
      "text/plain": [
       "False"
      ]
     },
     "execution_count": 113,
     "metadata": {},
     "output_type": "execute_result"
    }
   ],
   "source": [
    "bool(0)"
   ]
  },
  {
   "cell_type": "code",
   "execution_count": 115,
   "id": "8ae87bf6-a118-436d-93d9-cac57082b861",
   "metadata": {},
   "outputs": [
    {
     "data": {
      "text/plain": [
       "True"
      ]
     },
     "execution_count": 115,
     "metadata": {},
     "output_type": "execute_result"
    }
   ],
   "source": [
    "bool(-2.5)"
   ]
  },
  {
   "cell_type": "code",
   "execution_count": 117,
   "id": "c9a9a325-2171-487e-9637-ec7c6f52bd2a",
   "metadata": {},
   "outputs": [
    {
     "data": {
      "text/plain": [
       "0"
      ]
     },
     "execution_count": 117,
     "metadata": {},
     "output_type": "execute_result"
    }
   ],
   "source": [
    "int(False)"
   ]
  },
  {
   "cell_type": "code",
   "execution_count": 119,
   "id": "2598d3a9-9913-41fc-aec8-6991b410e7ac",
   "metadata": {},
   "outputs": [
    {
     "data": {
      "text/plain": [
       "1"
      ]
     },
     "execution_count": 119,
     "metadata": {},
     "output_type": "execute_result"
    }
   ],
   "source": [
    "int(True)"
   ]
  },
  {
   "cell_type": "code",
   "execution_count": 121,
   "id": "a523e086-d4bf-4143-b090-8c26a1713a4b",
   "metadata": {},
   "outputs": [
    {
     "data": {
      "text/plain": [
       "1.0"
      ]
     },
     "execution_count": 121,
     "metadata": {},
     "output_type": "execute_result"
    }
   ],
   "source": [
    "float(True)"
   ]
  },
  {
   "cell_type": "code",
   "execution_count": 123,
   "id": "4987cd67-25ed-4757-8487-0aacf5181517",
   "metadata": {},
   "outputs": [
    {
     "data": {
      "text/plain": [
       "0.0"
      ]
     },
     "execution_count": 123,
     "metadata": {},
     "output_type": "execute_result"
    }
   ],
   "source": [
    "float(False)"
   ]
  },
  {
   "cell_type": "code",
   "execution_count": 125,
   "id": "3e4bd5bf-0835-4d9b-bdd6-d21fb9f52f1f",
   "metadata": {},
   "outputs": [
    {
     "data": {
      "text/plain": [
       "'234'"
      ]
     },
     "execution_count": 125,
     "metadata": {},
     "output_type": "execute_result"
    }
   ],
   "source": [
    "'234'"
   ]
  },
  {
   "cell_type": "code",
   "execution_count": 127,
   "id": "ea6ca0ab-f245-420a-808a-b9c8df2d72ea",
   "metadata": {},
   "outputs": [
    {
     "data": {
      "text/plain": [
       "str"
      ]
     },
     "execution_count": 127,
     "metadata": {},
     "output_type": "execute_result"
    }
   ],
   "source": [
    "type('234')"
   ]
  },
  {
   "cell_type": "code",
   "execution_count": 129,
   "id": "ddbeded8-c612-483a-8850-dd102270dd40",
   "metadata": {},
   "outputs": [
    {
     "data": {
      "text/plain": [
       "234"
      ]
     },
     "execution_count": 129,
     "metadata": {},
     "output_type": "execute_result"
    }
   ],
   "source": [
    "int('234')"
   ]
  },
  {
   "cell_type": "code",
   "execution_count": 131,
   "id": "925966ae-668c-420b-adda-661027362a07",
   "metadata": {},
   "outputs": [
    {
     "data": {
      "text/plain": [
       "234.0"
      ]
     },
     "execution_count": 131,
     "metadata": {},
     "output_type": "execute_result"
    }
   ],
   "source": [
    "float('234')"
   ]
  },
  {
   "cell_type": "code",
   "execution_count": 133,
   "id": "6767728a-80ab-497c-8a55-bd6b4562cda3",
   "metadata": {},
   "outputs": [
    {
     "ename": "ValueError",
     "evalue": "invalid literal for int() with base 10: 'abc'",
     "output_type": "error",
     "traceback": [
      "\u001b[1;31m---------------------------------------------------------------------------\u001b[0m",
      "\u001b[1;31mValueError\u001b[0m                                Traceback (most recent call last)",
      "Cell \u001b[1;32mIn[133], line 1\u001b[0m\n\u001b[1;32m----> 1\u001b[0m \u001b[38;5;28mint\u001b[39m(\u001b[38;5;124m'\u001b[39m\u001b[38;5;124mabc\u001b[39m\u001b[38;5;124m'\u001b[39m)\n",
      "\u001b[1;31mValueError\u001b[0m: invalid literal for int() with base 10: 'abc'"
     ]
    }
   ],
   "source": [
    "int('abc')"
   ]
  },
  {
   "cell_type": "code",
   "execution_count": 136,
   "id": "cb53a2d6-8bf0-4134-935d-c4e63ac949f7",
   "metadata": {},
   "outputs": [],
   "source": [
    "# = : assignment operator"
   ]
  },
  {
   "cell_type": "markdown",
   "id": "dafedb5d-e2ea-4c00-820c-26eceb0c0ddd",
   "metadata": {},
   "source": [
    "# Comparision Operators or Relational Operators"
   ]
  },
  {
   "cell_type": "code",
   "execution_count": 138,
   "id": "d7fa22db-d945-4e2a-987f-e96c6d2fd60f",
   "metadata": {},
   "outputs": [],
   "source": [
    "# > : greater than\n",
    "# < : less than\n",
    "# == : equal to\n",
    "# != : not equal to\n",
    "# >= : greater than or equal to\n",
    "# <= : less than or equal to"
   ]
  },
  {
   "cell_type": "code",
   "execution_count": 144,
   "id": "3423aee7-ef8d-4320-9848-b1310bdcfc98",
   "metadata": {},
   "outputs": [
    {
     "name": "stdout",
     "output_type": "stream",
     "text": [
      "a:  5\n",
      "b:  2\n"
     ]
    }
   ],
   "source": [
    "print(\"a: \", a)\n",
    "print(\"b: \", b)"
   ]
  },
  {
   "cell_type": "code",
   "execution_count": 140,
   "id": "5339243c-db24-45f3-b237-85637ccc81f3",
   "metadata": {},
   "outputs": [
    {
     "data": {
      "text/plain": [
       "True"
      ]
     },
     "execution_count": 140,
     "metadata": {},
     "output_type": "execute_result"
    }
   ],
   "source": [
    "a > b"
   ]
  },
  {
   "cell_type": "code",
   "execution_count": 146,
   "id": "e7b528cf-79be-4477-b2d6-f7b618b09692",
   "metadata": {},
   "outputs": [
    {
     "data": {
      "text/plain": [
       "False"
      ]
     },
     "execution_count": 146,
     "metadata": {},
     "output_type": "execute_result"
    }
   ],
   "source": [
    "a < b"
   ]
  },
  {
   "cell_type": "code",
   "execution_count": 148,
   "id": "49661956-2c64-4a53-a520-660ab5dd97a1",
   "metadata": {},
   "outputs": [
    {
     "data": {
      "text/plain": [
       "False"
      ]
     },
     "execution_count": 148,
     "metadata": {},
     "output_type": "execute_result"
    }
   ],
   "source": [
    "a == b"
   ]
  },
  {
   "cell_type": "code",
   "execution_count": 150,
   "id": "242a89d3-b35d-43e8-8fea-cc3688df03a5",
   "metadata": {},
   "outputs": [
    {
     "data": {
      "text/plain": [
       "True"
      ]
     },
     "execution_count": 150,
     "metadata": {},
     "output_type": "execute_result"
    }
   ],
   "source": [
    "2 == 2"
   ]
  },
  {
   "cell_type": "code",
   "execution_count": 152,
   "id": "44999fdb-ffd0-4133-b7e1-2d715064dba3",
   "metadata": {},
   "outputs": [
    {
     "data": {
      "text/plain": [
       "True"
      ]
     },
     "execution_count": 152,
     "metadata": {},
     "output_type": "execute_result"
    }
   ],
   "source": [
    "a != b"
   ]
  },
  {
   "cell_type": "code",
   "execution_count": 154,
   "id": "adfe8d0e-853f-4a94-8c11-74e86f936d53",
   "metadata": {},
   "outputs": [
    {
     "data": {
      "text/plain": [
       "True"
      ]
     },
     "execution_count": 154,
     "metadata": {},
     "output_type": "execute_result"
    }
   ],
   "source": [
    "a >= b"
   ]
  },
  {
   "cell_type": "code",
   "execution_count": 156,
   "id": "72a85637-851b-4ff8-bb39-5d6ba4850074",
   "metadata": {},
   "outputs": [
    {
     "data": {
      "text/plain": [
       "True"
      ]
     },
     "execution_count": 156,
     "metadata": {},
     "output_type": "execute_result"
    }
   ],
   "source": [
    "5 >= 5"
   ]
  },
  {
   "cell_type": "code",
   "execution_count": 158,
   "id": "8d413cd8-d78a-4bb2-a32d-1f8495e01f1f",
   "metadata": {},
   "outputs": [
    {
     "data": {
      "text/plain": [
       "True"
      ]
     },
     "execution_count": 158,
     "metadata": {},
     "output_type": "execute_result"
    }
   ],
   "source": [
    "6 >= 5"
   ]
  },
  {
   "cell_type": "code",
   "execution_count": 160,
   "id": "6dffa36f-82f1-4a39-98b3-a4e656af4bb1",
   "metadata": {},
   "outputs": [
    {
     "data": {
      "text/plain": [
       "False"
      ]
     },
     "execution_count": 160,
     "metadata": {},
     "output_type": "execute_result"
    }
   ],
   "source": [
    "True != True"
   ]
  },
  {
   "cell_type": "code",
   "execution_count": 162,
   "id": "ac0d46d5-7e57-446d-8be4-f122aa1ed57a",
   "metadata": {},
   "outputs": [
    {
     "data": {
      "text/plain": [
       "False"
      ]
     },
     "execution_count": 162,
     "metadata": {},
     "output_type": "execute_result"
    }
   ],
   "source": [
    "'Hi' == 'Hello'"
   ]
  },
  {
   "cell_type": "code",
   "execution_count": 164,
   "id": "a0852c4c-584c-4840-96dd-643143b82bb1",
   "metadata": {},
   "outputs": [
    {
     "data": {
      "text/plain": [
       "True"
      ]
     },
     "execution_count": 164,
     "metadata": {},
     "output_type": "execute_result"
    }
   ],
   "source": [
    "'Hi' == 'Hi'"
   ]
  },
  {
   "cell_type": "code",
   "execution_count": 166,
   "id": "080515bd-a3be-4014-970c-40a4f8abdd0c",
   "metadata": {},
   "outputs": [
    {
     "data": {
      "text/plain": [
       "False"
      ]
     },
     "execution_count": 166,
     "metadata": {},
     "output_type": "execute_result"
    }
   ],
   "source": [
    "'Hi' == 'hi'"
   ]
  },
  {
   "cell_type": "code",
   "execution_count": 168,
   "id": "3c201bf6-3d9a-4d83-a4ef-855532bbf087",
   "metadata": {},
   "outputs": [
    {
     "data": {
      "text/plain": [
       "\u001b[1;31mSignature:\u001b[0m \u001b[0mprint\u001b[0m\u001b[1;33m(\u001b[0m\u001b[1;33m*\u001b[0m\u001b[0margs\u001b[0m\u001b[1;33m,\u001b[0m \u001b[0msep\u001b[0m\u001b[1;33m=\u001b[0m\u001b[1;34m' '\u001b[0m\u001b[1;33m,\u001b[0m \u001b[0mend\u001b[0m\u001b[1;33m=\u001b[0m\u001b[1;34m'\\n'\u001b[0m\u001b[1;33m,\u001b[0m \u001b[0mfile\u001b[0m\u001b[1;33m=\u001b[0m\u001b[1;32mNone\u001b[0m\u001b[1;33m,\u001b[0m \u001b[0mflush\u001b[0m\u001b[1;33m=\u001b[0m\u001b[1;32mFalse\u001b[0m\u001b[1;33m)\u001b[0m\u001b[1;33m\u001b[0m\u001b[1;33m\u001b[0m\u001b[0m\n",
       "\u001b[1;31mDocstring:\u001b[0m\n",
       "Prints the values to a stream, or to sys.stdout by default.\n",
       "\n",
       "sep\n",
       "  string inserted between values, default a space.\n",
       "end\n",
       "  string appended after the last value, default a newline.\n",
       "file\n",
       "  a file-like object (stream); defaults to the current sys.stdout.\n",
       "flush\n",
       "  whether to forcibly flush the stream.\n",
       "\u001b[1;31mType:\u001b[0m      builtin_function_or_method"
      ]
     },
     "metadata": {},
     "output_type": "display_data"
    }
   ],
   "source": [
    "print?"
   ]
  },
  {
   "cell_type": "code",
   "execution_count": 170,
   "id": "5c2979d1-1425-4845-8347-eb1568e3817f",
   "metadata": {},
   "outputs": [
    {
     "name": "stdout",
     "output_type": "stream",
     "text": [
      "Welcome to python basics class\n"
     ]
    }
   ],
   "source": [
    "print(\"Welcome to python basics class\")"
   ]
  },
  {
   "cell_type": "code",
   "execution_count": 172,
   "id": "1e4b2bf0-5554-4e65-8591-c1df11bc32ce",
   "metadata": {},
   "outputs": [
    {
     "name": "stdout",
     "output_type": "stream",
     "text": [
      "Welcome to python basics class\n"
     ]
    }
   ],
   "source": [
    "print(\"Welcome to python basics class\", flush=True)"
   ]
  },
  {
   "cell_type": "code",
   "execution_count": 176,
   "id": "30fc377d-e38b-4b7c-9164-2c79b955f6ba",
   "metadata": {},
   "outputs": [],
   "source": [
    "my_list = [1,2,3,4]"
   ]
  },
  {
   "cell_type": "code",
   "execution_count": 180,
   "id": "56852f2b-0031-4d85-9e4e-1e6889f6acda",
   "metadata": {},
   "outputs": [
    {
     "data": {
      "text/plain": [
       "list"
      ]
     },
     "execution_count": 180,
     "metadata": {},
     "output_type": "execute_result"
    }
   ],
   "source": [
    "type(my_list)"
   ]
  },
  {
   "cell_type": "code",
   "execution_count": 182,
   "id": "03ebf135-7b0b-44e1-a254-d0fb6b489f03",
   "metadata": {},
   "outputs": [
    {
     "data": {
      "text/plain": [
       "\u001b[1;31mSignature:\u001b[0m \u001b[0mlist\u001b[0m\u001b[1;33m.\u001b[0m\u001b[0mindex\u001b[0m\u001b[1;33m(\u001b[0m\u001b[0mself\u001b[0m\u001b[1;33m,\u001b[0m \u001b[0mvalue\u001b[0m\u001b[1;33m,\u001b[0m \u001b[0mstart\u001b[0m\u001b[1;33m=\u001b[0m\u001b[1;36m0\u001b[0m\u001b[1;33m,\u001b[0m \u001b[0mstop\u001b[0m\u001b[1;33m=\u001b[0m\u001b[1;36m9223372036854775807\u001b[0m\u001b[1;33m,\u001b[0m \u001b[1;33m/\u001b[0m\u001b[1;33m)\u001b[0m\u001b[1;33m\u001b[0m\u001b[1;33m\u001b[0m\u001b[0m\n",
       "\u001b[1;31mDocstring:\u001b[0m\n",
       "Return first index of value.\n",
       "\n",
       "Raises ValueError if the value is not present.\n",
       "\u001b[1;31mType:\u001b[0m      method_descriptor"
      ]
     },
     "metadata": {},
     "output_type": "display_data"
    }
   ],
   "source": [
    "list.index?"
   ]
  },
  {
   "cell_type": "code",
   "execution_count": 184,
   "id": "7b7f485c-dc06-4922-a727-5fe53f8a9467",
   "metadata": {},
   "outputs": [
    {
     "data": {
      "text/plain": [
       "\u001b[1;31mSignature:\u001b[0m \u001b[0mmy_list\u001b[0m\u001b[1;33m.\u001b[0m\u001b[0mindex\u001b[0m\u001b[1;33m(\u001b[0m\u001b[0mvalue\u001b[0m\u001b[1;33m,\u001b[0m \u001b[0mstart\u001b[0m\u001b[1;33m=\u001b[0m\u001b[1;36m0\u001b[0m\u001b[1;33m,\u001b[0m \u001b[0mstop\u001b[0m\u001b[1;33m=\u001b[0m\u001b[1;36m9223372036854775807\u001b[0m\u001b[1;33m,\u001b[0m \u001b[1;33m/\u001b[0m\u001b[1;33m)\u001b[0m\u001b[1;33m\u001b[0m\u001b[1;33m\u001b[0m\u001b[0m\n",
       "\u001b[1;31mDocstring:\u001b[0m\n",
       "Return first index of value.\n",
       "\n",
       "Raises ValueError if the value is not present.\n",
       "\u001b[1;31mType:\u001b[0m      builtin_function_or_method"
      ]
     },
     "metadata": {},
     "output_type": "display_data"
    }
   ],
   "source": [
    "my_list.index?"
   ]
  },
  {
   "cell_type": "code",
   "execution_count": null,
   "id": "a542bc8c-736d-42e6-ba81-8d0a46154bb3",
   "metadata": {},
   "outputs": [],
   "source": []
  }
 ],
 "metadata": {
  "kernelspec": {
   "display_name": "Python 3",
   "language": "python",
   "name": "python3"
  },
  "language_info": {
   "codemirror_mode": {
    "name": "ipython",
    "version": 3
   },
   "file_extension": ".py",
   "mimetype": "text/x-python",
   "name": "python",
   "nbconvert_exporter": "python",
   "pygments_lexer": "ipython3",
   "version": "3.11.9"
  }
 },
 "nbformat": 4,
 "nbformat_minor": 5
}

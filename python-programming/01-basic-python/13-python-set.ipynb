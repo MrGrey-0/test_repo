{
 "cells": [
  {
   "cell_type": "markdown",
   "id": "742fed0e",
   "metadata": {},
   "source": [
    "# Set\n",
    "- Sets are unordered collections of unique elements.\n",
    "- Meaning there can only be one representative of the same object.\n",
    "- Example:\n",
    "    - {10, 20, 30, 40}"
   ]
  },
  {
   "cell_type": "code",
   "execution_count": 1,
   "id": "f9ded3bf-b241-43a5-922f-289a35d709df",
   "metadata": {},
   "outputs": [],
   "source": [
    "a = {0,1,2,3,4,5}"
   ]
  },
  {
   "cell_type": "code",
   "execution_count": 2,
   "id": "457e7432-7850-4a24-9af1-861693aff10b",
   "metadata": {},
   "outputs": [
    {
     "data": {
      "text/plain": [
       "set"
      ]
     },
     "execution_count": 2,
     "metadata": {},
     "output_type": "execute_result"
    }
   ],
   "source": [
    "type(a)"
   ]
  },
  {
   "cell_type": "code",
   "execution_count": 9,
   "id": "f342c4e2-212a-437d-8cea-a6cd25712677",
   "metadata": {},
   "outputs": [],
   "source": [
    "b= {10,20,30,40,50,40,30,20,10,0,-10,10,20,30,40}"
   ]
  },
  {
   "cell_type": "code",
   "execution_count": 11,
   "id": "ae0f8dbb-6335-4349-a42e-1188e127b969",
   "metadata": {},
   "outputs": [
    {
     "data": {
      "text/plain": [
       "{-10, 0, 10, 20, 30, 40, 50}"
      ]
     },
     "execution_count": 11,
     "metadata": {},
     "output_type": "execute_result"
    }
   ],
   "source": [
    "b"
   ]
  },
  {
   "cell_type": "code",
   "execution_count": 21,
   "id": "2b2d3676-240e-43f5-a6f7-791ac0c7e2a5",
   "metadata": {},
   "outputs": [],
   "source": [
    "# a.*?\n",
    "# a.add --\n",
    "# a.clear --- \n",
    "# a.copy ??\n",
    "# a.difference --\n",
    "# a.difference_update --\n",
    "# a.discard --\n",
    "# a.intersection -- \n",
    "# a.intersection_update --\n",
    "# a.isdisjoint --\n",
    "# a.issubset --\n",
    "# a.issuperset --\n",
    "# a.pop --\n",
    "# a.remove --\n",
    "# a.symmetric_difference --\n",
    "# a.symmetric_difference_update --\n",
    "# a.union -- \n",
    "# a.update --"
   ]
  },
  {
   "cell_type": "code",
   "execution_count": 15,
   "id": "f04c8707-62f1-43dc-b788-cd3b2ea95fd7",
   "metadata": {},
   "outputs": [],
   "source": [
    "a = {0, 2, 4, 6, 8, 10, 12, 14, 16, 18, 20}"
   ]
  },
  {
   "cell_type": "code",
   "execution_count": 19,
   "id": "97e9e8ba-3348-4c67-a758-0fa9496af09f",
   "metadata": {},
   "outputs": [
    {
     "data": {
      "text/plain": [
       "{0, 2, 4, 6, 8, 10, 12, 14, 16, 18, 20}"
      ]
     },
     "execution_count": 19,
     "metadata": {},
     "output_type": "execute_result"
    }
   ],
   "source": [
    "a"
   ]
  },
  {
   "cell_type": "code",
   "execution_count": 23,
   "id": "6fe71697-24f4-4579-b8e7-65bf8006a2cb",
   "metadata": {},
   "outputs": [],
   "source": [
    "b = {11,12,13,14,15,16,17,18,19,20}"
   ]
  },
  {
   "cell_type": "code",
   "execution_count": 25,
   "id": "33e0bc14-5068-4af8-8010-6ab945a7f31f",
   "metadata": {},
   "outputs": [
    {
     "data": {
      "text/plain": [
       "{11, 12, 13, 14, 15, 16, 17, 18, 19, 20}"
      ]
     },
     "execution_count": 25,
     "metadata": {},
     "output_type": "execute_result"
    }
   ],
   "source": [
    "b"
   ]
  },
  {
   "cell_type": "code",
   "execution_count": 35,
   "id": "11348344-25c7-4f8e-b97b-e3ec3925ce07",
   "metadata": {},
   "outputs": [
    {
     "data": {
      "text/plain": [
       "{0, 2, 4, 6, 8, 10, 11, 12, 13, 14, 15, 16, 17, 18, 19, 20}"
      ]
     },
     "execution_count": 35,
     "metadata": {},
     "output_type": "execute_result"
    }
   ],
   "source": [
    "a.union(b) # returns a new set, and hence a and b remains unchanges"
   ]
  },
  {
   "cell_type": "code",
   "execution_count": 31,
   "id": "39a1fd46-4b1d-45d5-99ee-8935e6601845",
   "metadata": {},
   "outputs": [
    {
     "data": {
      "text/plain": [
       "{0, 2, 4, 6, 8, 10, 12, 14, 16, 18, 20}"
      ]
     },
     "execution_count": 31,
     "metadata": {},
     "output_type": "execute_result"
    }
   ],
   "source": [
    "a"
   ]
  },
  {
   "cell_type": "code",
   "execution_count": 33,
   "id": "669282c4-d817-4c12-b23a-551e5fd2ffe0",
   "metadata": {},
   "outputs": [
    {
     "data": {
      "text/plain": [
       "{11, 12, 13, 14, 15, 16, 17, 18, 19, 20}"
      ]
     },
     "execution_count": 33,
     "metadata": {},
     "output_type": "execute_result"
    }
   ],
   "source": [
    "b"
   ]
  },
  {
   "cell_type": "code",
   "execution_count": 37,
   "id": "d442922c-09e2-4128-9a67-b04862a3fdbe",
   "metadata": {},
   "outputs": [
    {
     "data": {
      "text/plain": [
       "{12, 14, 16, 18, 20}"
      ]
     },
     "execution_count": 37,
     "metadata": {},
     "output_type": "execute_result"
    }
   ],
   "source": [
    "a.intersection(b)"
   ]
  },
  {
   "cell_type": "code",
   "execution_count": 49,
   "id": "f915cbd8-cd33-46d3-804f-20d70f184b8b",
   "metadata": {},
   "outputs": [],
   "source": [
    "c = {100, 200, 300, 400}"
   ]
  },
  {
   "cell_type": "code",
   "execution_count": 51,
   "id": "9dfb02fd-0ab4-45f4-acba-80309661290b",
   "metadata": {},
   "outputs": [
    {
     "data": {
      "text/plain": [
       "set()"
      ]
     },
     "execution_count": 51,
     "metadata": {},
     "output_type": "execute_result"
    }
   ],
   "source": [
    "a.intersection(c)"
   ]
  },
  {
   "cell_type": "code",
   "execution_count": 53,
   "id": "08483fbb-44d9-4a95-ac4c-622fa31d2b5b",
   "metadata": {},
   "outputs": [
    {
     "data": {
      "text/plain": [
       "{100, 200, 300, 400}"
      ]
     },
     "execution_count": 53,
     "metadata": {},
     "output_type": "execute_result"
    }
   ],
   "source": [
    "c"
   ]
  },
  {
   "cell_type": "code",
   "execution_count": 55,
   "id": "7e33621e-2f7e-4694-bc5f-0d7fa80eb914",
   "metadata": {},
   "outputs": [],
   "source": [
    "c.clear()"
   ]
  },
  {
   "cell_type": "code",
   "execution_count": 57,
   "id": "3c6caacf-d37b-4092-bb05-23544ceb6a83",
   "metadata": {},
   "outputs": [
    {
     "data": {
      "text/plain": [
       "set()"
      ]
     },
     "execution_count": 57,
     "metadata": {},
     "output_type": "execute_result"
    }
   ],
   "source": [
    "c"
   ]
  },
  {
   "cell_type": "code",
   "execution_count": 61,
   "id": "9224f7f8-dc0e-4a9c-80e7-16095ebd0b1d",
   "metadata": {},
   "outputs": [],
   "source": [
    "c.add(1800)"
   ]
  },
  {
   "cell_type": "code",
   "execution_count": 63,
   "id": "b54d52c2-1f9d-4a50-995d-698fb84fa90a",
   "metadata": {},
   "outputs": [
    {
     "data": {
      "text/plain": [
       "{1800}"
      ]
     },
     "execution_count": 63,
     "metadata": {},
     "output_type": "execute_result"
    }
   ],
   "source": [
    "c"
   ]
  },
  {
   "cell_type": "code",
   "execution_count": 69,
   "id": "cd826361-9439-422f-a8d2-8f7f748eb446",
   "metadata": {},
   "outputs": [
    {
     "data": {
      "text/plain": [
       "\u001b[1;31mDocstring:\u001b[0m\n",
       "Return the difference of two or more sets as a new set.\n",
       "\n",
       "(i.e. all elements that are in this set but not the others.)\n",
       "\u001b[1;31mType:\u001b[0m      builtin_function_or_method"
      ]
     },
     "metadata": {},
     "output_type": "display_data"
    }
   ],
   "source": [
    "c.difference?"
   ]
  },
  {
   "cell_type": "code",
   "execution_count": 71,
   "id": "ca577f2b-702e-408b-a676-49854d1f470a",
   "metadata": {},
   "outputs": [
    {
     "data": {
      "text/plain": [
       "{0, 2, 4, 6, 8, 10, 12, 14, 16, 18, 20}"
      ]
     },
     "execution_count": 71,
     "metadata": {},
     "output_type": "execute_result"
    }
   ],
   "source": [
    "a"
   ]
  },
  {
   "cell_type": "code",
   "execution_count": 73,
   "id": "3965b3a0-1a4f-4c54-bce2-ce3afba9d12a",
   "metadata": {},
   "outputs": [
    {
     "data": {
      "text/plain": [
       "{11, 12, 13, 14, 15, 16, 17, 18, 19, 20}"
      ]
     },
     "execution_count": 73,
     "metadata": {},
     "output_type": "execute_result"
    }
   ],
   "source": [
    "b"
   ]
  },
  {
   "cell_type": "code",
   "execution_count": 75,
   "id": "8da0f1ea-ba1d-4373-aefc-b8e8f9786aae",
   "metadata": {},
   "outputs": [
    {
     "data": {
      "text/plain": [
       "{0, 2, 4, 6, 8, 10}"
      ]
     },
     "execution_count": 75,
     "metadata": {},
     "output_type": "execute_result"
    }
   ],
   "source": [
    "a.difference(b)"
   ]
  },
  {
   "cell_type": "code",
   "execution_count": 81,
   "id": "f6b77198-970c-459e-b928-9f652240e082",
   "metadata": {},
   "outputs": [
    {
     "data": {
      "text/plain": [
       "{11, 13, 15, 17, 19}"
      ]
     },
     "execution_count": 81,
     "metadata": {},
     "output_type": "execute_result"
    }
   ],
   "source": [
    "b.difference(a)"
   ]
  },
  {
   "cell_type": "code",
   "execution_count": 83,
   "id": "de138052-ee03-425a-8bb0-adca248b9c20",
   "metadata": {},
   "outputs": [
    {
     "data": {
      "text/plain": [
       "{0, 2, 4, 6, 8, 10, 11, 13, 15, 17, 19}"
      ]
     },
     "execution_count": 83,
     "metadata": {},
     "output_type": "execute_result"
    }
   ],
   "source": [
    "a.symmetric_difference(b)"
   ]
  },
  {
   "cell_type": "code",
   "execution_count": 85,
   "id": "322ff0b5-c07a-4a02-a0ec-d34619de4d69",
   "metadata": {},
   "outputs": [
    {
     "data": {
      "text/plain": [
       "{0, 2, 4, 6, 8, 10, 11, 13, 15, 17, 19}"
      ]
     },
     "execution_count": 85,
     "metadata": {},
     "output_type": "execute_result"
    }
   ],
   "source": [
    "b.symmetric_difference(a)"
   ]
  },
  {
   "cell_type": "code",
   "execution_count": 91,
   "id": "352faaf0-86b5-498a-b30b-2012e18422c6",
   "metadata": {},
   "outputs": [
    {
     "data": {
      "text/plain": [
       "{0, 2, 4, 6, 8, 10}"
      ]
     },
     "execution_count": 91,
     "metadata": {},
     "output_type": "execute_result"
    }
   ],
   "source": [
    "a.difference(b)"
   ]
  },
  {
   "cell_type": "code",
   "execution_count": 93,
   "id": "3e652567-f4e5-414d-a80c-9b2f506324c2",
   "metadata": {},
   "outputs": [
    {
     "data": {
      "text/plain": [
       "{0, 2, 4, 6, 8, 10, 12, 14, 16, 18, 20}"
      ]
     },
     "execution_count": 93,
     "metadata": {},
     "output_type": "execute_result"
    }
   ],
   "source": [
    "a"
   ]
  },
  {
   "cell_type": "code",
   "execution_count": 95,
   "id": "46183a93-6b88-4a50-a801-eb6dd7631852",
   "metadata": {},
   "outputs": [
    {
     "data": {
      "text/plain": [
       "{11, 12, 13, 14, 15, 16, 17, 18, 19, 20}"
      ]
     },
     "execution_count": 95,
     "metadata": {},
     "output_type": "execute_result"
    }
   ],
   "source": [
    "b"
   ]
  },
  {
   "cell_type": "code",
   "execution_count": 97,
   "id": "1f6c5781-1776-4785-896f-3147d73e0748",
   "metadata": {},
   "outputs": [],
   "source": [
    "a.difference_update(b)"
   ]
  },
  {
   "cell_type": "code",
   "execution_count": 99,
   "id": "589904b2-bf60-48cc-b2b9-4534abf507b2",
   "metadata": {},
   "outputs": [
    {
     "data": {
      "text/plain": [
       "{0, 2, 4, 6, 8, 10}"
      ]
     },
     "execution_count": 99,
     "metadata": {},
     "output_type": "execute_result"
    }
   ],
   "source": [
    "a"
   ]
  },
  {
   "cell_type": "code",
   "execution_count": 101,
   "id": "c464e6d3-dc7e-4fd7-8d04-f04b3b98fcf8",
   "metadata": {},
   "outputs": [
    {
     "data": {
      "text/plain": [
       "{11, 12, 13, 14, 15, 16, 17, 18, 19, 20}"
      ]
     },
     "execution_count": 101,
     "metadata": {},
     "output_type": "execute_result"
    }
   ],
   "source": [
    "b"
   ]
  },
  {
   "cell_type": "code",
   "execution_count": 103,
   "id": "1dd1d2db-59f0-41c6-882a-83cebd0ef016",
   "metadata": {},
   "outputs": [
    {
     "data": {
      "text/plain": [
       "{0, 2, 4, 6, 8, 10}"
      ]
     },
     "execution_count": 103,
     "metadata": {},
     "output_type": "execute_result"
    }
   ],
   "source": [
    "a"
   ]
  },
  {
   "cell_type": "code",
   "execution_count": null,
   "id": "5c9f6b60-d70c-4921-9379-ae186907814d",
   "metadata": {},
   "outputs": [],
   "source": []
  },
  {
   "cell_type": "code",
   "execution_count": null,
   "id": "5f99c729-544b-4a32-b48e-6a422869f0c5",
   "metadata": {},
   "outputs": [],
   "source": []
  }
 ],
 "metadata": {
  "kernelspec": {
   "display_name": "Python 3",
   "language": "python",
   "name": "python3"
  },
  "language_info": {
   "codemirror_mode": {
    "name": "ipython",
    "version": 3
   },
   "file_extension": ".py",
   "mimetype": "text/x-python",
   "name": "python",
   "nbconvert_exporter": "python",
   "pygments_lexer": "ipython3",
   "version": "3.11.9"
  }
 },
 "nbformat": 4,
 "nbformat_minor": 5
}

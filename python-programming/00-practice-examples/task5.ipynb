{
 "cells": [
  {
   "cell_type": "code",
   "execution_count": null,
   "id": "fb20ee33-78bb-4631-8965-aa4c729733f0",
   "metadata": {},
   "outputs": [],
   "source": [
    "def get_longest_string(input_strs):\n",
    "    a = {each_str:len(each_str) for each_str in input_strs}\n",
    "    strs_len_list = list(a.values())\n",
    "    strs_len_list.sort()\n",
    "    max_len = strs_len_list[-1] # Ex: 6\n",
    "    # max_str = ?\n",
    "    return max_str  # Ex: lizard"
   ]
  },
  {
   "cell_type": "code",
   "execution_count": null,
   "id": "6750ebaf-0dbd-4fab-af10-a9eefcba338c",
   "metadata": {},
   "outputs": [],
   "source": []
  },
  {
   "cell_type": "code",
   "execution_count": 2,
   "id": "dc333605-674c-4b57-b217-fc6b76e69a4e",
   "metadata": {},
   "outputs": [],
   "source": [
    "input_strs = ['cat','dog','bird','lizard','mouse']"
   ]
  },
  {
   "cell_type": "code",
   "execution_count": 35,
   "id": "3f558b25-31ba-4e19-8f56-e534461140bf",
   "metadata": {},
   "outputs": [
    {
     "name": "stdout",
     "output_type": "stream",
     "text": [
      "{'cat': 3}\n",
      "{'dog': 3}\n",
      "{'bird': 4}\n",
      "{'lizard': 6}\n",
      "{'mouse': 5}\n"
     ]
    }
   ],
   "source": [
    "for each_str in input_strs:\n",
    "    new_dict = {each_str:len(each_str)}\n",
    "    print(new_dict)"
   ]
  },
  {
   "cell_type": "code",
   "execution_count": 37,
   "id": "14d20410-9a81-47f7-908e-9ebba09e5cc8",
   "metadata": {},
   "outputs": [
    {
     "data": {
      "text/plain": [
       "{'cat': 3}"
      ]
     },
     "execution_count": 37,
     "metadata": {},
     "output_type": "execute_result"
    }
   ],
   "source": [
    "{'cat':3}"
   ]
  },
  {
   "cell_type": "code",
   "execution_count": 39,
   "id": "f4617879-f719-4b4d-a441-956a08e7a115",
   "metadata": {},
   "outputs": [
    {
     "name": "stdout",
     "output_type": "stream",
     "text": [
      "{'cat': 3, 'dog': 3, 'bird': 4, 'lizard': 6, 'mouse': 5}\n"
     ]
    }
   ],
   "source": [
    "a = {each_str:len(each_str) for each_str in input_strs}\n",
    "print(a)"
   ]
  },
  {
   "cell_type": "code",
   "execution_count": 47,
   "id": "075222cc-3526-4355-8045-adb8bc060735",
   "metadata": {},
   "outputs": [],
   "source": [
    "strs_len_list = list(a.values())\n",
    "strs_len_list.sort()"
   ]
  },
  {
   "cell_type": "code",
   "execution_count": 49,
   "id": "7fc15fc7-0ace-4d7b-a4c6-0dc4444ceabe",
   "metadata": {},
   "outputs": [
    {
     "data": {
      "text/plain": [
       "[3, 3, 4, 5, 6]"
      ]
     },
     "execution_count": 49,
     "metadata": {},
     "output_type": "execute_result"
    }
   ],
   "source": [
    "strs_len_list"
   ]
  },
  {
   "cell_type": "code",
   "execution_count": 51,
   "id": "c6131325-63a7-438c-87c4-7d2e148a65d2",
   "metadata": {},
   "outputs": [
    {
     "data": {
      "text/plain": [
       "6"
      ]
     },
     "execution_count": 51,
     "metadata": {},
     "output_type": "execute_result"
    }
   ],
   "source": [
    "strs_len_list[-1]"
   ]
  },
  {
   "cell_type": "code",
   "execution_count": 53,
   "id": "e2efd1f7-9696-40d1-b5ac-e796789b7b2d",
   "metadata": {},
   "outputs": [
    {
     "data": {
      "text/plain": [
       "a.__class__\n",
       "a.__class_getitem__\n",
       "a.__contains__\n",
       "a.__delattr__\n",
       "a.__delitem__\n",
       "a.__dir__\n",
       "a.__doc__\n",
       "a.__eq__\n",
       "a.__format__\n",
       "a.__ge__\n",
       "a.__getattribute__\n",
       "a.__getitem__\n",
       "a.__getstate__\n",
       "a.__gt__\n",
       "a.__hash__\n",
       "a.__init__\n",
       "a.__init_subclass__\n",
       "a.__ior__\n",
       "a.__iter__\n",
       "a.__le__\n",
       "a.__len__\n",
       "a.__lt__\n",
       "a.__ne__\n",
       "a.__new__\n",
       "a.__or__\n",
       "a.__reduce__\n",
       "a.__reduce_ex__\n",
       "a.__repr__\n",
       "a.__reversed__\n",
       "a.__ror__\n",
       "a.__setattr__\n",
       "a.__setitem__\n",
       "a.__sizeof__\n",
       "a.__str__\n",
       "a.__subclasshook__\n",
       "a.clear\n",
       "a.copy\n",
       "a.fromkeys\n",
       "a.get\n",
       "a.items\n",
       "a.keys\n",
       "a.pop\n",
       "a.popitem\n",
       "a.setdefault\n",
       "a.update\n",
       "a.values"
      ]
     },
     "metadata": {},
     "output_type": "display_data"
    }
   ],
   "source": [
    "a.*?"
   ]
  },
  {
   "cell_type": "code",
   "execution_count": 55,
   "id": "9c32ab95-63d8-4167-afef-5babf555c254",
   "metadata": {},
   "outputs": [
    {
     "data": {
      "text/plain": [
       "6"
      ]
     },
     "execution_count": 55,
     "metadata": {},
     "output_type": "execute_result"
    }
   ],
   "source": [
    "a.get('lizard')"
   ]
  },
  {
   "cell_type": "code",
   "execution_count": 59,
   "id": "4c6fbb44-3e7a-4cd6-afe4-1d27cd13d324",
   "metadata": {},
   "outputs": [
    {
     "data": {
      "text/plain": [
       "{'cat': 3, 'dog': 3, 'bird': 4, 'lizard': 6, 'mouse': 5}"
      ]
     },
     "execution_count": 59,
     "metadata": {},
     "output_type": "execute_result"
    }
   ],
   "source": [
    "a"
   ]
  },
  {
   "cell_type": "markdown",
   "id": "937d1701-4369-4ca8-b016-4c0f53523a08",
   "metadata": {},
   "source": [
    "# 10/09/2024"
   ]
  },
  {
   "cell_type": "code",
   "execution_count": 4,
   "id": "644b5314-f197-4866-9943-6a23191f1f6a",
   "metadata": {},
   "outputs": [],
   "source": [
    "input_strs = ['cat','dog','bird','lizard','mouse']"
   ]
  },
  {
   "cell_type": "code",
   "execution_count": 15,
   "id": "e6cc6504-a6dd-4632-9197-b4b2ae95a753",
   "metadata": {},
   "outputs": [
    {
     "data": {
      "text/plain": [
       "{'cat': 3, 'dog': 3, 'bird': 4, 'lizard': 6, 'mouse': 5}"
      ]
     },
     "execution_count": 15,
     "metadata": {},
     "output_type": "execute_result"
    }
   ],
   "source": [
    "input_dict = {input_str:len(input_str)  for input_str in input_strs}\n",
    "input_dict"
   ]
  },
  {
   "cell_type": "code",
   "execution_count": 13,
   "id": "13a2ae8d-f73c-47b6-b654-ae7449f0841f",
   "metadata": {},
   "outputs": [
    {
     "data": {
      "text/plain": [
       "5"
      ]
     },
     "execution_count": 13,
     "metadata": {},
     "output_type": "execute_result"
    }
   ],
   "source": [
    "len(input_dict)"
   ]
  },
  {
   "cell_type": "code",
   "execution_count": 53,
   "id": "90ce9372-267b-4757-bdf0-a869c55489c7",
   "metadata": {},
   "outputs": [
    {
     "name": "stdout",
     "output_type": "stream",
     "text": [
      "6\n"
     ]
    }
   ],
   "source": [
    "len_strs = list(input_dict.values())\n",
    "len_strs.sort()\n",
    "max_len = len_strs[-1]\n",
    "print(max_len)"
   ]
  },
  {
   "cell_type": "code",
   "execution_count": 55,
   "id": "7cef3c2b-c6c1-4a0a-a20f-6cabe5096b9b",
   "metadata": {},
   "outputs": [
    {
     "data": {
      "text/plain": [
       "6"
      ]
     },
     "execution_count": 55,
     "metadata": {},
     "output_type": "execute_result"
    }
   ],
   "source": [
    "max(input_dict.values())"
   ]
  },
  {
   "cell_type": "code",
   "execution_count": 57,
   "id": "364357cc-bfeb-4d49-a830-a50b1cd52006",
   "metadata": {},
   "outputs": [
    {
     "name": "stdout",
     "output_type": "stream",
     "text": [
      "lizard\n"
     ]
    }
   ],
   "source": [
    "for key, value in input_dict.items():\n",
    "    if value == max(input_dict.values()):\n",
    "        print(key)"
   ]
  },
  {
   "cell_type": "code",
   "execution_count": 65,
   "id": "a7d7cd10-f933-49cd-9860-23153e7f0342",
   "metadata": {},
   "outputs": [],
   "source": [
    "def get_longest_string(input_strs):\n",
    "    a = {each_str:len(each_str) for each_str in input_strs}\n",
    "    strs_len_list = list(a.values())\n",
    "    strs_len_list.sort()\n",
    "    max_len = strs_len_list[-1] # Ex: 6\n",
    "    ##\n",
    "    for key, value in input_dict.items():\n",
    "        if value == max_len:\n",
    "            return key  # Ex: lizard\n",
    "    ##"
   ]
  },
  {
   "cell_type": "code",
   "execution_count": 67,
   "id": "b26fae9c-70fc-4246-aaad-88f36fcd2740",
   "metadata": {},
   "outputs": [
    {
     "data": {
      "text/plain": [
       "'lizard'"
      ]
     },
     "execution_count": 67,
     "metadata": {},
     "output_type": "execute_result"
    }
   ],
   "source": [
    "get_longest_string(input_strs)"
   ]
  },
  {
   "cell_type": "code",
   "execution_count": 69,
   "id": "49a61bac-c23f-4eb8-83ec-dfeb1e684ee5",
   "metadata": {},
   "outputs": [],
   "source": [
    "def get_longest_string(input_strs):\n",
    "    input_dict = {each_str:len(each_str) for each_str in input_strs}\n",
    "    for key, value in input_dict.items():\n",
    "        if value == max(input_dict.values()):\n",
    "            return key  # Ex: lizard\n",
    "    ##"
   ]
  },
  {
   "cell_type": "code",
   "execution_count": 71,
   "id": "658f059d-9a78-4527-ad09-7fca4795ff6e",
   "metadata": {},
   "outputs": [
    {
     "data": {
      "text/plain": [
       "'lizard'"
      ]
     },
     "execution_count": 71,
     "metadata": {},
     "output_type": "execute_result"
    }
   ],
   "source": [
    "get_longest_string(input_strs)"
   ]
  },
  {
   "cell_type": "code",
   "execution_count": 73,
   "id": "80a4fdfa-a5c6-40e8-9496-00a26195d0ac",
   "metadata": {},
   "outputs": [
    {
     "data": {
      "text/plain": [
       "{'cat': 3, 'dog': 3, 'bird': 4, 'lizard': 6, 'mouse': 5}"
      ]
     },
     "execution_count": 73,
     "metadata": {},
     "output_type": "execute_result"
    }
   ],
   "source": [
    "input_dict"
   ]
  },
  {
   "cell_type": "code",
   "execution_count": 87,
   "id": "75e7b153-a514-4305-91c5-4a8b03fa4a24",
   "metadata": {},
   "outputs": [
    {
     "data": {
      "text/plain": [
       "'mouse'"
      ]
     },
     "execution_count": 87,
     "metadata": {},
     "output_type": "execute_result"
    }
   ],
   "source": [
    "max(input_dict)  # Getting max key based on A to Z sorting, meaning key close to Z"
   ]
  },
  {
   "cell_type": "code",
   "execution_count": 89,
   "id": "59060340-8a50-4d68-b13a-9b532570be61",
   "metadata": {},
   "outputs": [
    {
     "data": {
      "text/plain": [
       "'lizard'"
      ]
     },
     "execution_count": 89,
     "metadata": {},
     "output_type": "execute_result"
    }
   ],
   "source": [
    "max(input_dict, key=input_dict.get)  # Getting key of max value"
   ]
  },
  {
   "cell_type": "code",
   "execution_count": 91,
   "id": "ba42661d-d906-4d5a-9bd1-ce9c55677967",
   "metadata": {},
   "outputs": [
    {
     "data": {
      "text/plain": [
       "'bird'"
      ]
     },
     "execution_count": 91,
     "metadata": {},
     "output_type": "execute_result"
    }
   ],
   "source": [
    "min(input_dict)  # Getting min key based on A to Z sorting, meaning key close to A"
   ]
  },
  {
   "cell_type": "code",
   "execution_count": 93,
   "id": "a19f8aa2-e4fe-421a-b67a-fdb2b8a66895",
   "metadata": {},
   "outputs": [
    {
     "data": {
      "text/plain": [
       "'cat'"
      ]
     },
     "execution_count": 93,
     "metadata": {},
     "output_type": "execute_result"
    }
   ],
   "source": [
    "min(input_dict,key=input_dict.get)  # Getting key of min value"
   ]
  },
  {
   "cell_type": "code",
   "execution_count": 99,
   "id": "62c2a7c2-e1f8-4cc4-8366-dd429d534218",
   "metadata": {},
   "outputs": [],
   "source": [
    "def get_longest_string(input_strs):\n",
    "    input_dict = {each_str:len(each_str) for each_str in input_strs}\n",
    "    return max(input_dict, key=input_dict.get)\n",
    "    ##"
   ]
  },
  {
   "cell_type": "code",
   "execution_count": 101,
   "id": "c820aa17-c13c-469e-9fcd-d1c82f5c2993",
   "metadata": {},
   "outputs": [
    {
     "data": {
      "text/plain": [
       "'lizard'"
      ]
     },
     "execution_count": 101,
     "metadata": {},
     "output_type": "execute_result"
    }
   ],
   "source": [
    "get_longest_string(input_strs)"
   ]
  },
  {
   "cell_type": "code",
   "execution_count": 103,
   "id": "8d997adf-955f-447f-b6c6-450197eed2e6",
   "metadata": {},
   "outputs": [
    {
     "data": {
      "text/plain": [
       "'bird'"
      ]
     },
     "execution_count": 103,
     "metadata": {},
     "output_type": "execute_result"
    }
   ],
   "source": [
    "get_longest_string(['cat','dog','bird','wolf'])"
   ]
  },
  {
   "cell_type": "code",
   "execution_count": 105,
   "id": "fa92d52c-b8f7-48b0-8b50-0bd76874dbe0",
   "metadata": {},
   "outputs": [
    {
     "data": {
      "text/plain": [
       "'a'"
      ]
     },
     "execution_count": 105,
     "metadata": {},
     "output_type": "execute_result"
    }
   ],
   "source": [
    "get_longest_string(['a','b','c','d'])"
   ]
  },
  {
   "cell_type": "markdown",
   "id": "3f6902f7-4beb-4855-881c-7167068f29d3",
   "metadata": {},
   "source": [
    "# Simplest solution"
   ]
  },
  {
   "cell_type": "code",
   "execution_count": 107,
   "id": "d4dc0052-c81c-4c62-bd70-df12ddd61a55",
   "metadata": {},
   "outputs": [
    {
     "data": {
      "text/plain": [
       "['cat', 'dog', 'bird', 'lizard', 'mouse']"
      ]
     },
     "execution_count": 107,
     "metadata": {},
     "output_type": "execute_result"
    }
   ],
   "source": [
    "input_strs"
   ]
  },
  {
   "cell_type": "code",
   "execution_count": 113,
   "id": "b64a245b-3f92-4a8c-ab3f-194a25dc29c6",
   "metadata": {},
   "outputs": [
    {
     "name": "stdout",
     "output_type": "stream",
     "text": [
      "lizard\n"
     ]
    }
   ],
   "source": [
    "longest_str = ''\n",
    "for input_str in input_strs:\n",
    "    if len(input_str) > len(longest_str):\n",
    "        longest_str = input_str\n",
    "#\n",
    "print(longest_str)"
   ]
  },
  {
   "cell_type": "code",
   "execution_count": 115,
   "id": "64136cda-ce4f-4296-8e4e-66ae8eaf99e4",
   "metadata": {},
   "outputs": [],
   "source": [
    "def get_longest_string(input_strs):\n",
    "    longest_str = ''\n",
    "    for input_str in input_strs:\n",
    "        if len(input_str) > len(longest_str):\n",
    "            longest_str = input_str\n",
    "    #\n",
    "    return longest_str"
   ]
  },
  {
   "cell_type": "code",
   "execution_count": 117,
   "id": "f21f27d1-f700-462a-afc7-62b8695a3f76",
   "metadata": {},
   "outputs": [
    {
     "data": {
      "text/plain": [
       "'lizard'"
      ]
     },
     "execution_count": 117,
     "metadata": {},
     "output_type": "execute_result"
    }
   ],
   "source": [
    "get_longest_string(input_strs)"
   ]
  },
  {
   "cell_type": "code",
   "execution_count": 120,
   "id": "26a147b0-f49f-43e3-836c-f3d4cc8a709b",
   "metadata": {},
   "outputs": [
    {
     "data": {
      "text/plain": [
       "'bird'"
      ]
     },
     "execution_count": 120,
     "metadata": {},
     "output_type": "execute_result"
    }
   ],
   "source": [
    "get_longest_string(['cat','dog','bird','wolf'])"
   ]
  },
  {
   "cell_type": "code",
   "execution_count": null,
   "id": "d449c5ae-aa6b-42ca-99c6-5391d6652398",
   "metadata": {},
   "outputs": [],
   "source": []
  }
 ],
 "metadata": {
  "kernelspec": {
   "display_name": "Python 3 (ipykernel)",
   "language": "python",
   "name": "python3"
  },
  "language_info": {
   "codemirror_mode": {
    "name": "ipython",
    "version": 3
   },
   "file_extension": ".py",
   "mimetype": "text/x-python",
   "name": "python",
   "nbconvert_exporter": "python",
   "pygments_lexer": "ipython3",
   "version": "3.12.4"
  }
 },
 "nbformat": 4,
 "nbformat_minor": 5
}

{
 "cells": [
  {
   "cell_type": "code",
   "execution_count": 17,
   "id": "56a2317f-48e7-4768-ae8a-31b2cb26669a",
   "metadata": {},
   "outputs": [],
   "source": [
    "def remove_vowels(input_str):\n",
    "    output_list = []\n",
    "    a = 'aeiouAEIOU'\n",
    "    for l in input_str:\n",
    "        print('l: ', l)\n",
    "        if l not in a:\n",
    "            output_list.append(l)\n",
    "    print('output_list: ', output_list)\n",
    "    return ''.join(output_list)"
   ]
  },
  {
   "cell_type": "code",
   "execution_count": 19,
   "id": "b9a9f66f-c61f-4321-9dc6-533c2d1981be",
   "metadata": {},
   "outputs": [
    {
     "name": "stdout",
     "output_type": "stream",
     "text": [
      "l:  H\n",
      "l:  e\n",
      "l:  l\n",
      "l:  l\n",
      "l:  o\n",
      "l:   \n",
      "l:  W\n",
      "l:  o\n",
      "l:  r\n",
      "l:  l\n",
      "l:  d\n",
      "l:  !\n",
      "output_list:  ['H', 'l', 'l', ' ', 'W', 'r', 'l', 'd', '!']\n",
      "result: Hll Wrld!\n"
     ]
    }
   ],
   "source": [
    "result = remove_vowels('Hello World!')\n",
    "print('result:', result)"
   ]
  },
  {
   "cell_type": "code",
   "execution_count": 13,
   "id": "f5a3bab0-8976-4a56-b2fa-b5a78ecb5053",
   "metadata": {},
   "outputs": [
    {
     "data": {
      "text/plain": [
       "True"
      ]
     },
     "execution_count": 13,
     "metadata": {},
     "output_type": "execute_result"
    }
   ],
   "source": [
    "'H' not in 'aeiouAEIOU'"
   ]
  },
  {
   "cell_type": "code",
   "execution_count": 15,
   "id": "d2398af8-224b-4687-a604-38ce4d22c90f",
   "metadata": {},
   "outputs": [
    {
     "data": {
      "text/plain": [
       "False"
      ]
     },
     "execution_count": 15,
     "metadata": {},
     "output_type": "execute_result"
    }
   ],
   "source": [
    "'e' not in 'aeiouAEIOU'"
   ]
  },
  {
   "cell_type": "code",
   "execution_count": 21,
   "id": "7ca1affa-29ac-4948-9c2a-065ff5541cf3",
   "metadata": {},
   "outputs": [
    {
     "data": {
      "text/plain": [
       "'Hll Wrld!'"
      ]
     },
     "execution_count": 21,
     "metadata": {},
     "output_type": "execute_result"
    }
   ],
   "source": [
    "''.join(['H', 'l', 'l', ' ', 'W', 'r', 'l', 'd', '!'])"
   ]
  },
  {
   "cell_type": "markdown",
   "id": "7f9e116d-4dc6-476f-91f4-9e4d1afb434b",
   "metadata": {},
   "source": [
    "# Method 2"
   ]
  },
  {
   "cell_type": "code",
   "execution_count": 26,
   "id": "a2bfb839-2374-4b7b-a10f-9477b8ca20f5",
   "metadata": {},
   "outputs": [],
   "source": [
    "input_str = 'Hello World!'"
   ]
  },
  {
   "cell_type": "code",
   "execution_count": 34,
   "id": "c0a5aebf-817b-4e87-9efc-816530086228",
   "metadata": {},
   "outputs": [
    {
     "data": {
      "text/plain": [
       "'Hll Wrld!'"
      ]
     },
     "execution_count": 34,
     "metadata": {},
     "output_type": "execute_result"
    }
   ],
   "source": [
    "input_str.replace('a','').replace('e','').replace('i','').replace('o','').replace('u','')"
   ]
  },
  {
   "cell_type": "code",
   "execution_count": 53,
   "id": "ca069dfc-f5ce-499b-b7d0-5626c78e438f",
   "metadata": {},
   "outputs": [],
   "source": [
    "def remove_vowels_2(input_str):\n",
    "    input_str = input_str.replace('a','').replace('e','').replace('i','').replace('o','').replace('u','')\n",
    "    input_str = input_str.replace('A','').replace('E','').replace('I','').replace('O','').replace('U','')\n",
    "    return input_str"
   ]
  },
  {
   "cell_type": "code",
   "execution_count": 57,
   "id": "c125927b-7227-4701-8842-c0aa672bcefe",
   "metadata": {},
   "outputs": [
    {
     "name": "stdout",
     "output_type": "stream",
     "text": [
      "result: Hll Wrld!\n"
     ]
    }
   ],
   "source": [
    "result = remove_vowels_2('Hello World!')\n",
    "print('result:', result)"
   ]
  },
  {
   "cell_type": "code",
   "execution_count": 59,
   "id": "30421320-6c7e-475e-a6da-245ce6e30d3b",
   "metadata": {},
   "outputs": [
    {
     "name": "stdout",
     "output_type": "stream",
     "text": [
      "result: \n"
     ]
    }
   ],
   "source": [
    "result = remove_vowels_2('aeiouAEIOU')\n",
    "print('result:', result)"
   ]
  },
  {
   "cell_type": "markdown",
   "id": "b0307b3c-4685-41a3-ad26-75efbd7623c4",
   "metadata": {},
   "source": [
    "# Method 3"
   ]
  },
  {
   "cell_type": "code",
   "execution_count": 68,
   "id": "4b4e0851-b385-480d-99c9-bbce62fcfb44",
   "metadata": {},
   "outputs": [],
   "source": [
    "def remove_vowels_3(input_str):\n",
    "    a = 'aeiouAEIOU'\n",
    "    output_list = [l for l in input_str if l not in a]\n",
    "    # print('output_list: ', output_list)\n",
    "    return ''.join(output_list)"
   ]
  },
  {
   "cell_type": "code",
   "execution_count": 70,
   "id": "1007c524-c2dd-4c43-81e8-080f6d6a3551",
   "metadata": {},
   "outputs": [
    {
     "name": "stdout",
     "output_type": "stream",
     "text": [
      "result: Hll Wrld!\n"
     ]
    }
   ],
   "source": [
    "result = remove_vowels_3('Hello World!')\n",
    "print('result:', result)"
   ]
  },
  {
   "cell_type": "code",
   "execution_count": 72,
   "id": "0fcdec85-8fb0-4d44-b9e4-4c584114318f",
   "metadata": {},
   "outputs": [
    {
     "name": "stdout",
     "output_type": "stream",
     "text": [
      "result: \n"
     ]
    }
   ],
   "source": [
    "result = remove_vowels_3('aeiouAEIOU')\n",
    "print('result:', result)"
   ]
  },
  {
   "cell_type": "code",
   "execution_count": null,
   "id": "c0e4fa8f-26b4-4c81-b6ef-52ce4ae717f9",
   "metadata": {},
   "outputs": [],
   "source": []
  }
 ],
 "metadata": {
  "kernelspec": {
   "display_name": "Python 3 (ipykernel)",
   "language": "python",
   "name": "python3"
  },
  "language_info": {
   "codemirror_mode": {
    "name": "ipython",
    "version": 3
   },
   "file_extension": ".py",
   "mimetype": "text/x-python",
   "name": "python",
   "nbconvert_exporter": "python",
   "pygments_lexer": "ipython3",
   "version": "3.12.4"
  }
 },
 "nbformat": 4,
 "nbformat_minor": 5
}

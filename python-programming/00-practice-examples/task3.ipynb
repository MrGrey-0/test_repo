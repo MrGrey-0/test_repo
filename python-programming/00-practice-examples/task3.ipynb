{
 "cells": [
  {
   "cell_type": "code",
   "execution_count": 1,
   "id": "ed97842d-7c27-4e2d-90e8-7fad11fd4a11",
   "metadata": {},
   "outputs": [],
   "source": [
    "def sum_even(input_nums):\n",
    "    a = 0\n",
    "    for i in input_nums:\n",
    "        if i%2 == 0:\n",
    "            a += i \n",
    "    return a"
   ]
  },
  {
   "cell_type": "code",
   "execution_count": 3,
   "id": "47af9bf5-0441-4c10-a61e-e82dd9b15f0b",
   "metadata": {},
   "outputs": [],
   "source": [
    "result = sum_even([1,2,3,4,5,6,7,8,9,10])"
   ]
  },
  {
   "cell_type": "code",
   "execution_count": 5,
   "id": "5a7890d3-9bfc-465b-9c94-e1fc41f859a4",
   "metadata": {},
   "outputs": [
    {
     "name": "stdout",
     "output_type": "stream",
     "text": [
      "30\n"
     ]
    }
   ],
   "source": [
    "print(result)"
   ]
  },
  {
   "cell_type": "code",
   "execution_count": 9,
   "id": "8edba25a-576d-4a2b-bfba-fa628757b5a6",
   "metadata": {},
   "outputs": [
    {
     "name": "stdout",
     "output_type": "stream",
     "text": [
      "150\n"
     ]
    }
   ],
   "source": [
    "result = sum_even([10,20,30,40,50])\n",
    "print(result)"
   ]
  },
  {
   "cell_type": "code",
   "execution_count": 11,
   "id": "f08b8038-6355-44e7-b5a9-edfc0e08ed5a",
   "metadata": {},
   "outputs": [
    {
     "name": "stdout",
     "output_type": "stream",
     "text": [
      "0\n"
     ]
    }
   ],
   "source": [
    "result = sum_even([9,7,5,3,1])\n",
    "print(result)"
   ]
  },
  {
   "cell_type": "markdown",
   "id": "469fc701-362e-4de3-b849-721e393662d6",
   "metadata": {},
   "source": [
    "# Case 2"
   ]
  },
  {
   "cell_type": "code",
   "execution_count": 18,
   "id": "0a2ff8f4-5ee4-4710-8b9f-be397e2b9e0b",
   "metadata": {},
   "outputs": [],
   "source": [
    "def sum_even_2(input_nums):\n",
    "    a = 0\n",
    "    for i in input_nums:\n",
    "        print('i: ', i)\n",
    "        if i%2 == 0:\n",
    "            a += i \n",
    "            print('a: ', a)\n",
    "        return a   # this is within for loop, but outside of if statement"
   ]
  },
  {
   "cell_type": "code",
   "execution_count": 20,
   "id": "58362f0e-3b28-407b-9e57-2762ebc86657",
   "metadata": {},
   "outputs": [
    {
     "name": "stdout",
     "output_type": "stream",
     "text": [
      "i:  1\n",
      "result:  0\n"
     ]
    }
   ],
   "source": [
    "result = sum_even_2([1,2,3,4,5,6,7,8,9,10])\n",
    "print('result: ',result)"
   ]
  },
  {
   "cell_type": "code",
   "execution_count": 22,
   "id": "75c0d5d5-fba1-4af7-818c-53e8f2865f43",
   "metadata": {},
   "outputs": [
    {
     "name": "stdout",
     "output_type": "stream",
     "text": [
      "i:  10\n",
      "a:  10\n",
      "10\n"
     ]
    }
   ],
   "source": [
    "result = sum_even_2([10,20,30,40,50])\n",
    "print(result)"
   ]
  },
  {
   "cell_type": "code",
   "execution_count": 24,
   "id": "8f9cb7ae-2736-4b49-9b66-02a9e1b2eae0",
   "metadata": {},
   "outputs": [
    {
     "name": "stdout",
     "output_type": "stream",
     "text": [
      "i:  9\n",
      "0\n"
     ]
    }
   ],
   "source": [
    "result = sum_even_2([9,7,5,3,1])\n",
    "print(result)"
   ]
  },
  {
   "cell_type": "markdown",
   "id": "7b935844-ef01-4951-b42f-d5107bc50bd6",
   "metadata": {},
   "source": [
    "# Case 3"
   ]
  },
  {
   "cell_type": "code",
   "execution_count": 27,
   "id": "dfbd385f-cf57-4ebb-b552-3466601203ae",
   "metadata": {},
   "outputs": [],
   "source": [
    "def sum_even_3(input_nums):\n",
    "    a = 0\n",
    "    for i in input_nums:\n",
    "        print('i: ', i)\n",
    "        if i%2 == 0:\n",
    "            a += i \n",
    "            print('a: ', a)\n",
    "            return a   # return is within if statement"
   ]
  },
  {
   "cell_type": "code",
   "execution_count": 29,
   "id": "aef774cb-bb1f-40a2-b58c-59ae8bc59b70",
   "metadata": {},
   "outputs": [
    {
     "name": "stdout",
     "output_type": "stream",
     "text": [
      "i:  1\n",
      "i:  2\n",
      "a:  2\n",
      "result:  2\n"
     ]
    }
   ],
   "source": [
    "result = sum_even_3([1,2,3,4,5,6,7,8,9,10])\n",
    "print('result: ',result)"
   ]
  },
  {
   "cell_type": "code",
   "execution_count": 33,
   "id": "b09c852a-54c3-4ee2-9ae1-85771c93b782",
   "metadata": {},
   "outputs": [
    {
     "name": "stdout",
     "output_type": "stream",
     "text": [
      "i:  10\n",
      "a:  10\n",
      "10\n"
     ]
    }
   ],
   "source": [
    "result = sum_even_3([10,20,30,40,50])\n",
    "print(result)"
   ]
  },
  {
   "cell_type": "code",
   "execution_count": 35,
   "id": "39473110-bf40-4ff4-b859-28835091f2b4",
   "metadata": {},
   "outputs": [
    {
     "name": "stdout",
     "output_type": "stream",
     "text": [
      "i:  9\n",
      "i:  7\n",
      "i:  5\n",
      "i:  3\n",
      "i:  1\n",
      "None\n"
     ]
    }
   ],
   "source": [
    "result = sum_even_3([9,7,5,3,1])\n",
    "print(result)"
   ]
  },
  {
   "cell_type": "markdown",
   "id": "11af5148-fdab-4c67-8e97-3baf7c445f0e",
   "metadata": {},
   "source": [
    "# Case 4"
   ]
  },
  {
   "cell_type": "code",
   "execution_count": 50,
   "id": "c5609077-f959-44aa-ba18-8495a6bc22b5",
   "metadata": {},
   "outputs": [],
   "source": [
    "def sum_even_4(input_nums):\n",
    "    a = 0\n",
    "    input_nums.sort()\n",
    "    for i in input_nums:\n",
    "        print('i: ', i)\n",
    "        if i%2 == 0:\n",
    "            a += i \n",
    "            print('a: ', a)\n",
    "            return a   # return is within if statement"
   ]
  },
  {
   "cell_type": "code",
   "execution_count": 52,
   "id": "23e42903-8904-4e9a-a3f3-de67c38ef943",
   "metadata": {},
   "outputs": [
    {
     "name": "stdout",
     "output_type": "stream",
     "text": [
      "i:  1\n",
      "i:  2\n",
      "a:  2\n",
      "result:  2\n"
     ]
    }
   ],
   "source": [
    "result = sum_even_4([10,9,8,7,6,5,4,3,2,1])\n",
    "print('result: ',result)"
   ]
  },
  {
   "cell_type": "code",
   "execution_count": 54,
   "id": "9a8d2a5d-5bb3-447c-ba71-1cd985de3ed2",
   "metadata": {},
   "outputs": [
    {
     "name": "stdout",
     "output_type": "stream",
     "text": [
      "i:  3\n",
      "i:  5\n",
      "i:  6\n",
      "a:  6\n",
      "result:  6\n"
     ]
    }
   ],
   "source": [
    "result = sum_even_4([7,5,14,3,9,6])\n",
    "print('result: ',result)"
   ]
  },
  {
   "cell_type": "code",
   "execution_count": 56,
   "id": "7f183f28-c8ac-401e-9f54-ab61bce6ba1c",
   "metadata": {},
   "outputs": [
    {
     "name": "stdout",
     "output_type": "stream",
     "text": [
      "i:  1\n",
      "i:  3\n",
      "i:  5\n",
      "i:  7\n",
      "i:  9\n",
      "None\n"
     ]
    }
   ],
   "source": [
    "result = sum_even_4([9,7,5,3,1])\n",
    "print(result)"
   ]
  },
  {
   "cell_type": "code",
   "execution_count": 58,
   "id": "374d754a-4b2e-46bf-9a15-a52125bd34a1",
   "metadata": {},
   "outputs": [
    {
     "data": {
      "text/plain": [
       "[900, 700, 500, 300, 100]"
      ]
     },
     "execution_count": 58,
     "metadata": {},
     "output_type": "execute_result"
    }
   ],
   "source": [
    "[i*100 for i in [9,7,5,3,1]]"
   ]
  },
  {
   "cell_type": "code",
   "execution_count": null,
   "id": "47d19091-1062-4ca0-ab5b-ebf2393202d5",
   "metadata": {},
   "outputs": [],
   "source": []
  },
  {
   "cell_type": "markdown",
   "id": "2bd45184-d208-48d6-abc6-b77be798f9e7",
   "metadata": {},
   "source": [
    "# For your information"
   ]
  },
  {
   "cell_type": "code",
   "execution_count": null,
   "id": "a3e91e78-8a0c-444d-a538-cb516c1724e6",
   "metadata": {},
   "outputs": [],
   "source": [
    "\"\"\"\n",
    "x %n --- Reminder: 0 , n-1\n",
    "n = 2 --- Reminders: 0 , 1\n",
    "n = 3 --- Reminder: 0, 1, 2\n",
    "n = 4 --- Reminder: 0, 1, 2, 3\n",
    "\n",
    "1 %2 -- 1\n",
    "2%2 -- 0\n",
    "3%2 -- 1\n",
    "4%2 -- 0\n",
    "\"\"\""
   ]
  },
  {
   "cell_type": "code",
   "execution_count": null,
   "id": "55523519-94c6-4bc5-82b8-cfe5f62b5873",
   "metadata": {},
   "outputs": [],
   "source": []
  }
 ],
 "metadata": {
  "kernelspec": {
   "display_name": "Python 3 (ipykernel)",
   "language": "python",
   "name": "python3"
  },
  "language_info": {
   "codemirror_mode": {
    "name": "ipython",
    "version": 3
   },
   "file_extension": ".py",
   "mimetype": "text/x-python",
   "name": "python",
   "nbconvert_exporter": "python",
   "pygments_lexer": "ipython3",
   "version": "3.12.4"
  }
 },
 "nbformat": 4,
 "nbformat_minor": 5
}

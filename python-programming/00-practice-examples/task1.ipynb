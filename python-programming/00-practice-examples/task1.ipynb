{
 "cells": [
  {
   "cell_type": "code",
   "execution_count": 20,
   "id": "459e4866-9dec-4fa8-9e49-284ef95a2f96",
   "metadata": {},
   "outputs": [],
   "source": [
    "def filter_strings_containing_a(input_strs):\n",
    "    output_list = []\n",
    "    for input_str in input_strs:\n",
    "        if 'a' in input_str:\n",
    "            output_list.append(input_str)\n",
    "    return output_list"
   ]
  },
  {
   "cell_type": "code",
   "execution_count": 4,
   "id": "cba269e2-9cbf-4328-8c8a-de570ea94edd",
   "metadata": {},
   "outputs": [],
   "source": [
    "test_input = [\"apple\", \"banana\", \"cherry\", \"date\"]"
   ]
  },
  {
   "cell_type": "code",
   "execution_count": 8,
   "id": "2f483253-7916-41fc-86c4-3514728f4796",
   "metadata": {},
   "outputs": [
    {
     "data": {
      "text/plain": [
       "False"
      ]
     },
     "execution_count": 8,
     "metadata": {},
     "output_type": "execute_result"
    }
   ],
   "source": [
    "'z' in 'apple'"
   ]
  },
  {
   "cell_type": "code",
   "execution_count": 16,
   "id": "16795475-87de-4c70-9f3d-e43dda21e6eb",
   "metadata": {},
   "outputs": [
    {
     "data": {
      "text/plain": [
       "['apple', 'banana', 'date']"
      ]
     },
     "execution_count": 16,
     "metadata": {},
     "output_type": "execute_result"
    }
   ],
   "source": [
    "filter_strings_containing_a(test_input)"
   ]
  },
  {
   "cell_type": "code",
   "execution_count": 22,
   "id": "d690e08d-df35-47ed-b628-86d570259b66",
   "metadata": {},
   "outputs": [
    {
     "data": {
      "text/plain": [
       "['apple', 'banana', 'date']"
      ]
     },
     "execution_count": 22,
     "metadata": {},
     "output_type": "execute_result"
    }
   ],
   "source": [
    "filter_strings_containing_a([\"apple\", \"banana\", \"cherry\", \"date\"])"
   ]
  },
  {
   "cell_type": "code",
   "execution_count": 24,
   "id": "23e426d4-be45-4a0e-8db2-e6620bd53c73",
   "metadata": {},
   "outputs": [
    {
     "data": {
      "text/plain": [
       "[]"
      ]
     },
     "execution_count": 24,
     "metadata": {},
     "output_type": "execute_result"
    }
   ],
   "source": [
    "filter_strings_containing_a([])"
   ]
  },
  {
   "cell_type": "code",
   "execution_count": 26,
   "id": "be64528b-e7e7-452f-8742-ffc730aaca47",
   "metadata": {},
   "outputs": [
    {
     "data": {
      "text/plain": [
       "[]"
      ]
     },
     "execution_count": 26,
     "metadata": {},
     "output_type": "execute_result"
    }
   ],
   "source": [
    "filter_strings_containing_a(['bbbb','cccc'])"
   ]
  },
  {
   "cell_type": "code",
   "execution_count": 34,
   "id": "c2eec15f-d388-4746-9977-e7a4617c1a48",
   "metadata": {},
   "outputs": [],
   "source": [
    "def filter_strings_containing_a(input_strs):\n",
    "    return [input_str for input_str in input_strs if 'a' in input_str]"
   ]
  },
  {
   "cell_type": "code",
   "execution_count": 32,
   "id": "79f01264-8fbe-474d-a7fd-56889b6de09e",
   "metadata": {},
   "outputs": [
    {
     "data": {
      "text/plain": [
       "['apple', 'banana', 'date']"
      ]
     },
     "execution_count": 32,
     "metadata": {},
     "output_type": "execute_result"
    }
   ],
   "source": [
    "filter_strings_containing_a([\"apple\", \"banana\", \"cherry\", \"date\"])"
   ]
  },
  {
   "cell_type": "code",
   "execution_count": 36,
   "id": "72d4f167-1496-4bf3-b5d6-29a96662f7a2",
   "metadata": {},
   "outputs": [],
   "source": [
    "filtered_strings = filter_strings_containing_a([\"apple\", \"banana\", \"cherry\", \"date\"])"
   ]
  },
  {
   "cell_type": "code",
   "execution_count": 38,
   "id": "88db1e1b-2404-43cd-b150-811c67f00747",
   "metadata": {},
   "outputs": [
    {
     "name": "stdout",
     "output_type": "stream",
     "text": [
      "['apple', 'banana', 'date']\n"
     ]
    }
   ],
   "source": [
    "print(filtered_strings)"
   ]
  },
  {
   "cell_type": "code",
   "execution_count": null,
   "id": "cad97433-8b02-425c-ae73-8c0b4ddf3be9",
   "metadata": {},
   "outputs": [],
   "source": []
  },
  {
   "cell_type": "code",
   "execution_count": null,
   "id": "0a4ce9bf-d181-4670-a3ac-e4783e0b622f",
   "metadata": {},
   "outputs": [],
   "source": []
  },
  {
   "cell_type": "code",
   "execution_count": null,
   "id": "e1b3ed5f-352f-4e5b-b766-28ceb38e9d67",
   "metadata": {},
   "outputs": [],
   "source": []
  },
  {
   "cell_type": "code",
   "execution_count": 10,
   "id": "c865c8ee-07af-49c8-ba93-96c6e31bfd0b",
   "metadata": {},
   "outputs": [],
   "source": [
    "numbers = [1,2,3,4,5]"
   ]
  },
  {
   "cell_type": "code",
   "execution_count": 12,
   "id": "7f6408d4-01b1-452b-bf83-fac90e5f83ff",
   "metadata": {},
   "outputs": [
    {
     "name": "stdout",
     "output_type": "stream",
     "text": [
      "1\n",
      "2\n",
      "3\n",
      "4\n",
      "5\n"
     ]
    }
   ],
   "source": [
    "for number in numbers:\n",
    "    print(number)"
   ]
  },
  {
   "cell_type": "code",
   "execution_count": null,
   "id": "fbc8a6e6-ae7b-49bc-ad28-702f4b914e2a",
   "metadata": {},
   "outputs": [],
   "source": []
  }
 ],
 "metadata": {
  "kernelspec": {
   "display_name": "Python 3 (ipykernel)",
   "language": "python",
   "name": "python3"
  },
  "language_info": {
   "codemirror_mode": {
    "name": "ipython",
    "version": 3
   },
   "file_extension": ".py",
   "mimetype": "text/x-python",
   "name": "python",
   "nbconvert_exporter": "python",
   "pygments_lexer": "ipython3",
   "version": "3.12.4"
  }
 },
 "nbformat": 4,
 "nbformat_minor": 5
}

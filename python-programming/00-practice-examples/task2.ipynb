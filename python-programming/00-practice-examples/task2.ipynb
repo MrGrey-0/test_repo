{
 "cells": [
  {
   "cell_type": "code",
   "execution_count": 2,
   "id": "6d750e7c-8c57-4396-93e6-f6c1b50c876f",
   "metadata": {},
   "outputs": [],
   "source": [
    "def sum_if_less_than_fifty(num_one, num_two):\n",
    "    sum = num_one + num_two\n",
    "    if sum < 50:\n",
    "        return sum\n",
    "    else:\n",
    "        return None"
   ]
  },
  {
   "cell_type": "code",
   "execution_count": 6,
   "id": "32b50490-cd81-4089-9fc2-de1d2408692e",
   "metadata": {},
   "outputs": [
    {
     "name": "stdout",
     "output_type": "stream",
     "text": [
      "45\n"
     ]
    }
   ],
   "source": [
    "result = sum_if_less_than_fifty(20, 25)\n",
    "print(result)"
   ]
  },
  {
   "cell_type": "code",
   "execution_count": 8,
   "id": "1d7a62c1-3a91-4f62-b268-42d694c82a0b",
   "metadata": {},
   "outputs": [
    {
     "name": "stdout",
     "output_type": "stream",
     "text": [
      "None\n"
     ]
    }
   ],
   "source": [
    "result = sum_if_less_than_fifty(20, 30)\n",
    "print(result)"
   ]
  },
  {
   "cell_type": "code",
   "execution_count": 10,
   "id": "6a32e386-0b10-4c87-a6c3-f1cdd143dd20",
   "metadata": {},
   "outputs": [
    {
     "name": "stdout",
     "output_type": "stream",
     "text": [
      "None\n"
     ]
    }
   ],
   "source": [
    "result = sum_if_less_than_fifty(20, 100)\n",
    "print(result)"
   ]
  },
  {
   "cell_type": "code",
   "execution_count": 18,
   "id": "c8d7e028-9cf0-44f5-983b-32246d3c0cb3",
   "metadata": {},
   "outputs": [
    {
     "name": "stdout",
     "output_type": "stream",
     "text": [
      "num_one:  20\n",
      "num_two:  20\n",
      "Output:  40\n"
     ]
    }
   ],
   "source": [
    "num_one = 20\n",
    "num_two = 20\n",
    "print(\"num_one: \", num_one)\n",
    "print(\"num_two: \", num_two)\n",
    "result = sum_if_less_than_fifty(num_one, num_two)\n",
    "print(\"Output: \", result)"
   ]
  },
  {
   "cell_type": "code",
   "execution_count": 20,
   "id": "ad8812d9-c837-463a-b178-859219bb3c17",
   "metadata": {},
   "outputs": [
    {
     "name": "stdout",
     "output_type": "stream",
     "text": [
      "num_one:  20\n",
      "num_two:  30\n",
      "Output:  None\n"
     ]
    }
   ],
   "source": [
    "num_one = 20\n",
    "num_two = 30\n",
    "print(\"num_one: \", num_one)\n",
    "print(\"num_two: \", num_two)\n",
    "result = sum_if_less_than_fifty(num_one, num_two)\n",
    "print(\"Output: \", result)"
   ]
  },
  {
   "cell_type": "code",
   "execution_count": 22,
   "id": "6b22d943-ca8e-4451-91fc-fede3a06f7c5",
   "metadata": {},
   "outputs": [
    {
     "name": "stdout",
     "output_type": "stream",
     "text": [
      "num_one:  20\n",
      "num_two:  100\n",
      "Output:  None\n"
     ]
    }
   ],
   "source": [
    "num_one = 20\n",
    "num_two = 100\n",
    "print(\"num_one: \", num_one)\n",
    "print(\"num_two: \", num_two)\n",
    "result = sum_if_less_than_fifty(num_one, num_two)\n",
    "print(\"Output: \", result)"
   ]
  },
  {
   "cell_type": "code",
   "execution_count": 46,
   "id": "d69812b8-42a2-4670-83bd-2dcc0386bada",
   "metadata": {},
   "outputs": [],
   "source": [
    "def sum_if_less_than_fifty(num_one, num_two):\n",
    "    sum = num_one + num_two\n",
    "    return sum if (sum < 50) else None"
   ]
  },
  {
   "cell_type": "code",
   "execution_count": 26,
   "id": "e222a66e-c0e5-4aef-afca-442b4eb2e02e",
   "metadata": {},
   "outputs": [
    {
     "name": "stdout",
     "output_type": "stream",
     "text": [
      "10\n"
     ]
    }
   ],
   "source": [
    "sum = 10\n",
    "if sum < 50:\n",
    "    print(sum)\n",
    "else:\n",
    "    print(None)"
   ]
  },
  {
   "cell_type": "code",
   "execution_count": 30,
   "id": "a0e7db37-ebe2-4b13-a35d-a8f276e9214c",
   "metadata": {},
   "outputs": [
    {
     "name": "stdout",
     "output_type": "stream",
     "text": [
      "10\n"
     ]
    }
   ],
   "source": [
    "print(sum) if sum < 50 else print(None)"
   ]
  },
  {
   "cell_type": "code",
   "execution_count": 32,
   "id": "742baa16-82ea-47d6-b461-49c31035d1c8",
   "metadata": {},
   "outputs": [],
   "source": [
    "if sum % 2 == 0:\n",
    "    sum = sum * 2\n",
    "else:\n",
    "    sum = sum * 5"
   ]
  },
  {
   "cell_type": "code",
   "execution_count": 42,
   "id": "8c7458ba-1db5-4286-8381-92748b075b70",
   "metadata": {},
   "outputs": [
    {
     "name": "stdout",
     "output_type": "stream",
     "text": [
      "11\n"
     ]
    }
   ],
   "source": [
    "sum = 11\n",
    "print(sum)"
   ]
  },
  {
   "cell_type": "code",
   "execution_count": 44,
   "id": "d64e0b11-1dd2-4439-b614-8b71531027ae",
   "metadata": {},
   "outputs": [
    {
     "data": {
      "text/plain": [
       "55"
      ]
     },
     "execution_count": 44,
     "metadata": {},
     "output_type": "execute_result"
    }
   ],
   "source": [
    "sum * 2 if (sum % 2 == 0) else sum * 5"
   ]
  },
  {
   "cell_type": "code",
   "execution_count": 48,
   "id": "ebfa192e-26ec-4285-bdbf-93dd93bdee7c",
   "metadata": {},
   "outputs": [],
   "source": [
    "def sum_if_less_than_fifty(num_one, num_two):\n",
    "    sum = num_one + num_two\n",
    "    return sum if (sum < 50) else None"
   ]
  },
  {
   "cell_type": "code",
   "execution_count": 50,
   "id": "56b081ad-2ceb-4910-9d7a-ca99041891ae",
   "metadata": {},
   "outputs": [
    {
     "name": "stdout",
     "output_type": "stream",
     "text": [
      "45\n"
     ]
    }
   ],
   "source": [
    "result = sum_if_less_than_fifty(20, 25)\n",
    "print(result)"
   ]
  },
  {
   "cell_type": "code",
   "execution_count": 52,
   "id": "0e5fc815-6ed7-417b-ba75-2b08a7724e50",
   "metadata": {},
   "outputs": [
    {
     "name": "stdout",
     "output_type": "stream",
     "text": [
      "None\n"
     ]
    }
   ],
   "source": [
    "result = sum_if_less_than_fifty(20, 30)\n",
    "print(result)"
   ]
  },
  {
   "cell_type": "code",
   "execution_count": 54,
   "id": "c9666cfc-ed92-4071-ae61-4ca5eb8771f0",
   "metadata": {},
   "outputs": [
    {
     "name": "stdout",
     "output_type": "stream",
     "text": [
      "None\n"
     ]
    }
   ],
   "source": [
    "result = sum_if_less_than_fifty(20, 100)\n",
    "print(result)"
   ]
  },
  {
   "cell_type": "code",
   "execution_count": null,
   "id": "8b1d348d-017d-486a-8e8d-d0892f7d19b5",
   "metadata": {},
   "outputs": [],
   "source": [
    "Nandini - Nndn\n",
    "Vijaya --  Vjy"
   ]
  },
  {
   "cell_type": "code",
   "execution_count": null,
   "id": "a74894de-3a53-4ab2-b97a-6b515fc5d04b",
   "metadata": {},
   "outputs": [],
   "source": [
    "vowels -- a, e, i, o, u"
   ]
  }
 ],
 "metadata": {
  "kernelspec": {
   "display_name": "Python 3 (ipykernel)",
   "language": "python",
   "name": "python3"
  },
  "language_info": {
   "codemirror_mode": {
    "name": "ipython",
    "version": 3
   },
   "file_extension": ".py",
   "mimetype": "text/x-python",
   "name": "python",
   "nbconvert_exporter": "python",
   "pygments_lexer": "ipython3",
   "version": "3.12.4"
  }
 },
 "nbformat": 4,
 "nbformat_minor": 5
}
